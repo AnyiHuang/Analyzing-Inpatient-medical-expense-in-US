{
 "cells": [
  {
   "cell_type": "markdown",
   "metadata": {},
   "source": [
    "# BA780 Analyzing Inpatient medical expense in US"
   ]
  },
  {
   "cell_type": "markdown",
   "metadata": {},
   "source": [
    "## Contents\n",
    "\n",
    "### 1. Introduction\n",
    "##### 1.1 Tableau Visualization\n",
    "##### 1.2 Data source\n",
    "##### 1.3 Objectives\n",
    "##### 1.4 Term Explanation\n",
    "\n",
    "### 2. Data Preparation\n",
    "##### 2.1 Data Pre-processing\n",
    "##### 2.2 Data Overview\n",
    "\n",
    "### 3. Exploratory Data Analysis\n",
    "##### 3.1 Total Payment by State\n",
    "##### 3.2 Medicare Payment by State\n",
    "##### 3.3 Coverage Rate by State\n",
    "##### 3.4 Coverage Rate Findings\n",
    "\n",
    "### 4. Conclusions\n",
    "\n",
    "### 5. References"
   ]
  },
  {
   "cell_type": "markdown",
   "metadata": {},
   "source": [
    "## 1. Introduction"
   ]
  },
  {
   "cell_type": "markdown",
   "metadata": {},
   "source": [
    "#### 1.2 Data source"
   ]
  },
  {
   "cell_type": "markdown",
   "metadata": {},
   "source": [
    "We collect our data from CMS(Centers for Medicare & Medicaid Services) official website. CMS is a federal agency within the United States Department of Health and Human Services (HHS) that administers the Medicare program and works in partnership with state governments to administer Medicaid, the Children's Health Insurance Program (CHIP), and health insurance portability standards. We are going to focus on analyzing the data 'Medicare Provider Utilization and Payment Data: Inpatient' from the year 2011 to 2017. Moreover, we collect the United state's household income by states and life expectancy by state data from the CDC(Centers for Disease Control and Prevention) and the United States Census Bureau. We will use the US household income from 2010 to 2017 by states and the life expectancy data including estimates of U.S. life expectancy at birth by state and census tract for the period 2010-2015. "
   ]
  },
  {
   "cell_type": "markdown",
   "metadata": {},
   "source": [
    "#### 1.3 Objectives"
   ]
  },
  {
   "cell_type": "markdown",
   "metadata": {},
   "source": [
    "Our goal is to analyze the inpatient expense of US medicare. We would like to explore the relations of covered rate, medicare charges, and total payments with regions, using visualization for medical charges and payments in different states from 2011 to 2017. Based on the exploratory analysis results, we will further utilize a machine learning model to predict total payments using relevant features. In addition, we are going to find and to analyze the relationship between inpatient expense and household income, inpatient expense, and life expectancy. "
   ]
  },
  {
   "cell_type": "markdown",
   "metadata": {},
   "source": [
    "#### 1.4 Term Explanation"
   ]
  },
  {
   "cell_type": "markdown",
   "metadata": {},
   "source": [
    "The following terms are 3 primary factors that we use to analyze the inpatient expense of US medicare. \n",
    "- Total payments: all expenses that the hospital charged to patients(amount of patient paid + amount of medicare paid) \n",
    "- Medicare payment: the amount of expenses that paid by Medicare\n",
    "- Cover rate: Medicare payment/Total Payments\n"
   ]
  },
  {
   "cell_type": "markdown",
   "metadata": {},
   "source": [
    "## 2. Data Preparation"
   ]
  },
  {
   "cell_type": "markdown",
   "metadata": {},
   "source": [
    "#### 2.1 Data Pre-processing"
   ]
  },
  {
   "cell_type": "markdown",
   "metadata": {},
   "source": [
    "##### Import packages"
   ]
  },
  {
   "cell_type": "code",
   "execution_count": 1,
   "metadata": {},
   "outputs": [
    {
     "name": "stdout",
     "output_type": "stream",
     "text": [
      "Requirement already satisfied: plotly in /opt/conda/lib/python3.7/site-packages (4.12.0)\n",
      "Requirement already satisfied: retrying>=1.3.3 in /opt/conda/lib/python3.7/site-packages (from plotly) (1.3.3)\n",
      "Requirement already satisfied: six in /opt/conda/lib/python3.7/site-packages (from plotly) (1.15.0)\n",
      "Note: you may need to restart the kernel to use updated packages.\n"
     ]
    }
   ],
   "source": [
    "pip install plotly"
   ]
  },
  {
   "cell_type": "code",
   "execution_count": 33,
   "metadata": {},
   "outputs": [],
   "source": [
    "import pandas as pd\n",
    "import matplotlib.pyplot as plt\n",
    "import seaborn as sns\n",
    "import plotly.express as px"
   ]
  },
  {
   "cell_type": "code",
   "execution_count": 59,
   "metadata": {},
   "outputs": [],
   "source": [
    "inpatient_2015=pd.read_csv('inpatient_2015.csv')\n",
    "inpatient_2017=pd.read_csv('Inpatient_2017.csv')\n",
    "life_expectancy = pd.read_csv('US_life_expectancy.csv')\n",
    "payment_7years = pd.read_csv('patments_by_state_in_7_years.csv')"
   ]
  },
  {
   "cell_type": "code",
   "execution_count": 35,
   "metadata": {},
   "outputs": [
    {
     "name": "stdout",
     "output_type": "stream",
     "text": [
      "<class 'pandas.core.frame.DataFrame'>\n",
      "RangeIndex: 51 entries, 0 to 50\n",
      "Data columns (total 2 columns):\n",
      " #   Column           Non-Null Count  Dtype  \n",
      "---  ------           --------------  -----  \n",
      " 0   State            51 non-null     object \n",
      " 1   Life Expectancy  51 non-null     float64\n",
      "dtypes: float64(1), object(1)\n",
      "memory usage: 944.0+ bytes\n"
     ]
    }
   ],
   "source": [
    "life_expectancy.info()"
   ]
  },
  {
   "cell_type": "markdown",
   "metadata": {},
   "source": [
    "For data pre-processing, we reintegrated the inpatient tables of 'cms_medicare' dataset from 'bigquery-public-data', inserted 'year' column to make it clear when we union the tables for our future analysis."
   ]
  },
  {
   "cell_type": "code",
   "execution_count": null,
   "metadata": {},
   "outputs": [],
   "source": [
    "%%bigquery\n",
    "CREATE OR REPLACE TABLE temp.inpatient_2011 as\n",
    "SELECT * ,2011 AS year \n",
    "FROM `bigquery-public-data.cms_medicare.inpatient_charges_2011`"
   ]
  },
  {
   "cell_type": "markdown",
   "metadata": {},
   "source": [
    "#### 2.2 Data Overview"
   ]
  },
  {
   "cell_type": "markdown",
   "metadata": {},
   "source": [
    "At the beginning, we will look at the overall average level of medical payments in the United States from 2011 to 2017."
   ]
  },
  {
   "cell_type": "code",
   "execution_count": 40,
   "metadata": {},
   "outputs": [
    {
     "data": {
      "text/html": [
       "<div>\n",
       "<style scoped>\n",
       "    .dataframe tbody tr th:only-of-type {\n",
       "        vertical-align: middle;\n",
       "    }\n",
       "\n",
       "    .dataframe tbody tr th {\n",
       "        vertical-align: top;\n",
       "    }\n",
       "\n",
       "    .dataframe thead th {\n",
       "        text-align: right;\n",
       "    }\n",
       "</style>\n",
       "<table border=\"1\" class=\"dataframe\">\n",
       "  <thead>\n",
       "    <tr style=\"text-align: right;\">\n",
       "      <th></th>\n",
       "      <th>average_medicare_payments</th>\n",
       "      <th>average_total_payments</th>\n",
       "      <th>cover_rate</th>\n",
       "    </tr>\n",
       "    <tr>\n",
       "      <th>provider_state</th>\n",
       "      <th></th>\n",
       "      <th></th>\n",
       "      <th></th>\n",
       "    </tr>\n",
       "  </thead>\n",
       "  <tbody>\n",
       "    <tr>\n",
       "      <th>AK</th>\n",
       "      <td>16106.918221</td>\n",
       "      <td>18215.897757</td>\n",
       "      <td>0.884286</td>\n",
       "    </tr>\n",
       "    <tr>\n",
       "      <th>AL</th>\n",
       "      <td>7754.205628</td>\n",
       "      <td>9184.425350</td>\n",
       "      <td>0.844714</td>\n",
       "    </tr>\n",
       "    <tr>\n",
       "      <th>AR</th>\n",
       "      <td>8246.934734</td>\n",
       "      <td>9588.599765</td>\n",
       "      <td>0.860286</td>\n",
       "    </tr>\n",
       "    <tr>\n",
       "      <th>AZ</th>\n",
       "      <td>10904.995155</td>\n",
       "      <td>12628.809417</td>\n",
       "      <td>0.863286</td>\n",
       "    </tr>\n",
       "    <tr>\n",
       "      <th>CA</th>\n",
       "      <td>14054.084942</td>\n",
       "      <td>15770.225333</td>\n",
       "      <td>0.892429</td>\n",
       "    </tr>\n",
       "    <tr>\n",
       "      <th>CO</th>\n",
       "      <td>10425.011035</td>\n",
       "      <td>12301.239613</td>\n",
       "      <td>0.848286</td>\n",
       "    </tr>\n",
       "    <tr>\n",
       "      <th>CT</th>\n",
       "      <td>11762.581513</td>\n",
       "      <td>13709.278484</td>\n",
       "      <td>0.860143</td>\n",
       "    </tr>\n",
       "    <tr>\n",
       "      <th>DC</th>\n",
       "      <td>13924.988043</td>\n",
       "      <td>17226.688898</td>\n",
       "      <td>0.817143</td>\n",
       "    </tr>\n",
       "    <tr>\n",
       "      <th>DE</th>\n",
       "      <td>10837.459785</td>\n",
       "      <td>12921.799902</td>\n",
       "      <td>0.842143</td>\n",
       "    </tr>\n",
       "    <tr>\n",
       "      <th>FL</th>\n",
       "      <td>8987.090443</td>\n",
       "      <td>10493.430109</td>\n",
       "      <td>0.857000</td>\n",
       "    </tr>\n",
       "    <tr>\n",
       "      <th>GA</th>\n",
       "      <td>9383.260477</td>\n",
       "      <td>10941.549736</td>\n",
       "      <td>0.857429</td>\n",
       "    </tr>\n",
       "    <tr>\n",
       "      <th>HI</th>\n",
       "      <td>13232.578844</td>\n",
       "      <td>16124.174791</td>\n",
       "      <td>0.823286</td>\n",
       "    </tr>\n",
       "    <tr>\n",
       "      <th>IA</th>\n",
       "      <td>8914.977750</td>\n",
       "      <td>10404.477200</td>\n",
       "      <td>0.856714</td>\n",
       "    </tr>\n",
       "    <tr>\n",
       "      <th>ID</th>\n",
       "      <td>10106.987116</td>\n",
       "      <td>11813.732734</td>\n",
       "      <td>0.855571</td>\n",
       "    </tr>\n",
       "    <tr>\n",
       "      <th>IL</th>\n",
       "      <td>9736.532876</td>\n",
       "      <td>11687.359385</td>\n",
       "      <td>0.834714</td>\n",
       "    </tr>\n",
       "    <tr>\n",
       "      <th>IN</th>\n",
       "      <td>9102.840738</td>\n",
       "      <td>10682.336742</td>\n",
       "      <td>0.851714</td>\n",
       "    </tr>\n",
       "    <tr>\n",
       "      <th>KS</th>\n",
       "      <td>9025.359980</td>\n",
       "      <td>10498.897828</td>\n",
       "      <td>0.859000</td>\n",
       "    </tr>\n",
       "    <tr>\n",
       "      <th>KY</th>\n",
       "      <td>8822.984359</td>\n",
       "      <td>10397.021625</td>\n",
       "      <td>0.850000</td>\n",
       "    </tr>\n",
       "    <tr>\n",
       "      <th>LA</th>\n",
       "      <td>8653.427290</td>\n",
       "      <td>10295.204498</td>\n",
       "      <td>0.842143</td>\n",
       "    </tr>\n",
       "    <tr>\n",
       "      <th>MA</th>\n",
       "      <td>11955.767991</td>\n",
       "      <td>13472.386111</td>\n",
       "      <td>0.888571</td>\n",
       "    </tr>\n",
       "    <tr>\n",
       "      <th>MD</th>\n",
       "      <td>13882.804121</td>\n",
       "      <td>15228.478696</td>\n",
       "      <td>0.911429</td>\n",
       "    </tr>\n",
       "    <tr>\n",
       "      <th>ME</th>\n",
       "      <td>9157.331357</td>\n",
       "      <td>10775.274993</td>\n",
       "      <td>0.852143</td>\n",
       "    </tr>\n",
       "    <tr>\n",
       "      <th>MI</th>\n",
       "      <td>10362.582380</td>\n",
       "      <td>11983.854464</td>\n",
       "      <td>0.866143</td>\n",
       "    </tr>\n",
       "    <tr>\n",
       "      <th>MN</th>\n",
       "      <td>11298.470824</td>\n",
       "      <td>13285.083855</td>\n",
       "      <td>0.851571</td>\n",
       "    </tr>\n",
       "    <tr>\n",
       "      <th>MO</th>\n",
       "      <td>9412.157204</td>\n",
       "      <td>10799.196765</td>\n",
       "      <td>0.871286</td>\n",
       "    </tr>\n",
       "    <tr>\n",
       "      <th>MS</th>\n",
       "      <td>8269.654999</td>\n",
       "      <td>9574.515670</td>\n",
       "      <td>0.864000</td>\n",
       "    </tr>\n",
       "    <tr>\n",
       "      <th>MT</th>\n",
       "      <td>9700.174768</td>\n",
       "      <td>11101.313227</td>\n",
       "      <td>0.872571</td>\n",
       "    </tr>\n",
       "    <tr>\n",
       "      <th>NC</th>\n",
       "      <td>9573.950354</td>\n",
       "      <td>11434.058301</td>\n",
       "      <td>0.840429</td>\n",
       "    </tr>\n",
       "    <tr>\n",
       "      <th>ND</th>\n",
       "      <td>10505.473541</td>\n",
       "      <td>12038.278728</td>\n",
       "      <td>0.873857</td>\n",
       "    </tr>\n",
       "    <tr>\n",
       "      <th>NE</th>\n",
       "      <td>9786.323687</td>\n",
       "      <td>11597.693487</td>\n",
       "      <td>0.843714</td>\n",
       "    </tr>\n",
       "    <tr>\n",
       "      <th>NH</th>\n",
       "      <td>10025.838208</td>\n",
       "      <td>11568.107974</td>\n",
       "      <td>0.866857</td>\n",
       "    </tr>\n",
       "    <tr>\n",
       "      <th>NJ</th>\n",
       "      <td>11129.820064</td>\n",
       "      <td>12842.091813</td>\n",
       "      <td>0.868571</td>\n",
       "    </tr>\n",
       "    <tr>\n",
       "      <th>NM</th>\n",
       "      <td>10059.178876</td>\n",
       "      <td>11711.828270</td>\n",
       "      <td>0.858857</td>\n",
       "    </tr>\n",
       "    <tr>\n",
       "      <th>NV</th>\n",
       "      <td>10835.720034</td>\n",
       "      <td>12681.293314</td>\n",
       "      <td>0.853857</td>\n",
       "    </tr>\n",
       "    <tr>\n",
       "      <th>NY</th>\n",
       "      <td>12866.889333</td>\n",
       "      <td>14899.806847</td>\n",
       "      <td>0.866571</td>\n",
       "    </tr>\n",
       "    <tr>\n",
       "      <th>OH</th>\n",
       "      <td>9044.774862</td>\n",
       "      <td>10930.759577</td>\n",
       "      <td>0.830143</td>\n",
       "    </tr>\n",
       "    <tr>\n",
       "      <th>OK</th>\n",
       "      <td>8938.051484</td>\n",
       "      <td>10498.197713</td>\n",
       "      <td>0.851714</td>\n",
       "    </tr>\n",
       "    <tr>\n",
       "      <th>OR</th>\n",
       "      <td>11677.143846</td>\n",
       "      <td>13533.818817</td>\n",
       "      <td>0.862143</td>\n",
       "    </tr>\n",
       "    <tr>\n",
       "      <th>PA</th>\n",
       "      <td>9519.329700</td>\n",
       "      <td>11663.483714</td>\n",
       "      <td>0.820429</td>\n",
       "    </tr>\n",
       "    <tr>\n",
       "      <th>RI</th>\n",
       "      <td>10586.992141</td>\n",
       "      <td>12226.654712</td>\n",
       "      <td>0.866714</td>\n",
       "    </tr>\n",
       "    <tr>\n",
       "      <th>SC</th>\n",
       "      <td>9233.511621</td>\n",
       "      <td>11030.127945</td>\n",
       "      <td>0.838571</td>\n",
       "    </tr>\n",
       "    <tr>\n",
       "      <th>SD</th>\n",
       "      <td>10244.740314</td>\n",
       "      <td>11885.548960</td>\n",
       "      <td>0.860857</td>\n",
       "    </tr>\n",
       "    <tr>\n",
       "      <th>TN</th>\n",
       "      <td>8691.545742</td>\n",
       "      <td>10198.216932</td>\n",
       "      <td>0.851857</td>\n",
       "    </tr>\n",
       "    <tr>\n",
       "      <th>TX</th>\n",
       "      <td>9446.550097</td>\n",
       "      <td>11303.458116</td>\n",
       "      <td>0.837286</td>\n",
       "    </tr>\n",
       "    <tr>\n",
       "      <th>UT</th>\n",
       "      <td>10395.747185</td>\n",
       "      <td>12971.710288</td>\n",
       "      <td>0.801286</td>\n",
       "    </tr>\n",
       "    <tr>\n",
       "      <th>VA</th>\n",
       "      <td>9146.524075</td>\n",
       "      <td>11205.855609</td>\n",
       "      <td>0.819143</td>\n",
       "    </tr>\n",
       "    <tr>\n",
       "      <th>VT</th>\n",
       "      <td>11706.182441</td>\n",
       "      <td>13433.775229</td>\n",
       "      <td>0.872143</td>\n",
       "    </tr>\n",
       "    <tr>\n",
       "      <th>WA</th>\n",
       "      <td>11394.708358</td>\n",
       "      <td>13471.623940</td>\n",
       "      <td>0.847143</td>\n",
       "    </tr>\n",
       "    <tr>\n",
       "      <th>WI</th>\n",
       "      <td>9595.434765</td>\n",
       "      <td>11532.694186</td>\n",
       "      <td>0.834286</td>\n",
       "    </tr>\n",
       "    <tr>\n",
       "      <th>WV</th>\n",
       "      <td>8466.344091</td>\n",
       "      <td>10171.553800</td>\n",
       "      <td>0.835286</td>\n",
       "    </tr>\n",
       "    <tr>\n",
       "      <th>WY</th>\n",
       "      <td>10621.124868</td>\n",
       "      <td>12476.369998</td>\n",
       "      <td>0.850429</td>\n",
       "    </tr>\n",
       "  </tbody>\n",
       "</table>\n",
       "</div>"
      ],
      "text/plain": [
       "                average_medicare_payments  average_total_payments  cover_rate\n",
       "provider_state                                                               \n",
       "AK                           16106.918221            18215.897757    0.884286\n",
       "AL                            7754.205628             9184.425350    0.844714\n",
       "AR                            8246.934734             9588.599765    0.860286\n",
       "AZ                           10904.995155            12628.809417    0.863286\n",
       "CA                           14054.084942            15770.225333    0.892429\n",
       "CO                           10425.011035            12301.239613    0.848286\n",
       "CT                           11762.581513            13709.278484    0.860143\n",
       "DC                           13924.988043            17226.688898    0.817143\n",
       "DE                           10837.459785            12921.799902    0.842143\n",
       "FL                            8987.090443            10493.430109    0.857000\n",
       "GA                            9383.260477            10941.549736    0.857429\n",
       "HI                           13232.578844            16124.174791    0.823286\n",
       "IA                            8914.977750            10404.477200    0.856714\n",
       "ID                           10106.987116            11813.732734    0.855571\n",
       "IL                            9736.532876            11687.359385    0.834714\n",
       "IN                            9102.840738            10682.336742    0.851714\n",
       "KS                            9025.359980            10498.897828    0.859000\n",
       "KY                            8822.984359            10397.021625    0.850000\n",
       "LA                            8653.427290            10295.204498    0.842143\n",
       "MA                           11955.767991            13472.386111    0.888571\n",
       "MD                           13882.804121            15228.478696    0.911429\n",
       "ME                            9157.331357            10775.274993    0.852143\n",
       "MI                           10362.582380            11983.854464    0.866143\n",
       "MN                           11298.470824            13285.083855    0.851571\n",
       "MO                            9412.157204            10799.196765    0.871286\n",
       "MS                            8269.654999             9574.515670    0.864000\n",
       "MT                            9700.174768            11101.313227    0.872571\n",
       "NC                            9573.950354            11434.058301    0.840429\n",
       "ND                           10505.473541            12038.278728    0.873857\n",
       "NE                            9786.323687            11597.693487    0.843714\n",
       "NH                           10025.838208            11568.107974    0.866857\n",
       "NJ                           11129.820064            12842.091813    0.868571\n",
       "NM                           10059.178876            11711.828270    0.858857\n",
       "NV                           10835.720034            12681.293314    0.853857\n",
       "NY                           12866.889333            14899.806847    0.866571\n",
       "OH                            9044.774862            10930.759577    0.830143\n",
       "OK                            8938.051484            10498.197713    0.851714\n",
       "OR                           11677.143846            13533.818817    0.862143\n",
       "PA                            9519.329700            11663.483714    0.820429\n",
       "RI                           10586.992141            12226.654712    0.866714\n",
       "SC                            9233.511621            11030.127945    0.838571\n",
       "SD                           10244.740314            11885.548960    0.860857\n",
       "TN                            8691.545742            10198.216932    0.851857\n",
       "TX                            9446.550097            11303.458116    0.837286\n",
       "UT                           10395.747185            12971.710288    0.801286\n",
       "VA                            9146.524075            11205.855609    0.819143\n",
       "VT                           11706.182441            13433.775229    0.872143\n",
       "WA                           11394.708358            13471.623940    0.847143\n",
       "WI                            9595.434765            11532.694186    0.834286\n",
       "WV                            8466.344091            10171.553800    0.835286\n",
       "WY                           10621.124868            12476.369998    0.850429"
      ]
     },
     "execution_count": 40,
     "metadata": {},
     "output_type": "execute_result"
    }
   ],
   "source": [
    "payment_7years.pivot_table(index ='provider_state', values=['average_total_payments','average_medicare_payments','cover_rate'])"
   ]
  },
  {
   "cell_type": "code",
   "execution_count": 36,
   "metadata": {},
   "outputs": [
    {
     "data": {
      "text/plain": [
       "<seaborn.axisgrid.FacetGrid at 0x7fb074ebeb90>"
      ]
     },
     "execution_count": 36,
     "metadata": {},
     "output_type": "execute_result"
    },
    {
     "data": {
      "image/png": "[encoded data removed]",
      "text/plain": [
       "<Figure size 936x187.2 with 1 Axes>"
      ]
     },
     "metadata": {
      "needs_background": "light"
     },
     "output_type": "display_data"
    }
   ],
   "source": [
    "table1=payment_7years.sort_values('average_total_payments')\n",
    "sns.catplot(kind='bar',x=\"provider_state\",y='average_total_payments',data=table1,height=2.6, aspect=5)"
   ]
  },
  {
   "cell_type": "code",
   "execution_count": 27,
   "metadata": {},
   "outputs": [
    {
     "data": {
      "text/plain": [
       "<seaborn.axisgrid.FacetGrid at 0x7fb07e43ead0>"
      ]
     },
     "execution_count": 27,
     "metadata": {},
     "output_type": "execute_result"
    },
    {
     "data": {
      "image/png": "[encoded data removed]",
      "text/plain": [
       "<Figure size 936x187.2 with 1 Axes>"
      ]
     },
     "metadata": {
      "needs_background": "light"
     },
     "output_type": "display_data"
    }
   ],
   "source": [
    "table2=payment_7years.sort_values('average_medicare_payments')\n",
    "sns.catplot(kind='bar',x=\"provider_state\",y='average_medicare_payments',data=table2 ,height=2.6, aspect=5)"
   ]
  },
  {
   "cell_type": "code",
   "execution_count": 33,
   "metadata": {},
   "outputs": [
    {
     "data": {
      "text/plain": [
       "<seaborn.axisgrid.FacetGrid at 0x7fb07d570510>"
      ]
     },
     "execution_count": 33,
     "metadata": {},
     "output_type": "execute_result"
    },
    {
     "data": {
      "image/png": "[encoded data removed]",
      "text/plain": [
       "<Figure size 936x187.2 with 1 Axes>"
      ]
     },
     "metadata": {
      "needs_background": "light"
     },
     "output_type": "display_data"
    }
   ],
   "source": [
    "table3=payment_7years.sort_values('cover_rate')\n",
    "sns.catplot(x=\"provider_state\",y='cover_rate',data=table3 ,height=2.6, aspect=5)"
   ]
  },
  {
   "cell_type": "markdown",
   "metadata": {},
   "source": [
    "The table shows the average total payment through out the US from 2011 to 2017. As we mention previously, we insert a 'year' column for each inpatient table. We union the inpatient payment tables altogether and list the average total payment for each year from 2011 to 2017. We are trying to see how does the US overall average total payments change throughout the times. As the list result shows, the average total payment increased each year from 2011 to 2017, especially that there was a significant increase during the year 2013 to 2014. The reason behind this was probably due to the Patient Protection and Affordable Care Act, and commonly known as Obamacare. The act came up in 2010 and implemented in 2014. "
   ]
  },
  {
   "cell_type": "code",
   "execution_count": 22,
   "metadata": {},
   "outputs": [
    {
     "data": {
      "text/html": [
       "<div>\n",
       "<style scoped>\n",
       "    .dataframe tbody tr th:only-of-type {\n",
       "        vertical-align: middle;\n",
       "    }\n",
       "\n",
       "    .dataframe tbody tr th {\n",
       "        vertical-align: top;\n",
       "    }\n",
       "\n",
       "    .dataframe thead th {\n",
       "        text-align: right;\n",
       "    }\n",
       "</style>\n",
       "<table border=\"1\" class=\"dataframe\">\n",
       "  <thead>\n",
       "    <tr style=\"text-align: right;\">\n",
       "      <th></th>\n",
       "      <th>year</th>\n",
       "      <th>avg_total_payment</th>\n",
       "    </tr>\n",
       "  </thead>\n",
       "  <tbody>\n",
       "    <tr>\n",
       "      <th>0</th>\n",
       "      <td>2011</td>\n",
       "      <td>9816.18</td>\n",
       "    </tr>\n",
       "    <tr>\n",
       "      <th>1</th>\n",
       "      <td>2012</td>\n",
       "      <td>10073.76</td>\n",
       "    </tr>\n",
       "    <tr>\n",
       "      <th>2</th>\n",
       "      <td>2013</td>\n",
       "      <td>10518.63</td>\n",
       "    </tr>\n",
       "    <tr>\n",
       "      <th>3</th>\n",
       "      <td>2014</td>\n",
       "      <td>13261.38</td>\n",
       "    </tr>\n",
       "    <tr>\n",
       "      <th>4</th>\n",
       "      <td>2015</td>\n",
       "      <td>13297.21</td>\n",
       "    </tr>\n",
       "    <tr>\n",
       "      <th>5</th>\n",
       "      <td>2016</td>\n",
       "      <td>13801.74</td>\n",
       "    </tr>\n",
       "    <tr>\n",
       "      <th>6</th>\n",
       "      <td>2017</td>\n",
       "      <td>14111.21</td>\n",
       "    </tr>\n",
       "  </tbody>\n",
       "</table>\n",
       "</div>"
      ],
      "text/plain": [
       "   year  avg_total_payment\n",
       "0  2011            9816.18\n",
       "1  2012           10073.76\n",
       "2  2013           10518.63\n",
       "3  2014           13261.38\n",
       "4  2015           13297.21\n",
       "5  2016           13801.74\n",
       "6  2017           14111.21"
      ]
     },
     "execution_count": 22,
     "metadata": {},
     "output_type": "execute_result"
    }
   ],
   "source": [
    "%%bigquery\n",
    "SELECT year,round(avg(average_total_payments),2) as avg_total_payment \n",
    "FROM `ba775-team-5a.temp.inpatient_payment_by_year`\n",
    "GROUP BY year\n",
    "order by year"
   ]
  },
  {
   "cell_type": "markdown",
   "metadata": {},
   "source": [
    "## 3. Exploratory Data Analysis"
   ]
  },
  {
   "cell_type": "markdown",
   "metadata": {},
   "source": [
    "#### 3.1 What is the average total payment in each state in 2017?"
   ]
  },
  {
   "cell_type": "markdown",
   "metadata": {},
   "source": [
    "As the table shows, the TOP 5 average total payment states are Alaska(AK), Washington D.C(DC), Hawaii(HI), California(CA), and Maryland(MD). And the state with lowest average total cost is Alabama(AL) with $10520 in year 2017."
   ]
  },
  {
   "cell_type": "code",
   "execution_count": 23,
   "metadata": {},
   "outputs": [
    {
     "data": {
      "text/html": [
       "<div>\n",
       "<style scoped>\n",
       "    .dataframe tbody tr th:only-of-type {\n",
       "        vertical-align: middle;\n",
       "    }\n",
       "\n",
       "    .dataframe tbody tr th {\n",
       "        vertical-align: top;\n",
       "    }\n",
       "\n",
       "    .dataframe thead th {\n",
       "        text-align: right;\n",
       "    }\n",
       "</style>\n",
       "<table border=\"1\" class=\"dataframe\">\n",
       "  <thead>\n",
       "    <tr style=\"text-align: right;\">\n",
       "      <th></th>\n",
       "      <th>provider_state</th>\n",
       "      <th>average_total_payment</th>\n",
       "    </tr>\n",
       "  </thead>\n",
       "  <tbody>\n",
       "    <tr>\n",
       "      <th>0</th>\n",
       "      <td>AK</td>\n",
       "      <td>21367.491281</td>\n",
       "    </tr>\n",
       "    <tr>\n",
       "      <th>1</th>\n",
       "      <td>DC</td>\n",
       "      <td>21094.415680</td>\n",
       "    </tr>\n",
       "    <tr>\n",
       "      <th>2</th>\n",
       "      <td>HI</td>\n",
       "      <td>19658.704740</td>\n",
       "    </tr>\n",
       "    <tr>\n",
       "      <th>3</th>\n",
       "      <td>CA</td>\n",
       "      <td>18417.925284</td>\n",
       "    </tr>\n",
       "    <tr>\n",
       "      <th>4</th>\n",
       "      <td>MD</td>\n",
       "      <td>17511.093303</td>\n",
       "    </tr>\n",
       "    <tr>\n",
       "      <th>5</th>\n",
       "      <td>NY</td>\n",
       "      <td>17330.004594</td>\n",
       "    </tr>\n",
       "    <tr>\n",
       "      <th>6</th>\n",
       "      <td>OR</td>\n",
       "      <td>16354.562671</td>\n",
       "    </tr>\n",
       "    <tr>\n",
       "      <th>7</th>\n",
       "      <td>WA</td>\n",
       "      <td>16168.052758</td>\n",
       "    </tr>\n",
       "    <tr>\n",
       "      <th>8</th>\n",
       "      <td>MN</td>\n",
       "      <td>16148.006433</td>\n",
       "    </tr>\n",
       "    <tr>\n",
       "      <th>9</th>\n",
       "      <td>CT</td>\n",
       "      <td>15650.991243</td>\n",
       "    </tr>\n",
       "    <tr>\n",
       "      <th>10</th>\n",
       "      <td>MA</td>\n",
       "      <td>15464.970223</td>\n",
       "    </tr>\n",
       "    <tr>\n",
       "      <th>11</th>\n",
       "      <td>UT</td>\n",
       "      <td>15385.102183</td>\n",
       "    </tr>\n",
       "    <tr>\n",
       "      <th>12</th>\n",
       "      <td>DE</td>\n",
       "      <td>15281.911440</td>\n",
       "    </tr>\n",
       "    <tr>\n",
       "      <th>13</th>\n",
       "      <td>VT</td>\n",
       "      <td>15062.109155</td>\n",
       "    </tr>\n",
       "    <tr>\n",
       "      <th>14</th>\n",
       "      <td>CO</td>\n",
       "      <td>14994.473860</td>\n",
       "    </tr>\n",
       "    <tr>\n",
       "      <th>15</th>\n",
       "      <td>AZ</td>\n",
       "      <td>14886.298150</td>\n",
       "    </tr>\n",
       "    <tr>\n",
       "      <th>16</th>\n",
       "      <td>NJ</td>\n",
       "      <td>14709.520479</td>\n",
       "    </tr>\n",
       "    <tr>\n",
       "      <th>17</th>\n",
       "      <td>NV</td>\n",
       "      <td>14387.215061</td>\n",
       "    </tr>\n",
       "    <tr>\n",
       "      <th>18</th>\n",
       "      <td>SD</td>\n",
       "      <td>13854.168186</td>\n",
       "    </tr>\n",
       "    <tr>\n",
       "      <th>19</th>\n",
       "      <td>MI</td>\n",
       "      <td>13849.211438</td>\n",
       "    </tr>\n",
       "    <tr>\n",
       "      <th>20</th>\n",
       "      <td>PA</td>\n",
       "      <td>13747.293136</td>\n",
       "    </tr>\n",
       "    <tr>\n",
       "      <th>21</th>\n",
       "      <td>WY</td>\n",
       "      <td>13742.451679</td>\n",
       "    </tr>\n",
       "    <tr>\n",
       "      <th>22</th>\n",
       "      <td>NE</td>\n",
       "      <td>13651.748864</td>\n",
       "    </tr>\n",
       "    <tr>\n",
       "      <th>23</th>\n",
       "      <td>RI</td>\n",
       "      <td>13620.434650</td>\n",
       "    </tr>\n",
       "    <tr>\n",
       "      <th>24</th>\n",
       "      <td>ND</td>\n",
       "      <td>13608.579809</td>\n",
       "    </tr>\n",
       "    <tr>\n",
       "      <th>25</th>\n",
       "      <td>IL</td>\n",
       "      <td>13542.795128</td>\n",
       "    </tr>\n",
       "    <tr>\n",
       "      <th>26</th>\n",
       "      <td>WI</td>\n",
       "      <td>13486.124169</td>\n",
       "    </tr>\n",
       "    <tr>\n",
       "      <th>27</th>\n",
       "      <td>NC</td>\n",
       "      <td>13457.696175</td>\n",
       "    </tr>\n",
       "    <tr>\n",
       "      <th>28</th>\n",
       "      <td>NM</td>\n",
       "      <td>13448.036286</td>\n",
       "    </tr>\n",
       "    <tr>\n",
       "      <th>29</th>\n",
       "      <td>NH</td>\n",
       "      <td>13339.228933</td>\n",
       "    </tr>\n",
       "    <tr>\n",
       "      <th>30</th>\n",
       "      <td>MT</td>\n",
       "      <td>13183.339157</td>\n",
       "    </tr>\n",
       "    <tr>\n",
       "      <th>31</th>\n",
       "      <td>ME</td>\n",
       "      <td>13168.938494</td>\n",
       "    </tr>\n",
       "    <tr>\n",
       "      <th>32</th>\n",
       "      <td>VA</td>\n",
       "      <td>13131.566832</td>\n",
       "    </tr>\n",
       "    <tr>\n",
       "      <th>33</th>\n",
       "      <td>ID</td>\n",
       "      <td>13124.885072</td>\n",
       "    </tr>\n",
       "    <tr>\n",
       "      <th>34</th>\n",
       "      <td>TX</td>\n",
       "      <td>12855.033754</td>\n",
       "    </tr>\n",
       "    <tr>\n",
       "      <th>35</th>\n",
       "      <td>OH</td>\n",
       "      <td>12744.597684</td>\n",
       "    </tr>\n",
       "    <tr>\n",
       "      <th>36</th>\n",
       "      <td>SC</td>\n",
       "      <td>12620.406942</td>\n",
       "    </tr>\n",
       "    <tr>\n",
       "      <th>37</th>\n",
       "      <td>GA</td>\n",
       "      <td>12567.302094</td>\n",
       "    </tr>\n",
       "    <tr>\n",
       "      <th>38</th>\n",
       "      <td>OK</td>\n",
       "      <td>12485.008234</td>\n",
       "    </tr>\n",
       "    <tr>\n",
       "      <th>39</th>\n",
       "      <td>MO</td>\n",
       "      <td>12407.338682</td>\n",
       "    </tr>\n",
       "    <tr>\n",
       "      <th>40</th>\n",
       "      <td>IN</td>\n",
       "      <td>12204.909102</td>\n",
       "    </tr>\n",
       "    <tr>\n",
       "      <th>41</th>\n",
       "      <td>KS</td>\n",
       "      <td>12160.941073</td>\n",
       "    </tr>\n",
       "    <tr>\n",
       "      <th>42</th>\n",
       "      <td>TN</td>\n",
       "      <td>12130.047582</td>\n",
       "    </tr>\n",
       "    <tr>\n",
       "      <th>43</th>\n",
       "      <td>KY</td>\n",
       "      <td>12117.173680</td>\n",
       "    </tr>\n",
       "    <tr>\n",
       "      <th>44</th>\n",
       "      <td>WV</td>\n",
       "      <td>12006.828042</td>\n",
       "    </tr>\n",
       "    <tr>\n",
       "      <th>45</th>\n",
       "      <td>IA</td>\n",
       "      <td>11923.578182</td>\n",
       "    </tr>\n",
       "    <tr>\n",
       "      <th>46</th>\n",
       "      <td>FL</td>\n",
       "      <td>11827.056195</td>\n",
       "    </tr>\n",
       "    <tr>\n",
       "      <th>47</th>\n",
       "      <td>LA</td>\n",
       "      <td>11784.242802</td>\n",
       "    </tr>\n",
       "    <tr>\n",
       "      <th>48</th>\n",
       "      <td>AR</td>\n",
       "      <td>10883.903300</td>\n",
       "    </tr>\n",
       "    <tr>\n",
       "      <th>49</th>\n",
       "      <td>MS</td>\n",
       "      <td>10604.126885</td>\n",
       "    </tr>\n",
       "    <tr>\n",
       "      <th>50</th>\n",
       "      <td>AL</td>\n",
       "      <td>10519.971123</td>\n",
       "    </tr>\n",
       "  </tbody>\n",
       "</table>\n",
       "</div>"
      ],
      "text/plain": [
       "   provider_state  average_total_payment\n",
       "0              AK           21367.491281\n",
       "1              DC           21094.415680\n",
       "2              HI           19658.704740\n",
       "3              CA           18417.925284\n",
       "4              MD           17511.093303\n",
       "5              NY           17330.004594\n",
       "6              OR           16354.562671\n",
       "7              WA           16168.052758\n",
       "8              MN           16148.006433\n",
       "9              CT           15650.991243\n",
       "10             MA           15464.970223\n",
       "11             UT           15385.102183\n",
       "12             DE           15281.911440\n",
       "13             VT           15062.109155\n",
       "14             CO           14994.473860\n",
       "15             AZ           14886.298150\n",
       "16             NJ           14709.520479\n",
       "17             NV           14387.215061\n",
       "18             SD           13854.168186\n",
       "19             MI           13849.211438\n",
       "20             PA           13747.293136\n",
       "21             WY           13742.451679\n",
       "22             NE           13651.748864\n",
       "23             RI           13620.434650\n",
       "24             ND           13608.579809\n",
       "25             IL           13542.795128\n",
       "26             WI           13486.124169\n",
       "27             NC           13457.696175\n",
       "28             NM           13448.036286\n",
       "29             NH           13339.228933\n",
       "30             MT           13183.339157\n",
       "31             ME           13168.938494\n",
       "32             VA           13131.566832\n",
       "33             ID           13124.885072\n",
       "34             TX           12855.033754\n",
       "35             OH           12744.597684\n",
       "36             SC           12620.406942\n",
       "37             GA           12567.302094\n",
       "38             OK           12485.008234\n",
       "39             MO           12407.338682\n",
       "40             IN           12204.909102\n",
       "41             KS           12160.941073\n",
       "42             TN           12130.047582\n",
       "43             KY           12117.173680\n",
       "44             WV           12006.828042\n",
       "45             IA           11923.578182\n",
       "46             FL           11827.056195\n",
       "47             LA           11784.242802\n",
       "48             AR           10883.903300\n",
       "49             MS           10604.126885\n",
       "50             AL           10519.971123"
      ]
     },
     "execution_count": 23,
     "metadata": {},
     "output_type": "execute_result"
    }
   ],
   "source": [
    "%%bigquery\n",
    "SELECT provider_state, AVG(average_total_payments) as average_total_payment\n",
    "FROM `ba775-team-5a.temp.inpatient_2017`\n",
    "GROUP BY provider_state\n",
    "ORDER BY average_total_payment desc"
   ]
  },
  {
   "cell_type": "markdown",
   "metadata": {},
   "source": [
    "#### 3.2 Does medicare payments adjust geographically?"
   ]
  },
  {
   "cell_type": "markdown",
   "metadata": {},
   "source": [
    "After comparing the result in each state to the nationwide medicare payments, it is obvious that medicare payments adjust geographically."
   ]
  },
  {
   "cell_type": "code",
   "execution_count": 24,
   "metadata": {},
   "outputs": [
    {
     "name": "stdout",
     "output_type": "stream",
     "text": [
      "<class 'pandas.core.frame.DataFrame'>\n",
      "RangeIndex: 51 entries, 0 to 50\n",
      "Data columns (total 3 columns):\n",
      " #   Column                     Non-Null Count  Dtype  \n",
      "---  ------                     --------------  -----  \n",
      " 0   Provider_State             51 non-null     object \n",
      " 1   Average_Medicare_Payments  51 non-null     float64\n",
      " 2   Relative_to_nationwide     51 non-null     float64\n",
      "dtypes: float64(2), object(1)\n",
      "memory usage: 1.3+ KB\n"
     ]
    },
    {
     "data": {
      "text/html": [
       "<div>\n",
       "<style scoped>\n",
       "    .dataframe tbody tr th:only-of-type {\n",
       "        vertical-align: middle;\n",
       "    }\n",
       "\n",
       "    .dataframe tbody tr th {\n",
       "        vertical-align: top;\n",
       "    }\n",
       "\n",
       "    .dataframe thead th {\n",
       "        text-align: right;\n",
       "    }\n",
       "</style>\n",
       "<table border=\"1\" class=\"dataframe\">\n",
       "  <thead>\n",
       "    <tr style=\"text-align: right;\">\n",
       "      <th></th>\n",
       "      <th>Provider_State</th>\n",
       "      <th>Average_Medicare_Payments</th>\n",
       "      <th>Relative_to_nationwide</th>\n",
       "    </tr>\n",
       "  </thead>\n",
       "  <tbody>\n",
       "    <tr>\n",
       "      <th>0</th>\n",
       "      <td>AK</td>\n",
       "      <td>18712.588521</td>\n",
       "      <td>1.57</td>\n",
       "    </tr>\n",
       "    <tr>\n",
       "      <th>1</th>\n",
       "      <td>CA</td>\n",
       "      <td>16207.739145</td>\n",
       "      <td>1.36</td>\n",
       "    </tr>\n",
       "    <tr>\n",
       "      <th>2</th>\n",
       "      <td>DC</td>\n",
       "      <td>16125.043837</td>\n",
       "      <td>1.35</td>\n",
       "    </tr>\n",
       "    <tr>\n",
       "      <th>3</th>\n",
       "      <td>MD</td>\n",
       "      <td>15984.234915</td>\n",
       "      <td>1.34</td>\n",
       "    </tr>\n",
       "    <tr>\n",
       "      <th>4</th>\n",
       "      <td>HI</td>\n",
       "      <td>15462.832478</td>\n",
       "      <td>1.30</td>\n",
       "    </tr>\n",
       "    <tr>\n",
       "      <th>5</th>\n",
       "      <td>NY</td>\n",
       "      <td>14793.432008</td>\n",
       "      <td>1.24</td>\n",
       "    </tr>\n",
       "    <tr>\n",
       "      <th>6</th>\n",
       "      <td>OR</td>\n",
       "      <td>14075.341138</td>\n",
       "      <td>1.18</td>\n",
       "    </tr>\n",
       "    <tr>\n",
       "      <th>7</th>\n",
       "      <td>MN</td>\n",
       "      <td>13701.566361</td>\n",
       "      <td>1.15</td>\n",
       "    </tr>\n",
       "    <tr>\n",
       "      <th>8</th>\n",
       "      <td>MA</td>\n",
       "      <td>13635.417149</td>\n",
       "      <td>1.14</td>\n",
       "    </tr>\n",
       "    <tr>\n",
       "      <th>9</th>\n",
       "      <td>WA</td>\n",
       "      <td>13419.406230</td>\n",
       "      <td>1.13</td>\n",
       "    </tr>\n",
       "    <tr>\n",
       "      <th>10</th>\n",
       "      <td>CT</td>\n",
       "      <td>13088.592663</td>\n",
       "      <td>1.10</td>\n",
       "    </tr>\n",
       "    <tr>\n",
       "      <th>11</th>\n",
       "      <td>VT</td>\n",
       "      <td>12970.732504</td>\n",
       "      <td>1.09</td>\n",
       "    </tr>\n",
       "    <tr>\n",
       "      <th>12</th>\n",
       "      <td>AZ</td>\n",
       "      <td>12908.001487</td>\n",
       "      <td>1.08</td>\n",
       "    </tr>\n",
       "    <tr>\n",
       "      <th>13</th>\n",
       "      <td>CO</td>\n",
       "      <td>12584.928794</td>\n",
       "      <td>1.06</td>\n",
       "    </tr>\n",
       "    <tr>\n",
       "      <th>14</th>\n",
       "      <td>NJ</td>\n",
       "      <td>12579.441416</td>\n",
       "      <td>1.06</td>\n",
       "    </tr>\n",
       "    <tr>\n",
       "      <th>15</th>\n",
       "      <td>UT</td>\n",
       "      <td>12544.264740</td>\n",
       "      <td>1.05</td>\n",
       "    </tr>\n",
       "    <tr>\n",
       "      <th>16</th>\n",
       "      <td>DE</td>\n",
       "      <td>12392.876158</td>\n",
       "      <td>1.04</td>\n",
       "    </tr>\n",
       "    <tr>\n",
       "      <th>17</th>\n",
       "      <td>NV</td>\n",
       "      <td>12379.644455</td>\n",
       "      <td>1.04</td>\n",
       "    </tr>\n",
       "    <tr>\n",
       "      <th>18</th>\n",
       "      <td>MI</td>\n",
       "      <td>11933.064006</td>\n",
       "      <td>1.00</td>\n",
       "    </tr>\n",
       "    <tr>\n",
       "      <th>19</th>\n",
       "      <td>SD</td>\n",
       "      <td>11925.613669</td>\n",
       "      <td>1.00</td>\n",
       "    </tr>\n",
       "    <tr>\n",
       "      <th>20</th>\n",
       "      <td>WY</td>\n",
       "      <td>11748.624915</td>\n",
       "      <td>0.99</td>\n",
       "    </tr>\n",
       "    <tr>\n",
       "      <th>21</th>\n",
       "      <td>RI</td>\n",
       "      <td>11720.369370</td>\n",
       "      <td>0.98</td>\n",
       "    </tr>\n",
       "    <tr>\n",
       "      <th>22</th>\n",
       "      <td>ND</td>\n",
       "      <td>11685.308359</td>\n",
       "      <td>0.98</td>\n",
       "    </tr>\n",
       "    <tr>\n",
       "      <th>23</th>\n",
       "      <td>MT</td>\n",
       "      <td>11645.267620</td>\n",
       "      <td>0.98</td>\n",
       "    </tr>\n",
       "    <tr>\n",
       "      <th>24</th>\n",
       "      <td>NH</td>\n",
       "      <td>11619.986019</td>\n",
       "      <td>0.98</td>\n",
       "    </tr>\n",
       "    <tr>\n",
       "      <th>25</th>\n",
       "      <td>NE</td>\n",
       "      <td>11601.838014</td>\n",
       "      <td>0.97</td>\n",
       "    </tr>\n",
       "    <tr>\n",
       "      <th>26</th>\n",
       "      <td>NM</td>\n",
       "      <td>11535.699648</td>\n",
       "      <td>0.97</td>\n",
       "    </tr>\n",
       "    <tr>\n",
       "      <th>27</th>\n",
       "      <td>ID</td>\n",
       "      <td>11198.975107</td>\n",
       "      <td>0.94</td>\n",
       "    </tr>\n",
       "    <tr>\n",
       "      <th>28</th>\n",
       "      <td>IL</td>\n",
       "      <td>11088.003603</td>\n",
       "      <td>0.93</td>\n",
       "    </tr>\n",
       "    <tr>\n",
       "      <th>29</th>\n",
       "      <td>WI</td>\n",
       "      <td>11023.577112</td>\n",
       "      <td>0.93</td>\n",
       "    </tr>\n",
       "    <tr>\n",
       "      <th>30</th>\n",
       "      <td>ME</td>\n",
       "      <td>11012.202461</td>\n",
       "      <td>0.92</td>\n",
       "    </tr>\n",
       "    <tr>\n",
       "      <th>31</th>\n",
       "      <td>NC</td>\n",
       "      <td>11001.468450</td>\n",
       "      <td>0.92</td>\n",
       "    </tr>\n",
       "    <tr>\n",
       "      <th>32</th>\n",
       "      <td>PA</td>\n",
       "      <td>10922.258484</td>\n",
       "      <td>0.92</td>\n",
       "    </tr>\n",
       "    <tr>\n",
       "      <th>33</th>\n",
       "      <td>MO</td>\n",
       "      <td>10864.159487</td>\n",
       "      <td>0.91</td>\n",
       "    </tr>\n",
       "    <tr>\n",
       "      <th>34</th>\n",
       "      <td>OK</td>\n",
       "      <td>10636.810296</td>\n",
       "      <td>0.89</td>\n",
       "    </tr>\n",
       "    <tr>\n",
       "      <th>35</th>\n",
       "      <td>TX</td>\n",
       "      <td>10635.212033</td>\n",
       "      <td>0.89</td>\n",
       "    </tr>\n",
       "    <tr>\n",
       "      <th>36</th>\n",
       "      <td>GA</td>\n",
       "      <td>10610.150030</td>\n",
       "      <td>0.89</td>\n",
       "    </tr>\n",
       "    <tr>\n",
       "      <th>37</th>\n",
       "      <td>VA</td>\n",
       "      <td>10453.417751</td>\n",
       "      <td>0.88</td>\n",
       "    </tr>\n",
       "    <tr>\n",
       "      <th>38</th>\n",
       "      <td>IN</td>\n",
       "      <td>10425.243592</td>\n",
       "      <td>0.88</td>\n",
       "    </tr>\n",
       "    <tr>\n",
       "      <th>39</th>\n",
       "      <td>OH</td>\n",
       "      <td>10379.414253</td>\n",
       "      <td>0.87</td>\n",
       "    </tr>\n",
       "    <tr>\n",
       "      <th>40</th>\n",
       "      <td>SC</td>\n",
       "      <td>10361.162609</td>\n",
       "      <td>0.87</td>\n",
       "    </tr>\n",
       "    <tr>\n",
       "      <th>41</th>\n",
       "      <td>KS</td>\n",
       "      <td>10342.061329</td>\n",
       "      <td>0.87</td>\n",
       "    </tr>\n",
       "    <tr>\n",
       "      <th>42</th>\n",
       "      <td>IA</td>\n",
       "      <td>10271.997953</td>\n",
       "      <td>0.86</td>\n",
       "    </tr>\n",
       "    <tr>\n",
       "      <th>43</th>\n",
       "      <td>TN</td>\n",
       "      <td>10259.199905</td>\n",
       "      <td>0.86</td>\n",
       "    </tr>\n",
       "    <tr>\n",
       "      <th>44</th>\n",
       "      <td>KY</td>\n",
       "      <td>10158.594053</td>\n",
       "      <td>0.85</td>\n",
       "    </tr>\n",
       "    <tr>\n",
       "      <th>45</th>\n",
       "      <td>FL</td>\n",
       "      <td>10058.557887</td>\n",
       "      <td>0.84</td>\n",
       "    </tr>\n",
       "    <tr>\n",
       "      <th>46</th>\n",
       "      <td>LA</td>\n",
       "      <td>9756.632491</td>\n",
       "      <td>0.82</td>\n",
       "    </tr>\n",
       "    <tr>\n",
       "      <th>47</th>\n",
       "      <td>WV</td>\n",
       "      <td>9739.255307</td>\n",
       "      <td>0.82</td>\n",
       "    </tr>\n",
       "    <tr>\n",
       "      <th>48</th>\n",
       "      <td>AR</td>\n",
       "      <td>9332.545479</td>\n",
       "      <td>0.78</td>\n",
       "    </tr>\n",
       "    <tr>\n",
       "      <th>49</th>\n",
       "      <td>MS</td>\n",
       "      <td>9137.737450</td>\n",
       "      <td>0.77</td>\n",
       "    </tr>\n",
       "    <tr>\n",
       "      <th>50</th>\n",
       "      <td>AL</td>\n",
       "      <td>8706.915487</td>\n",
       "      <td>0.73</td>\n",
       "    </tr>\n",
       "  </tbody>\n",
       "</table>\n",
       "</div>"
      ],
      "text/plain": [
       "   Provider_State  Average_Medicare_Payments  Relative_to_nationwide\n",
       "0              AK               18712.588521                    1.57\n",
       "1              CA               16207.739145                    1.36\n",
       "2              DC               16125.043837                    1.35\n",
       "3              MD               15984.234915                    1.34\n",
       "4              HI               15462.832478                    1.30\n",
       "5              NY               14793.432008                    1.24\n",
       "6              OR               14075.341138                    1.18\n",
       "7              MN               13701.566361                    1.15\n",
       "8              MA               13635.417149                    1.14\n",
       "9              WA               13419.406230                    1.13\n",
       "10             CT               13088.592663                    1.10\n",
       "11             VT               12970.732504                    1.09\n",
       "12             AZ               12908.001487                    1.08\n",
       "13             CO               12584.928794                    1.06\n",
       "14             NJ               12579.441416                    1.06\n",
       "15             UT               12544.264740                    1.05\n",
       "16             DE               12392.876158                    1.04\n",
       "17             NV               12379.644455                    1.04\n",
       "18             MI               11933.064006                    1.00\n",
       "19             SD               11925.613669                    1.00\n",
       "20             WY               11748.624915                    0.99\n",
       "21             RI               11720.369370                    0.98\n",
       "22             ND               11685.308359                    0.98\n",
       "23             MT               11645.267620                    0.98\n",
       "24             NH               11619.986019                    0.98\n",
       "25             NE               11601.838014                    0.97\n",
       "26             NM               11535.699648                    0.97\n",
       "27             ID               11198.975107                    0.94\n",
       "28             IL               11088.003603                    0.93\n",
       "29             WI               11023.577112                    0.93\n",
       "30             ME               11012.202461                    0.92\n",
       "31             NC               11001.468450                    0.92\n",
       "32             PA               10922.258484                    0.92\n",
       "33             MO               10864.159487                    0.91\n",
       "34             OK               10636.810296                    0.89\n",
       "35             TX               10635.212033                    0.89\n",
       "36             GA               10610.150030                    0.89\n",
       "37             VA               10453.417751                    0.88\n",
       "38             IN               10425.243592                    0.88\n",
       "39             OH               10379.414253                    0.87\n",
       "40             SC               10361.162609                    0.87\n",
       "41             KS               10342.061329                    0.87\n",
       "42             IA               10271.997953                    0.86\n",
       "43             TN               10259.199905                    0.86\n",
       "44             KY               10158.594053                    0.85\n",
       "45             FL               10058.557887                    0.84\n",
       "46             LA                9756.632491                    0.82\n",
       "47             WV                9739.255307                    0.82\n",
       "48             AR                9332.545479                    0.78\n",
       "49             MS                9137.737450                    0.77\n",
       "50             AL                8706.915487                    0.73"
      ]
     },
     "execution_count": 24,
     "metadata": {},
     "output_type": "execute_result"
    }
   ],
   "source": [
    "inpatient_2017 = pd.read_csv('Inpatient_2017.csv')\n",
    "medicare_payments = inpatient_2017[['Provider_State','Average_Medicare_Payments']]\n",
    "medicare_payments_states = (medicare_payments.groupby('Provider_State').mean()).sort_values(by=\"Average_Medicare_Payments\",ascending = False)\n",
    "avg_nation_m = medicare_payments_states['Average_Medicare_Payments'].mean()\n",
    "medicare_payments_states['Average_nationwide'] = avg_nation_m\n",
    "medicare_payments_states = medicare_payments_states.eval('Relative_to_nationwide = Average_Medicare_Payments/Average_nationwide').round({'Relative_to_nationwide':2})\n",
    "medicare_payments_states = medicare_payments_states.drop(['Average_nationwide'],axis=1)\n",
    "df_medicare = medicare_payments_states.reset_index()\n",
    "df_medicare.info()\n",
    "df_medicare"
   ]
  },
  {
   "cell_type": "markdown",
   "metadata": {},
   "source": [
    "#### 3.3 What is the inpatient coverage rate in each state?"
   ]
  },
  {
   "cell_type": "markdown",
   "metadata": {},
   "source": [
    "We use medicare payments divided by total payments to get the coverage rate. We can see the coverage rate varies from state to state."
   ]
  },
  {
   "cell_type": "code",
   "execution_count": 38,
   "metadata": {},
   "outputs": [
    {
     "data": {
      "text/html": [
       "<div>\n",
       "<style scoped>\n",
       "    .dataframe tbody tr th:only-of-type {\n",
       "        vertical-align: middle;\n",
       "    }\n",
       "\n",
       "    .dataframe tbody tr th {\n",
       "        vertical-align: top;\n",
       "    }\n",
       "\n",
       "    .dataframe thead th {\n",
       "        text-align: right;\n",
       "    }\n",
       "</style>\n",
       "<table border=\"1\" class=\"dataframe\">\n",
       "  <thead>\n",
       "    <tr style=\"text-align: right;\">\n",
       "      <th></th>\n",
       "      <th>average_medicare_payments</th>\n",
       "      <th>average_total_payments</th>\n",
       "      <th>cover_rate</th>\n",
       "    </tr>\n",
       "    <tr>\n",
       "      <th>provider_state</th>\n",
       "      <th></th>\n",
       "      <th></th>\n",
       "      <th></th>\n",
       "    </tr>\n",
       "  </thead>\n",
       "  <tbody>\n",
       "    <tr>\n",
       "      <th>AK</th>\n",
       "      <td>4.477386e+06</td>\n",
       "      <td>5.030051e+06</td>\n",
       "      <td>0.890</td>\n",
       "    </tr>\n",
       "    <tr>\n",
       "      <th>AL</th>\n",
       "      <td>3.672016e+07</td>\n",
       "      <td>4.310629e+07</td>\n",
       "      <td>0.852</td>\n",
       "    </tr>\n",
       "    <tr>\n",
       "      <th>AR</th>\n",
       "      <td>2.251498e+07</td>\n",
       "      <td>2.625726e+07</td>\n",
       "      <td>0.857</td>\n",
       "    </tr>\n",
       "    <tr>\n",
       "      <th>AZ</th>\n",
       "      <td>4.050999e+07</td>\n",
       "      <td>4.721704e+07</td>\n",
       "      <td>0.858</td>\n",
       "    </tr>\n",
       "    <tr>\n",
       "      <th>CA</th>\n",
       "      <td>2.295004e+08</td>\n",
       "      <td>2.594942e+08</td>\n",
       "      <td>0.884</td>\n",
       "    </tr>\n",
       "    <tr>\n",
       "      <th>CO</th>\n",
       "      <td>2.549723e+07</td>\n",
       "      <td>3.024909e+07</td>\n",
       "      <td>0.843</td>\n",
       "    </tr>\n",
       "    <tr>\n",
       "      <th>CT</th>\n",
       "      <td>3.155988e+07</td>\n",
       "      <td>3.759063e+07</td>\n",
       "      <td>0.840</td>\n",
       "    </tr>\n",
       "    <tr>\n",
       "      <th>DC</th>\n",
       "      <td>1.094569e+07</td>\n",
       "      <td>1.416205e+07</td>\n",
       "      <td>0.773</td>\n",
       "    </tr>\n",
       "    <tr>\n",
       "      <th>DE</th>\n",
       "      <td>8.087012e+06</td>\n",
       "      <td>9.805910e+06</td>\n",
       "      <td>0.825</td>\n",
       "    </tr>\n",
       "    <tr>\n",
       "      <th>FL</th>\n",
       "      <td>1.499787e+08</td>\n",
       "      <td>1.756308e+08</td>\n",
       "      <td>0.854</td>\n",
       "    </tr>\n",
       "    <tr>\n",
       "      <th>GA</th>\n",
       "      <td>5.903628e+07</td>\n",
       "      <td>6.809852e+07</td>\n",
       "      <td>0.867</td>\n",
       "    </tr>\n",
       "    <tr>\n",
       "      <th>HI</th>\n",
       "      <td>6.619888e+06</td>\n",
       "      <td>8.027642e+06</td>\n",
       "      <td>0.825</td>\n",
       "    </tr>\n",
       "    <tr>\n",
       "      <th>IA</th>\n",
       "      <td>2.095864e+07</td>\n",
       "      <td>2.451925e+07</td>\n",
       "      <td>0.855</td>\n",
       "    </tr>\n",
       "    <tr>\n",
       "      <th>ID</th>\n",
       "      <td>7.477160e+06</td>\n",
       "      <td>8.702837e+06</td>\n",
       "      <td>0.859</td>\n",
       "    </tr>\n",
       "    <tr>\n",
       "      <th>IL</th>\n",
       "      <td>9.443246e+07</td>\n",
       "      <td>1.143231e+08</td>\n",
       "      <td>0.826</td>\n",
       "    </tr>\n",
       "    <tr>\n",
       "      <th>IN</th>\n",
       "      <td>5.115992e+07</td>\n",
       "      <td>6.029516e+07</td>\n",
       "      <td>0.848</td>\n",
       "    </tr>\n",
       "    <tr>\n",
       "      <th>KS</th>\n",
       "      <td>2.092155e+07</td>\n",
       "      <td>2.418344e+07</td>\n",
       "      <td>0.865</td>\n",
       "    </tr>\n",
       "    <tr>\n",
       "      <th>KY</th>\n",
       "      <td>3.634683e+07</td>\n",
       "      <td>4.315527e+07</td>\n",
       "      <td>0.842</td>\n",
       "    </tr>\n",
       "    <tr>\n",
       "      <th>LA</th>\n",
       "      <td>3.046299e+07</td>\n",
       "      <td>3.680453e+07</td>\n",
       "      <td>0.828</td>\n",
       "    </tr>\n",
       "    <tr>\n",
       "      <th>MA</th>\n",
       "      <td>7.011191e+07</td>\n",
       "      <td>7.949423e+07</td>\n",
       "      <td>0.882</td>\n",
       "    </tr>\n",
       "    <tr>\n",
       "      <th>MD</th>\n",
       "      <td>7.161804e+07</td>\n",
       "      <td>7.859048e+07</td>\n",
       "      <td>0.911</td>\n",
       "    </tr>\n",
       "    <tr>\n",
       "      <th>ME</th>\n",
       "      <td>9.910455e+06</td>\n",
       "      <td>1.183141e+07</td>\n",
       "      <td>0.838</td>\n",
       "    </tr>\n",
       "    <tr>\n",
       "      <th>MI</th>\n",
       "      <td>8.549759e+07</td>\n",
       "      <td>1.002096e+08</td>\n",
       "      <td>0.853</td>\n",
       "    </tr>\n",
       "    <tr>\n",
       "      <th>MN</th>\n",
       "      <td>4.364393e+07</td>\n",
       "      <td>5.154481e+07</td>\n",
       "      <td>0.847</td>\n",
       "    </tr>\n",
       "    <tr>\n",
       "      <th>MO</th>\n",
       "      <td>5.215242e+07</td>\n",
       "      <td>5.993174e+07</td>\n",
       "      <td>0.870</td>\n",
       "    </tr>\n",
       "    <tr>\n",
       "      <th>MS</th>\n",
       "      <td>2.437981e+07</td>\n",
       "      <td>2.820775e+07</td>\n",
       "      <td>0.864</td>\n",
       "    </tr>\n",
       "    <tr>\n",
       "      <th>MT</th>\n",
       "      <td>6.419778e+06</td>\n",
       "      <td>7.292790e+06</td>\n",
       "      <td>0.880</td>\n",
       "    </tr>\n",
       "    <tr>\n",
       "      <th>NC</th>\n",
       "      <td>6.784346e+07</td>\n",
       "      <td>8.201222e+07</td>\n",
       "      <td>0.827</td>\n",
       "    </tr>\n",
       "    <tr>\n",
       "      <th>ND</th>\n",
       "      <td>6.967260e+06</td>\n",
       "      <td>8.001149e+06</td>\n",
       "      <td>0.871</td>\n",
       "    </tr>\n",
       "    <tr>\n",
       "      <th>NE</th>\n",
       "      <td>1.448312e+07</td>\n",
       "      <td>1.717230e+07</td>\n",
       "      <td>0.843</td>\n",
       "    </tr>\n",
       "    <tr>\n",
       "      <th>NH</th>\n",
       "      <td>1.143722e+07</td>\n",
       "      <td>1.333075e+07</td>\n",
       "      <td>0.858</td>\n",
       "    </tr>\n",
       "    <tr>\n",
       "      <th>NJ</th>\n",
       "      <td>8.116522e+07</td>\n",
       "      <td>9.455568e+07</td>\n",
       "      <td>0.858</td>\n",
       "    </tr>\n",
       "    <tr>\n",
       "      <th>NM</th>\n",
       "      <td>1.019384e+07</td>\n",
       "      <td>1.179658e+07</td>\n",
       "      <td>0.864</td>\n",
       "    </tr>\n",
       "    <tr>\n",
       "      <th>NV</th>\n",
       "      <td>1.854362e+07</td>\n",
       "      <td>2.153524e+07</td>\n",
       "      <td>0.861</td>\n",
       "    </tr>\n",
       "    <tr>\n",
       "      <th>NY</th>\n",
       "      <td>1.586116e+08</td>\n",
       "      <td>1.862705e+08</td>\n",
       "      <td>0.852</td>\n",
       "    </tr>\n",
       "    <tr>\n",
       "      <th>OH</th>\n",
       "      <td>7.700364e+07</td>\n",
       "      <td>9.483866e+07</td>\n",
       "      <td>0.812</td>\n",
       "    </tr>\n",
       "    <tr>\n",
       "      <th>OK</th>\n",
       "      <td>2.912746e+07</td>\n",
       "      <td>3.436903e+07</td>\n",
       "      <td>0.847</td>\n",
       "    </tr>\n",
       "    <tr>\n",
       "      <th>OR</th>\n",
       "      <td>2.145912e+07</td>\n",
       "      <td>2.487473e+07</td>\n",
       "      <td>0.863</td>\n",
       "    </tr>\n",
       "    <tr>\n",
       "      <th>PA</th>\n",
       "      <td>1.002617e+08</td>\n",
       "      <td>1.249815e+08</td>\n",
       "      <td>0.802</td>\n",
       "    </tr>\n",
       "    <tr>\n",
       "      <th>RI</th>\n",
       "      <td>8.166217e+06</td>\n",
       "      <td>9.491943e+06</td>\n",
       "      <td>0.860</td>\n",
       "    </tr>\n",
       "    <tr>\n",
       "      <th>SC</th>\n",
       "      <td>3.567712e+07</td>\n",
       "      <td>4.297831e+07</td>\n",
       "      <td>0.830</td>\n",
       "    </tr>\n",
       "    <tr>\n",
       "      <th>SD</th>\n",
       "      <td>7.672148e+06</td>\n",
       "      <td>8.809894e+06</td>\n",
       "      <td>0.871</td>\n",
       "    </tr>\n",
       "    <tr>\n",
       "      <th>TN</th>\n",
       "      <td>5.000039e+07</td>\n",
       "      <td>5.828555e+07</td>\n",
       "      <td>0.858</td>\n",
       "    </tr>\n",
       "    <tr>\n",
       "      <th>TX</th>\n",
       "      <td>1.450168e+08</td>\n",
       "      <td>1.758218e+08</td>\n",
       "      <td>0.825</td>\n",
       "    </tr>\n",
       "    <tr>\n",
       "      <th>UT</th>\n",
       "      <td>1.156173e+07</td>\n",
       "      <td>1.468329e+07</td>\n",
       "      <td>0.787</td>\n",
       "    </tr>\n",
       "    <tr>\n",
       "      <th>VA</th>\n",
       "      <td>5.632123e+07</td>\n",
       "      <td>7.005691e+07</td>\n",
       "      <td>0.804</td>\n",
       "    </tr>\n",
       "    <tr>\n",
       "      <th>VT</th>\n",
       "      <td>4.382033e+06</td>\n",
       "      <td>5.036113e+06</td>\n",
       "      <td>0.870</td>\n",
       "    </tr>\n",
       "    <tr>\n",
       "      <th>WA</th>\n",
       "      <td>4.376433e+07</td>\n",
       "      <td>5.171247e+07</td>\n",
       "      <td>0.846</td>\n",
       "    </tr>\n",
       "    <tr>\n",
       "      <th>WI</th>\n",
       "      <td>3.486646e+07</td>\n",
       "      <td>4.221091e+07</td>\n",
       "      <td>0.826</td>\n",
       "    </tr>\n",
       "    <tr>\n",
       "      <th>WV</th>\n",
       "      <td>1.530026e+07</td>\n",
       "      <td>1.860003e+07</td>\n",
       "      <td>0.823</td>\n",
       "    </tr>\n",
       "    <tr>\n",
       "      <th>WY</th>\n",
       "      <td>3.052321e+06</td>\n",
       "      <td>3.531473e+06</td>\n",
       "      <td>0.864</td>\n",
       "    </tr>\n",
       "  </tbody>\n",
       "</table>\n",
       "</div>"
      ],
      "text/plain": [
       "                average_medicare_payments  average_total_payments  cover_rate\n",
       "provider_state                                                               \n",
       "AK                           4.477386e+06            5.030051e+06       0.890\n",
       "AL                           3.672016e+07            4.310629e+07       0.852\n",
       "AR                           2.251498e+07            2.625726e+07       0.857\n",
       "AZ                           4.050999e+07            4.721704e+07       0.858\n",
       "CA                           2.295004e+08            2.594942e+08       0.884\n",
       "CO                           2.549723e+07            3.024909e+07       0.843\n",
       "CT                           3.155988e+07            3.759063e+07       0.840\n",
       "DC                           1.094569e+07            1.416205e+07       0.773\n",
       "DE                           8.087012e+06            9.805910e+06       0.825\n",
       "FL                           1.499787e+08            1.756308e+08       0.854\n",
       "GA                           5.903628e+07            6.809852e+07       0.867\n",
       "HI                           6.619888e+06            8.027642e+06       0.825\n",
       "IA                           2.095864e+07            2.451925e+07       0.855\n",
       "ID                           7.477160e+06            8.702837e+06       0.859\n",
       "IL                           9.443246e+07            1.143231e+08       0.826\n",
       "IN                           5.115992e+07            6.029516e+07       0.848\n",
       "KS                           2.092155e+07            2.418344e+07       0.865\n",
       "KY                           3.634683e+07            4.315527e+07       0.842\n",
       "LA                           3.046299e+07            3.680453e+07       0.828\n",
       "MA                           7.011191e+07            7.949423e+07       0.882\n",
       "MD                           7.161804e+07            7.859048e+07       0.911\n",
       "ME                           9.910455e+06            1.183141e+07       0.838\n",
       "MI                           8.549759e+07            1.002096e+08       0.853\n",
       "MN                           4.364393e+07            5.154481e+07       0.847\n",
       "MO                           5.215242e+07            5.993174e+07       0.870\n",
       "MS                           2.437981e+07            2.820775e+07       0.864\n",
       "MT                           6.419778e+06            7.292790e+06       0.880\n",
       "NC                           6.784346e+07            8.201222e+07       0.827\n",
       "ND                           6.967260e+06            8.001149e+06       0.871\n",
       "NE                           1.448312e+07            1.717230e+07       0.843\n",
       "NH                           1.143722e+07            1.333075e+07       0.858\n",
       "NJ                           8.116522e+07            9.455568e+07       0.858\n",
       "NM                           1.019384e+07            1.179658e+07       0.864\n",
       "NV                           1.854362e+07            2.153524e+07       0.861\n",
       "NY                           1.586116e+08            1.862705e+08       0.852\n",
       "OH                           7.700364e+07            9.483866e+07       0.812\n",
       "OK                           2.912746e+07            3.436903e+07       0.847\n",
       "OR                           2.145912e+07            2.487473e+07       0.863\n",
       "PA                           1.002617e+08            1.249815e+08       0.802\n",
       "RI                           8.166217e+06            9.491943e+06       0.860\n",
       "SC                           3.567712e+07            4.297831e+07       0.830\n",
       "SD                           7.672148e+06            8.809894e+06       0.871\n",
       "TN                           5.000039e+07            5.828555e+07       0.858\n",
       "TX                           1.450168e+08            1.758218e+08       0.825\n",
       "UT                           1.156173e+07            1.468329e+07       0.787\n",
       "VA                           5.632123e+07            7.005691e+07       0.804\n",
       "VT                           4.382033e+06            5.036113e+06       0.870\n",
       "WA                           4.376433e+07            5.171247e+07       0.846\n",
       "WI                           3.486646e+07            4.221091e+07       0.826\n",
       "WV                           1.530026e+07            1.860003e+07       0.823\n",
       "WY                           3.052321e+06            3.531473e+06       0.864"
      ]
     },
     "execution_count": 38,
     "metadata": {},
     "output_type": "execute_result"
    }
   ],
   "source": [
    "cover_rate = inpatient_2015[['provider_state','average_medicare_payments','average_total_payments']]\n",
    "c = cover_rate.groupby('provider_state').sum().eval('cover_rate = average_medicare_payments/ average_total_payments').round({'cover_rate':3})"
   ]
  },
  {
   "cell_type": "code",
   "execution_count": 30,
   "metadata": {},
   "outputs": [
    {
     "data": {
      "text/html": [
       "<div>\n",
       "<style scoped>\n",
       "    .dataframe tbody tr th:only-of-type {\n",
       "        vertical-align: middle;\n",
       "    }\n",
       "\n",
       "    .dataframe tbody tr th {\n",
       "        vertical-align: top;\n",
       "    }\n",
       "\n",
       "    .dataframe thead th {\n",
       "        text-align: right;\n",
       "    }\n",
       "</style>\n",
       "<table border=\"1\" class=\"dataframe\">\n",
       "  <thead>\n",
       "    <tr style=\"text-align: right;\">\n",
       "      <th></th>\n",
       "      <th>provider_state</th>\n",
       "      <th>average_medicare_payments</th>\n",
       "      <th>average_total_payments</th>\n",
       "      <th>cover_rate</th>\n",
       "    </tr>\n",
       "  </thead>\n",
       "  <tbody>\n",
       "    <tr>\n",
       "      <th>0</th>\n",
       "      <td>AK</td>\n",
       "      <td>4.477386e+06</td>\n",
       "      <td>5.030051e+06</td>\n",
       "      <td>0.890</td>\n",
       "    </tr>\n",
       "    <tr>\n",
       "      <th>1</th>\n",
       "      <td>AL</td>\n",
       "      <td>3.672016e+07</td>\n",
       "      <td>4.310629e+07</td>\n",
       "      <td>0.852</td>\n",
       "    </tr>\n",
       "    <tr>\n",
       "      <th>2</th>\n",
       "      <td>AR</td>\n",
       "      <td>2.251498e+07</td>\n",
       "      <td>2.625726e+07</td>\n",
       "      <td>0.857</td>\n",
       "    </tr>\n",
       "    <tr>\n",
       "      <th>3</th>\n",
       "      <td>AZ</td>\n",
       "      <td>4.050999e+07</td>\n",
       "      <td>4.721704e+07</td>\n",
       "      <td>0.858</td>\n",
       "    </tr>\n",
       "    <tr>\n",
       "      <th>4</th>\n",
       "      <td>CA</td>\n",
       "      <td>2.295004e+08</td>\n",
       "      <td>2.594942e+08</td>\n",
       "      <td>0.884</td>\n",
       "    </tr>\n",
       "    <tr>\n",
       "      <th>5</th>\n",
       "      <td>CO</td>\n",
       "      <td>2.549723e+07</td>\n",
       "      <td>3.024909e+07</td>\n",
       "      <td>0.843</td>\n",
       "    </tr>\n",
       "    <tr>\n",
       "      <th>6</th>\n",
       "      <td>CT</td>\n",
       "      <td>3.155988e+07</td>\n",
       "      <td>3.759063e+07</td>\n",
       "      <td>0.840</td>\n",
       "    </tr>\n",
       "    <tr>\n",
       "      <th>7</th>\n",
       "      <td>DC</td>\n",
       "      <td>1.094569e+07</td>\n",
       "      <td>1.416205e+07</td>\n",
       "      <td>0.773</td>\n",
       "    </tr>\n",
       "    <tr>\n",
       "      <th>8</th>\n",
       "      <td>DE</td>\n",
       "      <td>8.087012e+06</td>\n",
       "      <td>9.805910e+06</td>\n",
       "      <td>0.825</td>\n",
       "    </tr>\n",
       "    <tr>\n",
       "      <th>9</th>\n",
       "      <td>FL</td>\n",
       "      <td>1.499787e+08</td>\n",
       "      <td>1.756308e+08</td>\n",
       "      <td>0.854</td>\n",
       "    </tr>\n",
       "    <tr>\n",
       "      <th>10</th>\n",
       "      <td>GA</td>\n",
       "      <td>5.903628e+07</td>\n",
       "      <td>6.809852e+07</td>\n",
       "      <td>0.867</td>\n",
       "    </tr>\n",
       "    <tr>\n",
       "      <th>11</th>\n",
       "      <td>HI</td>\n",
       "      <td>6.619888e+06</td>\n",
       "      <td>8.027642e+06</td>\n",
       "      <td>0.825</td>\n",
       "    </tr>\n",
       "    <tr>\n",
       "      <th>12</th>\n",
       "      <td>IA</td>\n",
       "      <td>2.095864e+07</td>\n",
       "      <td>2.451925e+07</td>\n",
       "      <td>0.855</td>\n",
       "    </tr>\n",
       "    <tr>\n",
       "      <th>13</th>\n",
       "      <td>ID</td>\n",
       "      <td>7.477160e+06</td>\n",
       "      <td>8.702837e+06</td>\n",
       "      <td>0.859</td>\n",
       "    </tr>\n",
       "    <tr>\n",
       "      <th>14</th>\n",
       "      <td>IL</td>\n",
       "      <td>9.443246e+07</td>\n",
       "      <td>1.143231e+08</td>\n",
       "      <td>0.826</td>\n",
       "    </tr>\n",
       "    <tr>\n",
       "      <th>15</th>\n",
       "      <td>IN</td>\n",
       "      <td>5.115992e+07</td>\n",
       "      <td>6.029516e+07</td>\n",
       "      <td>0.848</td>\n",
       "    </tr>\n",
       "    <tr>\n",
       "      <th>16</th>\n",
       "      <td>KS</td>\n",
       "      <td>2.092155e+07</td>\n",
       "      <td>2.418344e+07</td>\n",
       "      <td>0.865</td>\n",
       "    </tr>\n",
       "    <tr>\n",
       "      <th>17</th>\n",
       "      <td>KY</td>\n",
       "      <td>3.634683e+07</td>\n",
       "      <td>4.315527e+07</td>\n",
       "      <td>0.842</td>\n",
       "    </tr>\n",
       "    <tr>\n",
       "      <th>18</th>\n",
       "      <td>LA</td>\n",
       "      <td>3.046299e+07</td>\n",
       "      <td>3.680453e+07</td>\n",
       "      <td>0.828</td>\n",
       "    </tr>\n",
       "    <tr>\n",
       "      <th>19</th>\n",
       "      <td>MA</td>\n",
       "      <td>7.011191e+07</td>\n",
       "      <td>7.949423e+07</td>\n",
       "      <td>0.882</td>\n",
       "    </tr>\n",
       "    <tr>\n",
       "      <th>20</th>\n",
       "      <td>MD</td>\n",
       "      <td>7.161804e+07</td>\n",
       "      <td>7.859048e+07</td>\n",
       "      <td>0.911</td>\n",
       "    </tr>\n",
       "    <tr>\n",
       "      <th>21</th>\n",
       "      <td>ME</td>\n",
       "      <td>9.910455e+06</td>\n",
       "      <td>1.183141e+07</td>\n",
       "      <td>0.838</td>\n",
       "    </tr>\n",
       "    <tr>\n",
       "      <th>22</th>\n",
       "      <td>MI</td>\n",
       "      <td>8.549759e+07</td>\n",
       "      <td>1.002096e+08</td>\n",
       "      <td>0.853</td>\n",
       "    </tr>\n",
       "    <tr>\n",
       "      <th>23</th>\n",
       "      <td>MN</td>\n",
       "      <td>4.364393e+07</td>\n",
       "      <td>5.154481e+07</td>\n",
       "      <td>0.847</td>\n",
       "    </tr>\n",
       "    <tr>\n",
       "      <th>24</th>\n",
       "      <td>MO</td>\n",
       "      <td>5.215242e+07</td>\n",
       "      <td>5.993174e+07</td>\n",
       "      <td>0.870</td>\n",
       "    </tr>\n",
       "    <tr>\n",
       "      <th>25</th>\n",
       "      <td>MS</td>\n",
       "      <td>2.437981e+07</td>\n",
       "      <td>2.820775e+07</td>\n",
       "      <td>0.864</td>\n",
       "    </tr>\n",
       "    <tr>\n",
       "      <th>26</th>\n",
       "      <td>MT</td>\n",
       "      <td>6.419778e+06</td>\n",
       "      <td>7.292790e+06</td>\n",
       "      <td>0.880</td>\n",
       "    </tr>\n",
       "    <tr>\n",
       "      <th>27</th>\n",
       "      <td>NC</td>\n",
       "      <td>6.784346e+07</td>\n",
       "      <td>8.201222e+07</td>\n",
       "      <td>0.827</td>\n",
       "    </tr>\n",
       "    <tr>\n",
       "      <th>28</th>\n",
       "      <td>ND</td>\n",
       "      <td>6.967260e+06</td>\n",
       "      <td>8.001149e+06</td>\n",
       "      <td>0.871</td>\n",
       "    </tr>\n",
       "    <tr>\n",
       "      <th>29</th>\n",
       "      <td>NE</td>\n",
       "      <td>1.448312e+07</td>\n",
       "      <td>1.717230e+07</td>\n",
       "      <td>0.843</td>\n",
       "    </tr>\n",
       "    <tr>\n",
       "      <th>30</th>\n",
       "      <td>NH</td>\n",
       "      <td>1.143722e+07</td>\n",
       "      <td>1.333075e+07</td>\n",
       "      <td>0.858</td>\n",
       "    </tr>\n",
       "    <tr>\n",
       "      <th>31</th>\n",
       "      <td>NJ</td>\n",
       "      <td>8.116522e+07</td>\n",
       "      <td>9.455568e+07</td>\n",
       "      <td>0.858</td>\n",
       "    </tr>\n",
       "    <tr>\n",
       "      <th>32</th>\n",
       "      <td>NM</td>\n",
       "      <td>1.019384e+07</td>\n",
       "      <td>1.179658e+07</td>\n",
       "      <td>0.864</td>\n",
       "    </tr>\n",
       "    <tr>\n",
       "      <th>33</th>\n",
       "      <td>NV</td>\n",
       "      <td>1.854362e+07</td>\n",
       "      <td>2.153524e+07</td>\n",
       "      <td>0.861</td>\n",
       "    </tr>\n",
       "    <tr>\n",
       "      <th>34</th>\n",
       "      <td>NY</td>\n",
       "      <td>1.586116e+08</td>\n",
       "      <td>1.862705e+08</td>\n",
       "      <td>0.852</td>\n",
       "    </tr>\n",
       "    <tr>\n",
       "      <th>35</th>\n",
       "      <td>OH</td>\n",
       "      <td>7.700364e+07</td>\n",
       "      <td>9.483866e+07</td>\n",
       "      <td>0.812</td>\n",
       "    </tr>\n",
       "    <tr>\n",
       "      <th>36</th>\n",
       "      <td>OK</td>\n",
       "      <td>2.912746e+07</td>\n",
       "      <td>3.436903e+07</td>\n",
       "      <td>0.847</td>\n",
       "    </tr>\n",
       "    <tr>\n",
       "      <th>37</th>\n",
       "      <td>OR</td>\n",
       "      <td>2.145912e+07</td>\n",
       "      <td>2.487473e+07</td>\n",
       "      <td>0.863</td>\n",
       "    </tr>\n",
       "    <tr>\n",
       "      <th>38</th>\n",
       "      <td>PA</td>\n",
       "      <td>1.002617e+08</td>\n",
       "      <td>1.249815e+08</td>\n",
       "      <td>0.802</td>\n",
       "    </tr>\n",
       "    <tr>\n",
       "      <th>39</th>\n",
       "      <td>RI</td>\n",
       "      <td>8.166217e+06</td>\n",
       "      <td>9.491943e+06</td>\n",
       "      <td>0.860</td>\n",
       "    </tr>\n",
       "    <tr>\n",
       "      <th>40</th>\n",
       "      <td>SC</td>\n",
       "      <td>3.567712e+07</td>\n",
       "      <td>4.297831e+07</td>\n",
       "      <td>0.830</td>\n",
       "    </tr>\n",
       "    <tr>\n",
       "      <th>41</th>\n",
       "      <td>SD</td>\n",
       "      <td>7.672148e+06</td>\n",
       "      <td>8.809894e+06</td>\n",
       "      <td>0.871</td>\n",
       "    </tr>\n",
       "    <tr>\n",
       "      <th>42</th>\n",
       "      <td>TN</td>\n",
       "      <td>5.000039e+07</td>\n",
       "      <td>5.828555e+07</td>\n",
       "      <td>0.858</td>\n",
       "    </tr>\n",
       "    <tr>\n",
       "      <th>43</th>\n",
       "      <td>TX</td>\n",
       "      <td>1.450168e+08</td>\n",
       "      <td>1.758218e+08</td>\n",
       "      <td>0.825</td>\n",
       "    </tr>\n",
       "    <tr>\n",
       "      <th>44</th>\n",
       "      <td>UT</td>\n",
       "      <td>1.156173e+07</td>\n",
       "      <td>1.468329e+07</td>\n",
       "      <td>0.787</td>\n",
       "    </tr>\n",
       "    <tr>\n",
       "      <th>45</th>\n",
       "      <td>VA</td>\n",
       "      <td>5.632123e+07</td>\n",
       "      <td>7.005691e+07</td>\n",
       "      <td>0.804</td>\n",
       "    </tr>\n",
       "    <tr>\n",
       "      <th>46</th>\n",
       "      <td>VT</td>\n",
       "      <td>4.382033e+06</td>\n",
       "      <td>5.036113e+06</td>\n",
       "      <td>0.870</td>\n",
       "    </tr>\n",
       "    <tr>\n",
       "      <th>47</th>\n",
       "      <td>WA</td>\n",
       "      <td>4.376433e+07</td>\n",
       "      <td>5.171247e+07</td>\n",
       "      <td>0.846</td>\n",
       "    </tr>\n",
       "    <tr>\n",
       "      <th>48</th>\n",
       "      <td>WI</td>\n",
       "      <td>3.486646e+07</td>\n",
       "      <td>4.221091e+07</td>\n",
       "      <td>0.826</td>\n",
       "    </tr>\n",
       "    <tr>\n",
       "      <th>49</th>\n",
       "      <td>WV</td>\n",
       "      <td>1.530026e+07</td>\n",
       "      <td>1.860003e+07</td>\n",
       "      <td>0.823</td>\n",
       "    </tr>\n",
       "    <tr>\n",
       "      <th>50</th>\n",
       "      <td>WY</td>\n",
       "      <td>3.052321e+06</td>\n",
       "      <td>3.531473e+06</td>\n",
       "      <td>0.864</td>\n",
       "    </tr>\n",
       "  </tbody>\n",
       "</table>\n",
       "</div>"
      ],
      "text/plain": [
       "   provider_state  average_medicare_payments  average_total_payments  \\\n",
       "0              AK               4.477386e+06            5.030051e+06   \n",
       "1              AL               3.672016e+07            4.310629e+07   \n",
       "2              AR               2.251498e+07            2.625726e+07   \n",
       "3              AZ               4.050999e+07            4.721704e+07   \n",
       "4              CA               2.295004e+08            2.594942e+08   \n",
       "5              CO               2.549723e+07            3.024909e+07   \n",
       "6              CT               3.155988e+07            3.759063e+07   \n",
       "7              DC               1.094569e+07            1.416205e+07   \n",
       "8              DE               8.087012e+06            9.805910e+06   \n",
       "9              FL               1.499787e+08            1.756308e+08   \n",
       "10             GA               5.903628e+07            6.809852e+07   \n",
       "11             HI               6.619888e+06            8.027642e+06   \n",
       "12             IA               2.095864e+07            2.451925e+07   \n",
       "13             ID               7.477160e+06            8.702837e+06   \n",
       "14             IL               9.443246e+07            1.143231e+08   \n",
       "15             IN               5.115992e+07            6.029516e+07   \n",
       "16             KS               2.092155e+07            2.418344e+07   \n",
       "17             KY               3.634683e+07            4.315527e+07   \n",
       "18             LA               3.046299e+07            3.680453e+07   \n",
       "19             MA               7.011191e+07            7.949423e+07   \n",
       "20             MD               7.161804e+07            7.859048e+07   \n",
       "21             ME               9.910455e+06            1.183141e+07   \n",
       "22             MI               8.549759e+07            1.002096e+08   \n",
       "23             MN               4.364393e+07            5.154481e+07   \n",
       "24             MO               5.215242e+07            5.993174e+07   \n",
       "25             MS               2.437981e+07            2.820775e+07   \n",
       "26             MT               6.419778e+06            7.292790e+06   \n",
       "27             NC               6.784346e+07            8.201222e+07   \n",
       "28             ND               6.967260e+06            8.001149e+06   \n",
       "29             NE               1.448312e+07            1.717230e+07   \n",
       "30             NH               1.143722e+07            1.333075e+07   \n",
       "31             NJ               8.116522e+07            9.455568e+07   \n",
       "32             NM               1.019384e+07            1.179658e+07   \n",
       "33             NV               1.854362e+07            2.153524e+07   \n",
       "34             NY               1.586116e+08            1.862705e+08   \n",
       "35             OH               7.700364e+07            9.483866e+07   \n",
       "36             OK               2.912746e+07            3.436903e+07   \n",
       "37             OR               2.145912e+07            2.487473e+07   \n",
       "38             PA               1.002617e+08            1.249815e+08   \n",
       "39             RI               8.166217e+06            9.491943e+06   \n",
       "40             SC               3.567712e+07            4.297831e+07   \n",
       "41             SD               7.672148e+06            8.809894e+06   \n",
       "42             TN               5.000039e+07            5.828555e+07   \n",
       "43             TX               1.450168e+08            1.758218e+08   \n",
       "44             UT               1.156173e+07            1.468329e+07   \n",
       "45             VA               5.632123e+07            7.005691e+07   \n",
       "46             VT               4.382033e+06            5.036113e+06   \n",
       "47             WA               4.376433e+07            5.171247e+07   \n",
       "48             WI               3.486646e+07            4.221091e+07   \n",
       "49             WV               1.530026e+07            1.860003e+07   \n",
       "50             WY               3.052321e+06            3.531473e+06   \n",
       "\n",
       "    cover_rate  \n",
       "0        0.890  \n",
       "1        0.852  \n",
       "2        0.857  \n",
       "3        0.858  \n",
       "4        0.884  \n",
       "5        0.843  \n",
       "6        0.840  \n",
       "7        0.773  \n",
       "8        0.825  \n",
       "9        0.854  \n",
       "10       0.867  \n",
       "11       0.825  \n",
       "12       0.855  \n",
       "13       0.859  \n",
       "14       0.826  \n",
       "15       0.848  \n",
       "16       0.865  \n",
       "17       0.842  \n",
       "18       0.828  \n",
       "19       0.882  \n",
       "20       0.911  \n",
       "21       0.838  \n",
       "22       0.853  \n",
       "23       0.847  \n",
       "24       0.870  \n",
       "25       0.864  \n",
       "26       0.880  \n",
       "27       0.827  \n",
       "28       0.871  \n",
       "29       0.843  \n",
       "30       0.858  \n",
       "31       0.858  \n",
       "32       0.864  \n",
       "33       0.861  \n",
       "34       0.852  \n",
       "35       0.812  \n",
       "36       0.847  \n",
       "37       0.863  \n",
       "38       0.802  \n",
       "39       0.860  \n",
       "40       0.830  \n",
       "41       0.871  \n",
       "42       0.858  \n",
       "43       0.825  \n",
       "44       0.787  \n",
       "45       0.804  \n",
       "46       0.870  \n",
       "47       0.846  \n",
       "48       0.826  \n",
       "49       0.823  \n",
       "50       0.864  "
      ]
     },
     "execution_count": 30,
     "metadata": {},
     "output_type": "execute_result"
    }
   ],
   "source": [
    "df = c.reset_index()\n",
    "df"
   ]
  },
  {
   "cell_type": "code",
   "execution_count": 26,
   "metadata": {},
   "outputs": [
    {
     "data": {
      "application/vnd.plotly.v1+json": {
       "config": {
        "plotlyServerURL": "https://plot.ly"
       },
       "data": [
        {
         "coloraxis": "coloraxis",
         "geo": "geo",
         "hovertemplate": "locations=%{location}<br>color=%{z}<extra></extra>",
         "locationmode": "USA-states",
         "locations": [
          "AK",
          "AL",
          "AR",
          "AZ",
          "CA",
          "CO",
          "CT",
          "DC",
          "DE",
          "FL",
          "GA",
          "HI",
          "IA",
          "ID",
          "IL",
          "IN",
          "KS",
          "KY",
          "LA",
          "MA",
          "MD",
          "ME",
          "MI",
          "MN",
          "MO",
          "MS",
          "MT",
          "NC",
          "ND",
          "NE",
          "NH",
          "NJ",
          "NM",
          "NV",
          "NY",
          "OH",
          "OK",
          "OR",
          "PA",
          "RI",
          "SC",
          "SD",
          "TN",
          "TX",
          "UT",
          "VA",
          "VT",
          "WA",
          "WI",
          "WV",
          "WY"
         ],
         "name": "",
         "type": "choropleth",
         "z": [
          0.89,
          0.852,
          0.857,
          0.858,
          0.884,
          0.843,
          0.84,
          0.773,
          0.825,
          0.854,
          0.867,
          0.825,
          0.855,
          0.859,
          0.826,
          0.848,
          0.865,
          0.842,
          0.828,
          0.882,
          0.911,
          0.838,
          0.853,
          0.847,
          0.87,
          0.864,
          0.88,
          0.827,
          0.871,
          0.843,
          0.858,
          0.858,
          0.864,
          0.861,
          0.852,
          0.812,
          0.847,
          0.863,
          0.802,
          0.86,
          0.83,
          0.871,
          0.858,
          0.825,
          0.787,
          0.804,
          0.87,
          0.846,
          0.826,
          0.823,
          0.864
         ]
        }
       ],
       "layout": {
        "autosize": true,
        "coloraxis": {
         "colorbar": {
          "title": {
           "text": "color"
          }
         },
         "colorscale": [
          [
           0,
           "#0d0887"
          ],
          [
           0.1111111111111111,
           "#46039f"
          ],
          [
           0.2222222222222222,
           "#7201a8"
          ],
          [
           0.3333333333333333,
           "#9c179e"
          ],
          [
           0.4444444444444444,
           "#bd3786"
          ],
          [
           0.5555555555555556,
           "#d8576b"
          ],
          [
           0.6666666666666666,
           "#ed7953"
          ],
          [
           0.7777777777777778,
           "#fb9f3a"
          ],
          [
           0.8888888888888888,
           "#fdca26"
          ],
          [
           1,
           "#f0f921"
          ]
         ]
        },
        "geo": {
         "center": {
          "lat": 41.798573252005745,
          "lon": -70.54664574412301
         },
         "domain": {
          "x": [
           0,
           1
          ],
          "y": [
           0,
           1
          ]
         },
         "projection": {
          "scale": 0.603740295743249
         },
         "scope": "usa"
        },
        "legend": {
         "tracegroupgap": 0
        },
        "margin": {
         "t": 60
        },
        "template": {
         "data": {
          "bar": [
           {
            "error_x": {
             "color": "#2a3f5f"
            },
            "error_y": {
             "color": "#2a3f5f"
            },
            "marker": {
             "line": {
              "color": "#E5ECF6",
              "width": 0.5
             }
            },
            "type": "bar"
           }
          ],
          "barpolar": [
           {
            "marker": {
             "line": {
              "color": "#E5ECF6",
              "width": 0.5
             }
            },
            "type": "barpolar"
           }
          ],
          "carpet": [
           {
            "aaxis": {
             "endlinecolor": "#2a3f5f",
             "gridcolor": "white",
             "linecolor": "white",
             "minorgridcolor": "white",
             "startlinecolor": "#2a3f5f"
            },
            "baxis": {
             "endlinecolor": "#2a3f5f",
             "gridcolor": "white",
             "linecolor": "white",
             "minorgridcolor": "white",
             "startlinecolor": "#2a3f5f"
            },
            "type": "carpet"
           }
          ],
          "choropleth": [
           {
            "colorbar": {
             "outlinewidth": 0,
             "ticks": ""
            },
            "type": "choropleth"
           }
          ],
          "contour": [
           {
            "colorbar": {
             "outlinewidth": 0,
             "ticks": ""
            },
            "colorscale": [
             [
              0,
              "#0d0887"
             ],
             [
              0.1111111111111111,
              "#46039f"
             ],
             [
              0.2222222222222222,
              "#7201a8"
             ],
             [
              0.3333333333333333,
              "#9c179e"
             ],
             [
              0.4444444444444444,
              "#bd3786"
             ],
             [
              0.5555555555555556,
              "#d8576b"
             ],
             [
              0.6666666666666666,
              "#ed7953"
             ],
             [
              0.7777777777777778,
              "#fb9f3a"
             ],
             [
              0.8888888888888888,
              "#fdca26"
             ],
             [
              1,
              "#f0f921"
             ]
            ],
            "type": "contour"
           }
          ],
          "contourcarpet": [
           {
            "colorbar": {
             "outlinewidth": 0,
             "ticks": ""
            },
            "type": "contourcarpet"
           }
          ],
          "heatmap": [
           {
            "colorbar": {
             "outlinewidth": 0,
             "ticks": ""
            },
            "colorscale": [
             [
              0,
              "#0d0887"
             ],
             [
              0.1111111111111111,
              "#46039f"
             ],
             [
              0.2222222222222222,
              "#7201a8"
             ],
             [
              0.3333333333333333,
              "#9c179e"
             ],
             [
              0.4444444444444444,
              "#bd3786"
             ],
             [
              0.5555555555555556,
              "#d8576b"
             ],
             [
              0.6666666666666666,
              "#ed7953"
             ],
             [
              0.7777777777777778,
              "#fb9f3a"
             ],
             [
              0.8888888888888888,
              "#fdca26"
             ],
             [
              1,
              "#f0f921"
             ]
            ],
            "type": "heatmap"
           }
          ],
          "heatmapgl": [
           {
            "colorbar": {
             "outlinewidth": 0,
             "ticks": ""
            },
            "colorscale": [
             [
              0,
              "#0d0887"
             ],
             [
              0.1111111111111111,
              "#46039f"
             ],
             [
              0.2222222222222222,
              "#7201a8"
             ],
             [
              0.3333333333333333,
              "#9c179e"
             ],
             [
              0.4444444444444444,
              "#bd3786"
             ],
             [
              0.5555555555555556,
              "#d8576b"
             ],
             [
              0.6666666666666666,
              "#ed7953"
             ],
             [
              0.7777777777777778,
              "#fb9f3a"
             ],
             [
              0.8888888888888888,
              "#fdca26"
             ],
             [
              1,
              "#f0f921"
             ]
            ],
            "type": "heatmapgl"
           }
          ],
          "histogram": [
           {
            "marker": {
             "colorbar": {
              "outlinewidth": 0,
              "ticks": ""
             }
            },
            "type": "histogram"
           }
          ],
          "histogram2d": [
           {
            "colorbar": {
             "outlinewidth": 0,
             "ticks": ""
            },
            "colorscale": [
             [
              0,
              "#0d0887"
             ],
             [
              0.1111111111111111,
              "#46039f"
             ],
             [
              0.2222222222222222,
              "#7201a8"
             ],
             [
              0.3333333333333333,
              "#9c179e"
             ],
             [
              0.4444444444444444,
              "#bd3786"
             ],
             [
              0.5555555555555556,
              "#d8576b"
             ],
             [
              0.6666666666666666,
              "#ed7953"
             ],
             [
              0.7777777777777778,
              "#fb9f3a"
             ],
             [
              0.8888888888888888,
              "#fdca26"
             ],
             [
              1,
              "#f0f921"
             ]
            ],
            "type": "histogram2d"
           }
          ],
          "histogram2dcontour": [
           {
            "colorbar": {
             "outlinewidth": 0,
             "ticks": ""
            },
            "colorscale": [
             [
              0,
              "#0d0887"
             ],
             [
              0.1111111111111111,
              "#46039f"
             ],
             [
              0.2222222222222222,
              "#7201a8"
             ],
             [
              0.3333333333333333,
              "#9c179e"
             ],
             [
              0.4444444444444444,
              "#bd3786"
             ],
             [
              0.5555555555555556,
              "#d8576b"
             ],
             [
              0.6666666666666666,
              "#ed7953"
             ],
             [
              0.7777777777777778,
              "#fb9f3a"
             ],
             [
              0.8888888888888888,
              "#fdca26"
             ],
             [
              1,
              "#f0f921"
             ]
            ],
            "type": "histogram2dcontour"
           }
          ],
          "mesh3d": [
           {
            "colorbar": {
             "outlinewidth": 0,
             "ticks": ""
            },
            "type": "mesh3d"
           }
          ],
          "parcoords": [
           {
            "line": {
             "colorbar": {
              "outlinewidth": 0,
              "ticks": ""
             }
            },
            "type": "parcoords"
           }
          ],
          "pie": [
           {
            "automargin": true,
            "type": "pie"
           }
          ],
          "scatter": [
           {
            "marker": {
             "colorbar": {
              "outlinewidth": 0,
              "ticks": ""
             }
            },
            "type": "scatter"
           }
          ],
          "scatter3d": [
           {
            "line": {
             "colorbar": {
              "outlinewidth": 0,
              "ticks": ""
             }
            },
            "marker": {
             "colorbar": {
              "outlinewidth": 0,
              "ticks": ""
             }
            },
            "type": "scatter3d"
           }
          ],
          "scattercarpet": [
           {
            "marker": {
             "colorbar": {
              "outlinewidth": 0,
              "ticks": ""
             }
            },
            "type": "scattercarpet"
           }
          ],
          "scattergeo": [
           {
            "marker": {
             "colorbar": {
              "outlinewidth": 0,
              "ticks": ""
             }
            },
            "type": "scattergeo"
           }
          ],
          "scattergl": [
           {
            "marker": {
             "colorbar": {
              "outlinewidth": 0,
              "ticks": ""
             }
            },
            "type": "scattergl"
           }
          ],
          "scattermapbox": [
           {
            "marker": {
             "colorbar": {
              "outlinewidth": 0,
              "ticks": ""
             }
            },
            "type": "scattermapbox"
           }
          ],
          "scatterpolar": [
           {
            "marker": {
             "colorbar": {
              "outlinewidth": 0,
              "ticks": ""
             }
            },
            "type": "scatterpolar"
           }
          ],
          "scatterpolargl": [
           {
            "marker": {
             "colorbar": {
              "outlinewidth": 0,
              "ticks": ""
             }
            },
            "type": "scatterpolargl"
           }
          ],
          "scatterternary": [
           {
            "marker": {
             "colorbar": {
              "outlinewidth": 0,
              "ticks": ""
             }
            },
            "type": "scatterternary"
           }
          ],
          "surface": [
           {
            "colorbar": {
             "outlinewidth": 0,
             "ticks": ""
            },
            "colorscale": [
             [
              0,
              "#0d0887"
             ],
             [
              0.1111111111111111,
              "#46039f"
             ],
             [
              0.2222222222222222,
              "#7201a8"
             ],
             [
              0.3333333333333333,
              "#9c179e"
             ],
             [
              0.4444444444444444,
              "#bd3786"
             ],
             [
              0.5555555555555556,
              "#d8576b"
             ],
             [
              0.6666666666666666,
              "#ed7953"
             ],
             [
              0.7777777777777778,
              "#fb9f3a"
             ],
             [
              0.8888888888888888,
              "#fdca26"
             ],
             [
              1,
              "#f0f921"
             ]
            ],
            "type": "surface"
           }
          ],
          "table": [
           {
            "cells": {
             "fill": {
              "color": "#EBF0F8"
             },
             "line": {
              "color": "white"
             }
            },
            "header": {
             "fill": {
              "color": "#C8D4E3"
             },
             "line": {
              "color": "white"
             }
            },
            "type": "table"
           }
          ]
         },
         "layout": {
          "annotationdefaults": {
           "arrowcolor": "#2a3f5f",
           "arrowhead": 0,
           "arrowwidth": 1
          },
          "coloraxis": {
           "colorbar": {
            "outlinewidth": 0,
            "ticks": ""
           }
          },
          "colorscale": {
           "diverging": [
            [
             0,
             "#8e0152"
            ],
            [
             0.1,
             "#c51b7d"
            ],
            [
             0.2,
             "#de77ae"
            ],
            [
             0.3,
             "#f1b6da"
            ],
            [
             0.4,
             "#fde0ef"
            ],
            [
             0.5,
             "#f7f7f7"
            ],
            [
             0.6,
             "#e6f5d0"
            ],
            [
             0.7,
             "#b8e186"
            ],
            [
             0.8,
             "#7fbc41"
            ],
            [
             0.9,
             "#4d9221"
            ],
            [
             1,
             "#276419"
            ]
           ],
           "sequential": [
            [
             0,
             "#0d0887"
            ],
            [
             0.1111111111111111,
             "#46039f"
            ],
            [
             0.2222222222222222,
             "#7201a8"
            ],
            [
             0.3333333333333333,
             "#9c179e"
            ],
            [
             0.4444444444444444,
             "#bd3786"
            ],
            [
             0.5555555555555556,
             "#d8576b"
            ],
            [
             0.6666666666666666,
             "#ed7953"
            ],
            [
             0.7777777777777778,
             "#fb9f3a"
            ],
            [
             0.8888888888888888,
             "#fdca26"
            ],
            [
             1,
             "#f0f921"
            ]
           ],
           "sequentialminus": [
            [
             0,
             "#0d0887"
            ],
            [
             0.1111111111111111,
             "#46039f"
            ],
            [
             0.2222222222222222,
             "#7201a8"
            ],
            [
             0.3333333333333333,
             "#9c179e"
            ],
            [
             0.4444444444444444,
             "#bd3786"
            ],
            [
             0.5555555555555556,
             "#d8576b"
            ],
            [
             0.6666666666666666,
             "#ed7953"
            ],
            [
             0.7777777777777778,
             "#fb9f3a"
            ],
            [
             0.8888888888888888,
             "#fdca26"
            ],
            [
             1,
             "#f0f921"
            ]
           ]
          },
          "colorway": [
           "#636efa",
           "#EF553B",
           "#00cc96",
           "#ab63fa",
           "#FFA15A",
           "#19d3f3",
           "#FF6692",
           "#B6E880",
           "#FF97FF",
           "#FECB52"
          ],
          "font": {
           "color": "#2a3f5f"
          },
          "geo": {
           "bgcolor": "white",
           "lakecolor": "white",
           "landcolor": "#E5ECF6",
           "showlakes": true,
           "showland": true,
           "subunitcolor": "white"
          },
          "hoverlabel": {
           "align": "left"
          },
          "hovermode": "closest",
          "mapbox": {
           "style": "light"
          },
          "paper_bgcolor": "white",
          "plot_bgcolor": "#E5ECF6",
          "polar": {
           "angularaxis": {
            "gridcolor": "white",
            "linecolor": "white",
            "ticks": ""
           },
           "bgcolor": "#E5ECF6",
           "radialaxis": {
            "gridcolor": "white",
            "linecolor": "white",
            "ticks": ""
           }
          },
          "scene": {
           "xaxis": {
            "backgroundcolor": "#E5ECF6",
            "gridcolor": "white",
            "gridwidth": 2,
            "linecolor": "white",
            "showbackground": true,
            "ticks": "",
            "zerolinecolor": "white"
           },
           "yaxis": {
            "backgroundcolor": "#E5ECF6",
            "gridcolor": "white",
            "gridwidth": 2,
            "linecolor": "white",
            "showbackground": true,
            "ticks": "",
            "zerolinecolor": "white"
           },
           "zaxis": {
            "backgroundcolor": "#E5ECF6",
            "gridcolor": "white",
            "gridwidth": 2,
            "linecolor": "white",
            "showbackground": true,
            "ticks": "",
            "zerolinecolor": "white"
           }
          },
          "shapedefaults": {
           "line": {
            "color": "#2a3f5f"
           }
          },
          "ternary": {
           "aaxis": {
            "gridcolor": "white",
            "linecolor": "white",
            "ticks": ""
           },
           "baxis": {
            "gridcolor": "white",
            "linecolor": "white",
            "ticks": ""
           },
           "bgcolor": "#E5ECF6",
           "caxis": {
            "gridcolor": "white",
            "linecolor": "white",
            "ticks": ""
           }
          },
          "title": {
           "x": 0.05
          },
          "xaxis": {
           "automargin": true,
           "gridcolor": "white",
           "linecolor": "white",
           "ticks": "",
           "title": {
            "standoff": 15
           },
           "zerolinecolor": "white",
           "zerolinewidth": 2
          },
          "yaxis": {
           "automargin": true,
           "gridcolor": "white",
           "linecolor": "white",
           "ticks": "",
           "title": {
            "standoff": 15
           },
           "zerolinecolor": "white",
           "zerolinewidth": 2
          }
         }
        }
       }
      },
      "image/png": "[encoded data removed]",
      "text/html": [
       "<div>                            <div id=\"5d3721fa-2766-4c0b-9735-49d673730cd3\" class=\"plotly-graph-div\" style=\"height:525px; width:100%;\"></div>            <script type=\"text/javascript\">                require([\"plotly\"], function(Plotly) {                    window.PLOTLYENV=window.PLOTLYENV || {};                                    if (document.getElementById(\"5d3721fa-2766-4c0b-9735-49d673730cd3\")) {                    Plotly.newPlot(                        \"5d3721fa-2766-4c0b-9735-49d673730cd3\",                        [{\"coloraxis\": \"coloraxis\", \"geo\": \"geo\", \"hovertemplate\": \"locations=%{location}<br>color=%{z}<extra></extra>\", \"locationmode\": \"USA-states\", \"locations\": [\"AK\", \"AL\", \"AR\", \"AZ\", \"CA\", \"CO\", \"CT\", \"DC\", \"DE\", \"FL\", \"GA\", \"HI\", \"IA\", \"ID\", \"IL\", \"IN\", \"KS\", \"KY\", \"LA\", \"MA\", \"MD\", \"ME\", \"MI\", \"MN\", \"MO\", \"MS\", \"MT\", \"NC\", \"ND\", \"NE\", \"NH\", \"NJ\", \"NM\", \"NV\", \"NY\", \"OH\", \"OK\", \"OR\", \"PA\", \"RI\", \"SC\", \"SD\", \"TN\", \"TX\", \"UT\", \"VA\", \"VT\", \"WA\", \"WI\", \"WV\", \"WY\"], \"name\": \"\", \"type\": \"choropleth\", \"z\": [0.89, 0.852, 0.857, 0.858, 0.884, 0.843, 0.84, 0.773, 0.825, 0.854, 0.867, 0.825, 0.855, 0.859, 0.826, 0.848, 0.865, 0.842, 0.828, 0.882, 0.911, 0.838, 0.853, 0.847, 0.87, 0.864, 0.88, 0.827, 0.871, 0.843, 0.858, 0.858, 0.864, 0.861, 0.852, 0.812, 0.847, 0.863, 0.802, 0.86, 0.83, 0.871, 0.858, 0.825, 0.787, 0.804, 0.87, 0.846, 0.826, 0.823, 0.864]}],                        {\"coloraxis\": {\"colorbar\": {\"title\": {\"text\": \"color\"}}, \"colorscale\": [[0.0, \"#0d0887\"], [0.1111111111111111, \"#46039f\"], [0.2222222222222222, \"#7201a8\"], [0.3333333333333333, \"#9c179e\"], [0.4444444444444444, \"#bd3786\"], [0.5555555555555556, \"#d8576b\"], [0.6666666666666666, \"#ed7953\"], [0.7777777777777778, \"#fb9f3a\"], [0.8888888888888888, \"#fdca26\"], [1.0, \"#f0f921\"]]}, \"geo\": {\"center\": {}, \"domain\": {\"x\": [0.0, 1.0], \"y\": [0.0, 1.0]}, \"scope\": \"usa\"}, \"legend\": {\"tracegroupgap\": 0}, \"margin\": {\"t\": 60}, \"template\": {\"data\": {\"bar\": [{\"error_x\": {\"color\": \"#2a3f5f\"}, \"error_y\": {\"color\": \"#2a3f5f\"}, \"marker\": {\"line\": {\"color\": \"#E5ECF6\", \"width\": 0.5}}, \"type\": \"bar\"}], \"barpolar\": [{\"marker\": {\"line\": {\"color\": \"#E5ECF6\", \"width\": 0.5}}, \"type\": \"barpolar\"}], \"carpet\": [{\"aaxis\": {\"endlinecolor\": \"#2a3f5f\", \"gridcolor\": \"white\", \"linecolor\": \"white\", \"minorgridcolor\": \"white\", \"startlinecolor\": \"#2a3f5f\"}, \"baxis\": {\"endlinecolor\": \"#2a3f5f\", \"gridcolor\": \"white\", \"linecolor\": \"white\", \"minorgridcolor\": \"white\", \"startlinecolor\": \"#2a3f5f\"}, \"type\": \"carpet\"}], \"choropleth\": [{\"colorbar\": {\"outlinewidth\": 0, \"ticks\": \"\"}, \"type\": \"choropleth\"}], \"contour\": [{\"colorbar\": {\"outlinewidth\": 0, \"ticks\": \"\"}, \"colorscale\": [[0.0, \"#0d0887\"], [0.1111111111111111, \"#46039f\"], [0.2222222222222222, \"#7201a8\"], [0.3333333333333333, \"#9c179e\"], [0.4444444444444444, \"#bd3786\"], [0.5555555555555556, \"#d8576b\"], [0.6666666666666666, \"#ed7953\"], [0.7777777777777778, \"#fb9f3a\"], [0.8888888888888888, \"#fdca26\"], [1.0, \"#f0f921\"]], \"type\": \"contour\"}], \"contourcarpet\": [{\"colorbar\": {\"outlinewidth\": 0, \"ticks\": \"\"}, \"type\": \"contourcarpet\"}], \"heatmap\": [{\"colorbar\": {\"outlinewidth\": 0, \"ticks\": \"\"}, \"colorscale\": [[0.0, \"#0d0887\"], [0.1111111111111111, \"#46039f\"], [0.2222222222222222, \"#7201a8\"], [0.3333333333333333, \"#9c179e\"], [0.4444444444444444, \"#bd3786\"], [0.5555555555555556, \"#d8576b\"], [0.6666666666666666, \"#ed7953\"], [0.7777777777777778, \"#fb9f3a\"], [0.8888888888888888, \"#fdca26\"], [1.0, \"#f0f921\"]], \"type\": \"heatmap\"}], \"heatmapgl\": [{\"colorbar\": {\"outlinewidth\": 0, \"ticks\": \"\"}, \"colorscale\": [[0.0, \"#0d0887\"], [0.1111111111111111, \"#46039f\"], [0.2222222222222222, \"#7201a8\"], [0.3333333333333333, \"#9c179e\"], [0.4444444444444444, \"#bd3786\"], [0.5555555555555556, \"#d8576b\"], [0.6666666666666666, \"#ed7953\"], [0.7777777777777778, \"#fb9f3a\"], [0.8888888888888888, \"#fdca26\"], [1.0, \"#f0f921\"]], \"type\": \"heatmapgl\"}], \"histogram\": [{\"marker\": {\"colorbar\": {\"outlinewidth\": 0, \"ticks\": \"\"}}, \"type\": \"histogram\"}], \"histogram2d\": [{\"colorbar\": {\"outlinewidth\": 0, \"ticks\": \"\"}, \"colorscale\": [[0.0, \"#0d0887\"], [0.1111111111111111, \"#46039f\"], [0.2222222222222222, \"#7201a8\"], [0.3333333333333333, \"#9c179e\"], [0.4444444444444444, \"#bd3786\"], [0.5555555555555556, \"#d8576b\"], [0.6666666666666666, \"#ed7953\"], [0.7777777777777778, \"#fb9f3a\"], [0.8888888888888888, \"#fdca26\"], [1.0, \"#f0f921\"]], \"type\": \"histogram2d\"}], \"histogram2dcontour\": [{\"colorbar\": {\"outlinewidth\": 0, \"ticks\": \"\"}, \"colorscale\": [[0.0, \"#0d0887\"], [0.1111111111111111, \"#46039f\"], [0.2222222222222222, \"#7201a8\"], [0.3333333333333333, \"#9c179e\"], [0.4444444444444444, \"#bd3786\"], [0.5555555555555556, \"#d8576b\"], [0.6666666666666666, \"#ed7953\"], [0.7777777777777778, \"#fb9f3a\"], [0.8888888888888888, \"#fdca26\"], [1.0, \"#f0f921\"]], \"type\": \"histogram2dcontour\"}], \"mesh3d\": [{\"colorbar\": {\"outlinewidth\": 0, \"ticks\": \"\"}, \"type\": \"mesh3d\"}], \"parcoords\": [{\"line\": {\"colorbar\": {\"outlinewidth\": 0, \"ticks\": \"\"}}, \"type\": \"parcoords\"}], \"pie\": [{\"automargin\": true, \"type\": \"pie\"}], \"scatter\": [{\"marker\": {\"colorbar\": {\"outlinewidth\": 0, \"ticks\": \"\"}}, \"type\": \"scatter\"}], \"scatter3d\": [{\"line\": {\"colorbar\": {\"outlinewidth\": 0, \"ticks\": \"\"}}, \"marker\": {\"colorbar\": {\"outlinewidth\": 0, \"ticks\": \"\"}}, \"type\": \"scatter3d\"}], \"scattercarpet\": [{\"marker\": {\"colorbar\": {\"outlinewidth\": 0, \"ticks\": \"\"}}, \"type\": \"scattercarpet\"}], \"scattergeo\": [{\"marker\": {\"colorbar\": {\"outlinewidth\": 0, \"ticks\": \"\"}}, \"type\": \"scattergeo\"}], \"scattergl\": [{\"marker\": {\"colorbar\": {\"outlinewidth\": 0, \"ticks\": \"\"}}, \"type\": \"scattergl\"}], \"scattermapbox\": [{\"marker\": {\"colorbar\": {\"outlinewidth\": 0, \"ticks\": \"\"}}, \"type\": \"scattermapbox\"}], \"scatterpolar\": [{\"marker\": {\"colorbar\": {\"outlinewidth\": 0, \"ticks\": \"\"}}, \"type\": \"scatterpolar\"}], \"scatterpolargl\": [{\"marker\": {\"colorbar\": {\"outlinewidth\": 0, \"ticks\": \"\"}}, \"type\": \"scatterpolargl\"}], \"scatterternary\": [{\"marker\": {\"colorbar\": {\"outlinewidth\": 0, \"ticks\": \"\"}}, \"type\": \"scatterternary\"}], \"surface\": [{\"colorbar\": {\"outlinewidth\": 0, \"ticks\": \"\"}, \"colorscale\": [[0.0, \"#0d0887\"], [0.1111111111111111, \"#46039f\"], [0.2222222222222222, \"#7201a8\"], [0.3333333333333333, \"#9c179e\"], [0.4444444444444444, \"#bd3786\"], [0.5555555555555556, \"#d8576b\"], [0.6666666666666666, \"#ed7953\"], [0.7777777777777778, \"#fb9f3a\"], [0.8888888888888888, \"#fdca26\"], [1.0, \"#f0f921\"]], \"type\": \"surface\"}], \"table\": [{\"cells\": {\"fill\": {\"color\": \"#EBF0F8\"}, \"line\": {\"color\": \"white\"}}, \"header\": {\"fill\": {\"color\": \"#C8D4E3\"}, \"line\": {\"color\": \"white\"}}, \"type\": \"table\"}]}, \"layout\": {\"annotationdefaults\": {\"arrowcolor\": \"#2a3f5f\", \"arrowhead\": 0, \"arrowwidth\": 1}, \"coloraxis\": {\"colorbar\": {\"outlinewidth\": 0, \"ticks\": \"\"}}, \"colorscale\": {\"diverging\": [[0, \"#8e0152\"], [0.1, \"#c51b7d\"], [0.2, \"#de77ae\"], [0.3, \"#f1b6da\"], [0.4, \"#fde0ef\"], [0.5, \"#f7f7f7\"], [0.6, \"#e6f5d0\"], [0.7, \"#b8e186\"], [0.8, \"#7fbc41\"], [0.9, \"#4d9221\"], [1, \"#276419\"]], \"sequential\": [[0.0, \"#0d0887\"], [0.1111111111111111, \"#46039f\"], [0.2222222222222222, \"#7201a8\"], [0.3333333333333333, \"#9c179e\"], [0.4444444444444444, \"#bd3786\"], [0.5555555555555556, \"#d8576b\"], [0.6666666666666666, \"#ed7953\"], [0.7777777777777778, \"#fb9f3a\"], [0.8888888888888888, \"#fdca26\"], [1.0, \"#f0f921\"]], \"sequentialminus\": [[0.0, \"#0d0887\"], [0.1111111111111111, \"#46039f\"], [0.2222222222222222, \"#7201a8\"], [0.3333333333333333, \"#9c179e\"], [0.4444444444444444, \"#bd3786\"], [0.5555555555555556, \"#d8576b\"], [0.6666666666666666, \"#ed7953\"], [0.7777777777777778, \"#fb9f3a\"], [0.8888888888888888, \"#fdca26\"], [1.0, \"#f0f921\"]]}, \"colorway\": [\"#636efa\", \"#EF553B\", \"#00cc96\", \"#ab63fa\", \"#FFA15A\", \"#19d3f3\", \"#FF6692\", \"#B6E880\", \"#FF97FF\", \"#FECB52\"], \"font\": {\"color\": \"#2a3f5f\"}, \"geo\": {\"bgcolor\": \"white\", \"lakecolor\": \"white\", \"landcolor\": \"#E5ECF6\", \"showlakes\": true, \"showland\": true, \"subunitcolor\": \"white\"}, \"hoverlabel\": {\"align\": \"left\"}, \"hovermode\": \"closest\", \"mapbox\": {\"style\": \"light\"}, \"paper_bgcolor\": \"white\", \"plot_bgcolor\": \"#E5ECF6\", \"polar\": {\"angularaxis\": {\"gridcolor\": \"white\", \"linecolor\": \"white\", \"ticks\": \"\"}, \"bgcolor\": \"#E5ECF6\", \"radialaxis\": {\"gridcolor\": \"white\", \"linecolor\": \"white\", \"ticks\": \"\"}}, \"scene\": {\"xaxis\": {\"backgroundcolor\": \"#E5ECF6\", \"gridcolor\": \"white\", \"gridwidth\": 2, \"linecolor\": \"white\", \"showbackground\": true, \"ticks\": \"\", \"zerolinecolor\": \"white\"}, \"yaxis\": {\"backgroundcolor\": \"#E5ECF6\", \"gridcolor\": \"white\", \"gridwidth\": 2, \"linecolor\": \"white\", \"showbackground\": true, \"ticks\": \"\", \"zerolinecolor\": \"white\"}, \"zaxis\": {\"backgroundcolor\": \"#E5ECF6\", \"gridcolor\": \"white\", \"gridwidth\": 2, \"linecolor\": \"white\", \"showbackground\": true, \"ticks\": \"\", \"zerolinecolor\": \"white\"}}, \"shapedefaults\": {\"line\": {\"color\": \"#2a3f5f\"}}, \"ternary\": {\"aaxis\": {\"gridcolor\": \"white\", \"linecolor\": \"white\", \"ticks\": \"\"}, \"baxis\": {\"gridcolor\": \"white\", \"linecolor\": \"white\", \"ticks\": \"\"}, \"bgcolor\": \"#E5ECF6\", \"caxis\": {\"gridcolor\": \"white\", \"linecolor\": \"white\", \"ticks\": \"\"}}, \"title\": {\"x\": 0.05}, \"xaxis\": {\"automargin\": true, \"gridcolor\": \"white\", \"linecolor\": \"white\", \"ticks\": \"\", \"title\": {\"standoff\": 15}, \"zerolinecolor\": \"white\", \"zerolinewidth\": 2}, \"yaxis\": {\"automargin\": true, \"gridcolor\": \"white\", \"linecolor\": \"white\", \"ticks\": \"\", \"title\": {\"standoff\": 15}, \"zerolinecolor\": \"white\", \"zerolinewidth\": 2}}}},                        {\"responsive\": true}                    ).then(function(){\n",
       "                            \n",
       "var gd = document.getElementById('5d3721fa-2766-4c0b-9735-49d673730cd3');\n",
       "var x = new MutationObserver(function (mutations, observer) {{\n",
       "        var display = window.getComputedStyle(gd).display;\n",
       "        if (!display || display === 'none') {{\n",
       "            console.log([gd, 'removed!']);\n",
       "            Plotly.purge(gd);\n",
       "            observer.disconnect();\n",
       "        }}\n",
       "}});\n",
       "\n",
       "// Listen for the removal of the full notebook cells\n",
       "var notebookContainer = gd.closest('#notebook-container');\n",
       "if (notebookContainer) {{\n",
       "    x.observe(notebookContainer, {childList: true});\n",
       "}}\n",
       "\n",
       "// Listen for the clearing of the current output cell\n",
       "var outputEl = gd.closest('.output');\n",
       "if (outputEl) {{\n",
       "    x.observe(outputEl, {childList: true});\n",
       "}}\n",
       "\n",
       "                        })                };                });            </script>        </div>"
      ]
     },
     "metadata": {},
     "output_type": "display_data"
    }
   ],
   "source": [
    "fig = px.choropleth(locations=df['provider_state'],locationmode='USA-states',color=df['cover_rate'],scope='usa')\n",
    "fig.show()"
   ]
  },
  {
   "cell_type": "markdown",
   "metadata": {},
   "source": [
    "#### 3.4 Why are the coverage rates for each state different?"
   ]
  },
  {
   "cell_type": "markdown",
   "metadata": {},
   "source": [
    "We noticed that the coverage rates for each state in 2017 ranges from 0.76 (DC) to 0.91 (MD), so we would like to find the reason for the differences. We seek to clinical conditions (DRG_Definition in data), and list the clinical conditions with the highest covered charges for states with top 5 and bottom 5 coverage rates."
   ]
  },
  {
   "cell_type": "markdown",
   "metadata": {},
   "source": [
    "Top clinical conditions for top 5 states:"
   ]
  },
  {
   "cell_type": "code",
   "execution_count": 26,
   "metadata": {},
   "outputs": [
    {
     "data": {
      "text/html": [
       "<div>\n",
       "<style scoped>\n",
       "    .dataframe tbody tr th:only-of-type {\n",
       "        vertical-align: middle;\n",
       "    }\n",
       "\n",
       "    .dataframe tbody tr th {\n",
       "        vertical-align: top;\n",
       "    }\n",
       "\n",
       "    .dataframe thead th {\n",
       "        text-align: right;\n",
       "    }\n",
       "</style>\n",
       "<table border=\"1\" class=\"dataframe\">\n",
       "  <thead>\n",
       "    <tr style=\"text-align: right;\">\n",
       "      <th></th>\n",
       "      <th>provider_state</th>\n",
       "      <th>clinical_conditions</th>\n",
       "      <th>total_covered_charges</th>\n",
       "    </tr>\n",
       "  </thead>\n",
       "  <tbody>\n",
       "    <tr>\n",
       "      <th>0</th>\n",
       "      <td>CA</td>\n",
       "      <td>853 - INFECTIOUS &amp; PARASITIC DISEASES W O.R. P...</td>\n",
       "      <td>8.938661e+06</td>\n",
       "    </tr>\n",
       "    <tr>\n",
       "      <th>1</th>\n",
       "      <td>CA</td>\n",
       "      <td>870 - SEPTICEMIA OR SEVERE SEPSIS W MV &gt;96 HOURS</td>\n",
       "      <td>7.149665e+06</td>\n",
       "    </tr>\n",
       "    <tr>\n",
       "      <th>2</th>\n",
       "      <td>CA</td>\n",
       "      <td>003 - ECMO OR TRACH W MV &gt;96 HRS OR PDX EXC FA...</td>\n",
       "      <td>7.094965e+06</td>\n",
       "    </tr>\n",
       "    <tr>\n",
       "      <th>3</th>\n",
       "      <td>CA</td>\n",
       "      <td>871 - SEPTICEMIA OR SEVERE SEPSIS W/O MV &gt;96 H...</td>\n",
       "      <td>4.215364e+06</td>\n",
       "    </tr>\n",
       "    <tr>\n",
       "      <th>4</th>\n",
       "      <td>CA</td>\n",
       "      <td>470 - MAJOR JOINT REPLACEMENT OR REATTACHMENT ...</td>\n",
       "      <td>3.622862e+06</td>\n",
       "    </tr>\n",
       "    <tr>\n",
       "      <th>...</th>\n",
       "      <td>...</td>\n",
       "      <td>...</td>\n",
       "      <td>...</td>\n",
       "    </tr>\n",
       "    <tr>\n",
       "      <th>1708</th>\n",
       "      <td>MT</td>\n",
       "      <td>087 - TRAUMATIC STUPOR &amp; COMA, COMA &lt;1 HR W/O ...</td>\n",
       "      <td>4.113375e+03</td>\n",
       "    </tr>\n",
       "    <tr>\n",
       "      <th>1709</th>\n",
       "      <td>MT</td>\n",
       "      <td>282 - ACUTE MYOCARDIAL INFARCTION, DISCHARGED ...</td>\n",
       "      <td>3.109167e+03</td>\n",
       "    </tr>\n",
       "    <tr>\n",
       "      <th>1710</th>\n",
       "      <td>MT</td>\n",
       "      <td>563 - FX, SPRN, STRN &amp; DISL EXCEPT FEMUR, HIP,...</td>\n",
       "      <td>4.359733e+03</td>\n",
       "    </tr>\n",
       "    <tr>\n",
       "      <th>1711</th>\n",
       "      <td>MT</td>\n",
       "      <td>149 - DYSEQUILIBRIUM</td>\n",
       "      <td>3.515000e+03</td>\n",
       "    </tr>\n",
       "    <tr>\n",
       "      <th>1712</th>\n",
       "      <td>MT</td>\n",
       "      <td>881 - DEPRESSIVE NEUROSES</td>\n",
       "      <td>3.643909e+03</td>\n",
       "    </tr>\n",
       "  </tbody>\n",
       "</table>\n",
       "<p>1713 rows × 3 columns</p>\n",
       "</div>"
      ],
      "text/plain": [
       "     provider_state                                clinical_conditions  \\\n",
       "0                CA  853 - INFECTIOUS & PARASITIC DISEASES W O.R. P...   \n",
       "1                CA   870 - SEPTICEMIA OR SEVERE SEPSIS W MV >96 HOURS   \n",
       "2                CA  003 - ECMO OR TRACH W MV >96 HRS OR PDX EXC FA...   \n",
       "3                CA  871 - SEPTICEMIA OR SEVERE SEPSIS W/O MV >96 H...   \n",
       "4                CA  470 - MAJOR JOINT REPLACEMENT OR REATTACHMENT ...   \n",
       "...             ...                                                ...   \n",
       "1708             MT  087 - TRAUMATIC STUPOR & COMA, COMA <1 HR W/O ...   \n",
       "1709             MT  282 - ACUTE MYOCARDIAL INFARCTION, DISCHARGED ...   \n",
       "1710             MT  563 - FX, SPRN, STRN & DISL EXCEPT FEMUR, HIP,...   \n",
       "1711             MT                               149 - DYSEQUILIBRIUM   \n",
       "1712             MT                          881 - DEPRESSIVE NEUROSES   \n",
       "\n",
       "      total_covered_charges  \n",
       "0              8.938661e+06  \n",
       "1              7.149665e+06  \n",
       "2              7.094965e+06  \n",
       "3              4.215364e+06  \n",
       "4              3.622862e+06  \n",
       "...                     ...  \n",
       "1708           4.113375e+03  \n",
       "1709           3.109167e+03  \n",
       "1710           4.359733e+03  \n",
       "1711           3.515000e+03  \n",
       "1712           3.643909e+03  \n",
       "\n",
       "[1713 rows x 3 columns]"
      ]
     },
     "execution_count": 26,
     "metadata": {},
     "output_type": "execute_result"
    }
   ],
   "source": [
    "%%bigquery\n",
    "SELECT provider_state, \n",
    "  DRG_definition AS clinical_conditions,\n",
    "  SUM(Average_Medicare_Payments) as total_covered_charges\n",
    "FROM `ba775-team-5a.temp.inpatient_2017`\n",
    "WHERE provider_state IN ('MD', 'MT', 'MA', 'CA', 'MO')\n",
    "group by provider_state, DRG_definition\n",
    "ORDER BY provider_state, SUM(average_total_payments) desc"
   ]
  },
  {
   "cell_type": "markdown",
   "metadata": {},
   "source": [
    "Top clinical conditions for bottom 5 states:"
   ]
  },
  {
   "cell_type": "code",
   "execution_count": 27,
   "metadata": {},
   "outputs": [
    {
     "data": {
      "text/html": [
       "<div>\n",
       "<style scoped>\n",
       "    .dataframe tbody tr th:only-of-type {\n",
       "        vertical-align: middle;\n",
       "    }\n",
       "\n",
       "    .dataframe tbody tr th {\n",
       "        vertical-align: top;\n",
       "    }\n",
       "\n",
       "    .dataframe thead th {\n",
       "        text-align: right;\n",
       "    }\n",
       "</style>\n",
       "<table border=\"1\" class=\"dataframe\">\n",
       "  <thead>\n",
       "    <tr style=\"text-align: right;\">\n",
       "      <th></th>\n",
       "      <th>Provider_State</th>\n",
       "      <th>clinical_conditions</th>\n",
       "      <th>total_covered_charges</th>\n",
       "    </tr>\n",
       "  </thead>\n",
       "  <tbody>\n",
       "    <tr>\n",
       "      <th>0</th>\n",
       "      <td>DC</td>\n",
       "      <td>003 - ECMO OR TRACH W MV &gt;96 HRS OR PDX EXC FA...</td>\n",
       "      <td>439034.308000</td>\n",
       "    </tr>\n",
       "    <tr>\n",
       "      <th>1</th>\n",
       "      <td>DC</td>\n",
       "      <td>004 - TRACH W MV &gt;96 HRS OR PDX EXC FACE, MOUT...</td>\n",
       "      <td>337887.767970</td>\n",
       "    </tr>\n",
       "    <tr>\n",
       "      <th>2</th>\n",
       "      <td>DC</td>\n",
       "      <td>853 - INFECTIOUS &amp; PARASITIC DISEASES W O.R. P...</td>\n",
       "      <td>290908.799980</td>\n",
       "    </tr>\n",
       "    <tr>\n",
       "      <th>3</th>\n",
       "      <td>DC</td>\n",
       "      <td>870 - SEPTICEMIA OR SEVERE SEPSIS W MV &gt;96 HOURS</td>\n",
       "      <td>255107.603200</td>\n",
       "    </tr>\n",
       "    <tr>\n",
       "      <th>4</th>\n",
       "      <td>DC</td>\n",
       "      <td>981 - EXTENSIVE O.R. PROCEDURE UNRELATED TO PR...</td>\n",
       "      <td>212531.933600</td>\n",
       "    </tr>\n",
       "    <tr>\n",
       "      <th>...</th>\n",
       "      <td>...</td>\n",
       "      <td>...</td>\n",
       "      <td>...</td>\n",
       "    </tr>\n",
       "    <tr>\n",
       "      <th>1545</th>\n",
       "      <td>VA</td>\n",
       "      <td>185 - MAJOR CHEST TRAUMA W/O CC/MCC</td>\n",
       "      <td>4063.666667</td>\n",
       "    </tr>\n",
       "    <tr>\n",
       "      <th>1546</th>\n",
       "      <td>VA</td>\n",
       "      <td>179 - RESPIRATORY INFECTIONS &amp; INFLAMMATIONS W...</td>\n",
       "      <td>4731.000000</td>\n",
       "    </tr>\n",
       "    <tr>\n",
       "      <th>1547</th>\n",
       "      <td>VA</td>\n",
       "      <td>882 - NEUROSES EXCEPT DEPRESSIVE</td>\n",
       "      <td>4597.666667</td>\n",
       "    </tr>\n",
       "    <tr>\n",
       "      <th>1548</th>\n",
       "      <td>VA</td>\n",
       "      <td>072 - NONSPECIFIC CEREBROVASCULAR DISORDERS W/...</td>\n",
       "      <td>4004.307692</td>\n",
       "    </tr>\n",
       "    <tr>\n",
       "      <th>1549</th>\n",
       "      <td>VA</td>\n",
       "      <td>916 - ALLERGIC REACTIONS W/O MCC</td>\n",
       "      <td>2486.933333</td>\n",
       "    </tr>\n",
       "  </tbody>\n",
       "</table>\n",
       "<p>1550 rows × 3 columns</p>\n",
       "</div>"
      ],
      "text/plain": [
       "     Provider_State                                clinical_conditions  \\\n",
       "0                DC  003 - ECMO OR TRACH W MV >96 HRS OR PDX EXC FA...   \n",
       "1                DC  004 - TRACH W MV >96 HRS OR PDX EXC FACE, MOUT...   \n",
       "2                DC  853 - INFECTIOUS & PARASITIC DISEASES W O.R. P...   \n",
       "3                DC   870 - SEPTICEMIA OR SEVERE SEPSIS W MV >96 HOURS   \n",
       "4                DC  981 - EXTENSIVE O.R. PROCEDURE UNRELATED TO PR...   \n",
       "...             ...                                                ...   \n",
       "1545             VA                185 - MAJOR CHEST TRAUMA W/O CC/MCC   \n",
       "1546             VA  179 - RESPIRATORY INFECTIONS & INFLAMMATIONS W...   \n",
       "1547             VA                   882 - NEUROSES EXCEPT DEPRESSIVE   \n",
       "1548             VA  072 - NONSPECIFIC CEREBROVASCULAR DISORDERS W/...   \n",
       "1549             VA                   916 - ALLERGIC REACTIONS W/O MCC   \n",
       "\n",
       "      total_covered_charges  \n",
       "0             439034.308000  \n",
       "1             337887.767970  \n",
       "2             290908.799980  \n",
       "3             255107.603200  \n",
       "4             212531.933600  \n",
       "...                     ...  \n",
       "1545            4063.666667  \n",
       "1546            4731.000000  \n",
       "1547            4597.666667  \n",
       "1548            4004.307692  \n",
       "1549            2486.933333  \n",
       "\n",
       "[1550 rows x 3 columns]"
      ]
     },
     "execution_count": 27,
     "metadata": {},
     "output_type": "execute_result"
    }
   ],
   "source": [
    "%%bigquery\n",
    "SELECT Provider_State, \n",
    "  DRG_definition AS clinical_conditions,\n",
    "  SUM(Average_Medicare_Payments) as total_covered_charges\n",
    "FROM `ba775-team-5a.temp.inpatient_2017`\n",
    "WHERE provider_state IN ('DE', 'VA', 'PA', 'HI', 'DC')\n",
    "GROUP BY Provider_State, DRG_definition\n",
    "ORDER BY Provider_State, SUM(average_total_payments) desc"
   ]
  },
  {
   "cell_type": "markdown",
   "metadata": {},
   "source": [
    "The clinical conditions with the most covered charges for each state are similar, including major joint replacement, septicemia, heart failure, etc. Therefore, we further examine the coverage rates for the common top clinical conditions for those 10 states, and find out that coverage rates for those clinical conditions are good indicators of overall coverage rates for each state. "
   ]
  },
  {
   "cell_type": "code",
   "execution_count": 28,
   "metadata": {},
   "outputs": [
    {
     "data": {
      "text/html": [
       "<div>\n",
       "<style scoped>\n",
       "    .dataframe tbody tr th:only-of-type {\n",
       "        vertical-align: middle;\n",
       "    }\n",
       "\n",
       "    .dataframe tbody tr th {\n",
       "        vertical-align: top;\n",
       "    }\n",
       "\n",
       "    .dataframe thead th {\n",
       "        text-align: right;\n",
       "    }\n",
       "</style>\n",
       "<table border=\"1\" class=\"dataframe\">\n",
       "  <thead>\n",
       "    <tr style=\"text-align: right;\">\n",
       "      <th></th>\n",
       "      <th>provider_state</th>\n",
       "      <th>clinical_conditions</th>\n",
       "      <th>cover_rate</th>\n",
       "    </tr>\n",
       "  </thead>\n",
       "  <tbody>\n",
       "    <tr>\n",
       "      <th>0</th>\n",
       "      <td>CA</td>\n",
       "      <td>003 - ECMO OR TRACH W MV &gt;96 HRS OR PDX EXC FA...</td>\n",
       "      <td>0.949</td>\n",
       "    </tr>\n",
       "    <tr>\n",
       "      <th>1</th>\n",
       "      <td>CA</td>\n",
       "      <td>207 - RESPIRATORY SYSTEM DIAGNOSIS W VENTILATO...</td>\n",
       "      <td>0.937</td>\n",
       "    </tr>\n",
       "    <tr>\n",
       "      <th>2</th>\n",
       "      <td>CA</td>\n",
       "      <td>870 - SEPTICEMIA OR SEVERE SEPSIS W MV &gt;96 HOURS</td>\n",
       "      <td>0.935</td>\n",
       "    </tr>\n",
       "    <tr>\n",
       "      <th>3</th>\n",
       "      <td>CA</td>\n",
       "      <td>981 - EXTENSIVE O.R. PROCEDURE UNRELATED TO PR...</td>\n",
       "      <td>0.932</td>\n",
       "    </tr>\n",
       "    <tr>\n",
       "      <th>4</th>\n",
       "      <td>CA</td>\n",
       "      <td>329 - MAJOR SMALL &amp; LARGE BOWEL PROCEDURES W MCC</td>\n",
       "      <td>0.928</td>\n",
       "    </tr>\n",
       "    <tr>\n",
       "      <th>...</th>\n",
       "      <td>...</td>\n",
       "      <td>...</td>\n",
       "      <td>...</td>\n",
       "    </tr>\n",
       "    <tr>\n",
       "      <th>142</th>\n",
       "      <td>VA</td>\n",
       "      <td>207 - RESPIRATORY SYSTEM DIAGNOSIS W VENTILATO...</td>\n",
       "      <td>0.809</td>\n",
       "    </tr>\n",
       "    <tr>\n",
       "      <th>143</th>\n",
       "      <td>VA</td>\n",
       "      <td>460 - SPINAL FUSION EXCEPT CERVICAL W/O MCC</td>\n",
       "      <td>0.809</td>\n",
       "    </tr>\n",
       "    <tr>\n",
       "      <th>144</th>\n",
       "      <td>VA</td>\n",
       "      <td>330 - MAJOR SMALL &amp; LARGE BOWEL PROCEDURES W CC</td>\n",
       "      <td>0.805</td>\n",
       "    </tr>\n",
       "    <tr>\n",
       "      <th>145</th>\n",
       "      <td>VA</td>\n",
       "      <td>470 - MAJOR JOINT REPLACEMENT OR REATTACHMENT ...</td>\n",
       "      <td>0.768</td>\n",
       "    </tr>\n",
       "    <tr>\n",
       "      <th>146</th>\n",
       "      <td>VA</td>\n",
       "      <td>004 - TRACH W MV &gt;96 HRS OR PDX EXC FACE, MOUT...</td>\n",
       "      <td>0.751</td>\n",
       "    </tr>\n",
       "  </tbody>\n",
       "</table>\n",
       "<p>147 rows × 3 columns</p>\n",
       "</div>"
      ],
      "text/plain": [
       "    provider_state                                clinical_conditions  \\\n",
       "0               CA  003 - ECMO OR TRACH W MV >96 HRS OR PDX EXC FA...   \n",
       "1               CA  207 - RESPIRATORY SYSTEM DIAGNOSIS W VENTILATO...   \n",
       "2               CA   870 - SEPTICEMIA OR SEVERE SEPSIS W MV >96 HOURS   \n",
       "3               CA  981 - EXTENSIVE O.R. PROCEDURE UNRELATED TO PR...   \n",
       "4               CA   329 - MAJOR SMALL & LARGE BOWEL PROCEDURES W MCC   \n",
       "..             ...                                                ...   \n",
       "142             VA  207 - RESPIRATORY SYSTEM DIAGNOSIS W VENTILATO...   \n",
       "143             VA        460 - SPINAL FUSION EXCEPT CERVICAL W/O MCC   \n",
       "144             VA    330 - MAJOR SMALL & LARGE BOWEL PROCEDURES W CC   \n",
       "145             VA  470 - MAJOR JOINT REPLACEMENT OR REATTACHMENT ...   \n",
       "146             VA  004 - TRACH W MV >96 HRS OR PDX EXC FACE, MOUT...   \n",
       "\n",
       "     cover_rate  \n",
       "0         0.949  \n",
       "1         0.937  \n",
       "2         0.935  \n",
       "3         0.932  \n",
       "4         0.928  \n",
       "..          ...  \n",
       "142       0.809  \n",
       "143       0.809  \n",
       "144       0.805  \n",
       "145       0.768  \n",
       "146       0.751  \n",
       "\n",
       "[147 rows x 3 columns]"
      ]
     },
     "execution_count": 28,
     "metadata": {},
     "output_type": "execute_result"
    }
   ],
   "source": [
    "%%bigquery\n",
    "SELECT provider_state, \n",
    "  DRG_definition AS clinical_conditions,\n",
    "  ROUND(SUM(Average_Medicare_Payments)/SUM(average_total_payments),3) AS cover_rate\n",
    "FROM `ba775-team-5a.temp.inpatient_2017`\n",
    "WHERE provider_state IN ('MD', 'MT', 'MA', 'CA', 'MO', 'DE', 'VA', 'PA', 'HI', 'DC')\n",
    "  AND DRG_definition in \n",
    "    (SELECT DRG_definition AS clinical_conditions\n",
    "    FROM `ba775-team-5a.temp.inpatient_2017`\n",
    "    group by DRG_definition\n",
    "    ORDER BY SUM(average_total_payments) desc\n",
    "    LIMIT 15)\n",
    "GROUP BY provider_state, DRG_definition\n",
    "ORDER BY provider_state, cover_rate DESC"
   ]
  },
  {
   "cell_type": "markdown",
   "metadata": {},
   "source": [
    "### The relationship between life expectance and medicare payment"
   ]
  },
  {
   "cell_type": "code",
   "execution_count": 85,
   "metadata": {},
   "outputs": [
    {
     "data": {
      "text/plain": [
       "<AxesSubplot:xlabel='Life Expectancy', ylabel='average_total_payments'>"
      ]
     },
     "execution_count": 85,
     "metadata": {},
     "output_type": "execute_result"
    },
    {
     "data": {
      "image/png": "[encoded data removed]",
      "text/plain": [
       "<Figure size 432x288 with 1 Axes>"
      ]
     },
     "metadata": {
      "needs_background": "light"
     },
     "output_type": "display_data"
    }
   ],
   "source": [
    "total_payment_by_state = inpatient_2015.copy()\n",
    "total_payment_by_state_clean = total_payment_by_state.groupby('provider_state')['average_total_payments'].mean().to_frame().reset_index()\n",
    "life_expectancy_clean = life_expectancy.drop(index=8).reset_index(drop=True)\n",
    "life_payment = life_expectancy_clean.merge(total_payment_by_state_clean,left_on='State',right_on='provider_state', how='inner').drop('provider_state', axis=1)\n",
    "sns.regplot(x='Life Expectancy',y='average_total_payments',data=life_payment)"
   ]
  },
  {
   "cell_type": "markdown",
   "metadata": {},
   "source": [
    "## 4. Conclusions"
   ]
  },
  {
   "cell_type": "markdown",
   "metadata": {},
   "source": [
    "Conclusions:\n",
    "1. Average total payment increased through 2011-2017.\n",
    "2. The clinical condition is the major factor on cover rate."
   ]
  },
  {
   "cell_type": "markdown",
   "metadata": {},
   "source": [
    "## 5. References"
   ]
  },
  {
   "cell_type": "markdown",
   "metadata": {},
   "source": [
    "Reference：https://www.cms.gov/Research-Statistics-Data-and-Systems/Statistics-Trends-and-Reports/Medicare-Provider-Charge-Data"
   ]
  }
 ],
 "metadata": {
  "environment": {
   "name": "tf2-2-3-gpu.2-3.m56",
   "type": "gcloud",
   "uri": "gcr.io/deeplearning-platform-release/tf2-2-3-gpu.2-3:m56"
  },
  "kernelspec": {
   "display_name": "Python 3",
   "language": "python",
   "name": "python3"
  },
  "language_info": {
   "codemirror_mode": {
    "name": "ipython",
    "version": 3
   },
   "file_extension": ".py",
   "mimetype": "text/x-python",
   "name": "python",
   "nbconvert_exporter": "python",
   "pygments_lexer": "ipython3",
   "version": "3.7.8"
  }
 },
 "nbformat": 4,
 "nbformat_minor": 4
}
