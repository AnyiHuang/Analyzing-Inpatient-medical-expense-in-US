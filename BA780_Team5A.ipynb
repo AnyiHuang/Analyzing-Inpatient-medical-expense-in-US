{
  "nbformat": 4,
  "nbformat_minor": 0,
  "metadata": {
    "environment": {
      "name": "tf2-2-3-gpu.2-3.m56",
      "type": "gcloud",
      "uri": "gcr.io/deeplearning-platform-release/tf2-2-3-gpu.2-3:m56"
    },
    "kernelspec": {
      "display_name": "Python 3",
      "language": "python",
      "name": "python3"
    },
    "language_info": {
      "codemirror_mode": {
        "name": "ipython",
        "version": 3
      },
      "file_extension": ".py",
      "mimetype": "text/x-python",
      "name": "python",
      "nbconvert_exporter": "python",
      "pygments_lexer": "ipython3",
      "version": "3.7.8"
    },
    "colab": {
      "name": "BA780_Team5A.ipynb",
      "provenance": []
    }
  },
  "cells": [
    {
      "cell_type": "markdown",
      "metadata": {
        "id": "TzOS4G1E3112"
      },
      "source": [
        "# BA780 Analyzing Inpatient medical expense in US"
      ]
    },
    {
      "cell_type": "markdown",
      "metadata": {
        "id": "db31mDmG3113"
      },
      "source": [
        "## Contents\n",
        "\n",
        "### 1. Introduction\n",
        "##### 1.1 Tableau Visualization\n",
        "##### 1.2 Data source\n",
        "##### 1.3 Objectives\n",
        "##### 1.4 Term Explanation\n",
        "\n",
        "### 2. Data Preparation\n",
        "##### 2.1 Data Pre-processing\n",
        "##### 2.2 Data Overview\n",
        "\n",
        "### 3. Exploratory Data Analysis\n",
        "##### 3.1 Total Payment by State\n",
        "##### 3.2 Medicare Payment by State\n",
        "##### 3.3 Coverage Rate by State\n",
        "##### 3.4 Coverage Rate Findings\n",
        "\n",
        "### 4. Conclusions\n",
        "\n",
        "### 5. References"
      ]
    },
    {
      "cell_type": "markdown",
      "metadata": {
        "id": "-Sk2qEsx3113"
      },
      "source": [
        "## 1. Introduction"
      ]
    },
    {
      "cell_type": "markdown",
      "metadata": {
        "id": "xmEK-Pop3113"
      },
      "source": [
        "#### 1.2 Data source"
      ]
    },
    {
      "cell_type": "markdown",
      "metadata": {
        "id": "zlTgGwaj3113"
      },
      "source": [
        "We collect our data from CMS(Centers for Medicare & Medicaid Services) official website. CMS is a federal agency within the United States Department of Health and Human Services (HHS) that administers the Medicare program and works in partnership with state governments to administer Medicaid, the Children's Health Insurance Program (CHIP), and health insurance portability standards. We are going to focus on analyzing the data 'Medicare Provider Utilization and Payment Data: Inpatient' from the year 2011 to 2017. Moreover, we collect the United state's household income by states and life expectancy by state data from the CDC(Centers for Disease Control and Prevention) and the United States Census Bureau. We will use the US household income from 2010 to 2017 by states and the life expectancy data including estimates of U.S. life expectancy at birth by state and census tract for the period 2010-2015. "
      ]
    },
    {
      "cell_type": "markdown",
      "metadata": {
        "id": "w5gFhxw_3113"
      },
      "source": [
        "#### 1.3 Objectives"
      ]
    },
    {
      "cell_type": "markdown",
      "metadata": {
        "id": "2VHjoYCd3113"
      },
      "source": [
        "Our goal is to analyze the inpatient expense of US medicare. We would like to explore the relations of covered rate, medicare charges, and total payments with regions, using visualization for medical charges and payments in different states from 2011 to 2017. Based on the exploratory analysis results, we will further utilize a machine learning model to predict total payments using relevant features. In addition, we are going to find and to analyze the relationship between inpatient expense and household income, inpatient expense, and life expectancy. "
      ]
    },
    {
      "cell_type": "markdown",
      "metadata": {
        "id": "aHczGxS03113"
      },
      "source": [
        "#### 1.4 Term Explanation"
      ]
    },
    {
      "cell_type": "markdown",
      "metadata": {
        "id": "ZGV1PaNO3113"
      },
      "source": [
        "The following terms are 3 primary factors that we use to analyze the inpatient expense of US medicare. \n",
        "- Total payments: all expenses that the hospital charged to patients(amount of patient paid + amount of medicare paid) \n",
        "- Medicare payment: the amount of expenses that paid by Medicare\n",
        "- Cover rate: Medicare payment/Total Payments\n"
      ]
    },
    {
      "cell_type": "markdown",
      "metadata": {
        "id": "OaZ1kn6G3113"
      },
      "source": [
        "## 2. Data Preparation"
      ]
    },
    {
      "cell_type": "markdown",
      "metadata": {
        "id": "MIdAVf3u3113"
      },
      "source": [
        "#### 2.1 Data Pre-processing"
      ]
    },
    {
      "cell_type": "markdown",
      "metadata": {
        "id": "33tU7el23114"
      },
      "source": [
        "##### Import packages"
      ]
    },
    {
      "cell_type": "code",
      "metadata": {
        "id": "T3Y728sF3114"
      },
      "source": [
        "pip install plotly"
      ],
      "execution_count": null,
      "outputs": []
    },
    {
      "cell_type": "code",
      "metadata": {
        "id": "BWjNjbQc3116"
      },
      "source": [
        "import pandas as pd\n",
        "import matplotlib.pyplot as plt\n",
        "import seaborn as sns\n",
        "import plotly.express as px"
      ],
      "execution_count": null,
      "outputs": []
    },
    {
      "cell_type": "code",
      "metadata": {
        "id": "2xDIEJVo3116"
      },
      "source": [
        "inpatient_2015=pd.read_csv('inpatient_2015.csv')\n",
        "inpatient_2017=pd.read_csv('Inpatient_2017.csv')\n",
        "life_expectancy = pd.read_csv('U.S._Life_Expectancy.csv')"
      ],
      "execution_count": null,
      "outputs": []
    },
    {
      "cell_type": "code",
      "metadata": {
        "id": "jEcYPm-s3116"
      },
      "source": [
        "life_expectancy.info()"
      ],
      "execution_count": null,
      "outputs": []
    },
    {
      "cell_type": "markdown",
      "metadata": {
        "id": "-UgK77Lf3116"
      },
      "source": [
        "For data pre-processing, we reintegrated the inpatient tables of 'cms_medicare' dataset from 'bigquery-public-data', inserted 'year' column to make it clear when we union the tables for our future analysis."
      ]
    },
    {
      "cell_type": "code",
      "metadata": {
        "id": "hB3eKoS-3116"
      },
      "source": [
        "%%bigquery\n",
        "CREATE OR REPLACE TABLE temp.inpatient_2011 as\n",
        "SELECT * ,2011 AS year \n",
        "FROM `bigquery-public-data.cms_medicare.inpatient_charges_2011`"
      ],
      "execution_count": null,
      "outputs": []
    },
    {
      "cell_type": "markdown",
      "metadata": {
        "id": "zL6zJzyn3117"
      },
      "source": [
        "#### 2.2 Data Overview"
      ]
    },
    {
      "cell_type": "markdown",
      "metadata": {
        "id": "Ar0TLR_C3117"
      },
      "source": [
        "At the beginning, we will look at the overall average level of medical payments in the United States from 2011 to 2017."
      ]
    },
    {
      "cell_type": "code",
      "metadata": {
        "id": "Dkh9-LkV3117",
        "outputId": "48ac9234-3c50-43b9-bc72-1617295c3137"
      },
      "source": [
        "%%bigquery\n",
        "select round(avg(average_total_payments),2) as average_total_payments, round(avg(average_medicare_payments),2) as average_medicare_payments, round(avg(cover_rate),2) as average_covered_rates\n",
        "from `ba775-team-5a.temp.inpatient_payment_by_year` "
      ],
      "execution_count": null,
      "outputs": [
        {
          "output_type": "execute_result",
          "data": {
            "text/html": [
              "<div>\n",
              "<style scoped>\n",
              "    .dataframe tbody tr th:only-of-type {\n",
              "        vertical-align: middle;\n",
              "    }\n",
              "\n",
              "    .dataframe tbody tr th {\n",
              "        vertical-align: top;\n",
              "    }\n",
              "\n",
              "    .dataframe thead th {\n",
              "        text-align: right;\n",
              "    }\n",
              "</style>\n",
              "<table border=\"1\" class=\"dataframe\">\n",
              "  <thead>\n",
              "    <tr style=\"text-align: right;\">\n",
              "      <th></th>\n",
              "      <th>average_total_payments</th>\n",
              "      <th>average_medicare_payments</th>\n",
              "      <th>average_covered_rates</th>\n",
              "    </tr>\n",
              "  </thead>\n",
              "  <tbody>\n",
              "    <tr>\n",
              "      <th>0</th>\n",
              "      <td>12125.73</td>\n",
              "      <td>10343.41</td>\n",
              "      <td>0.85</td>\n",
              "    </tr>\n",
              "  </tbody>\n",
              "</table>\n",
              "</div>"
            ],
            "text/plain": [
              "   average_total_payments  average_medicare_payments  average_covered_rates\n",
              "0                12125.73                   10343.41                   0.85"
            ]
          },
          "metadata": {
            "tags": []
          },
          "execution_count": 21
        }
      ]
    },
    {
      "cell_type": "markdown",
      "metadata": {
        "id": "y6Vc0Ktk3117"
      },
      "source": [
        "The table shows the average total payment through out the US from 2011 to 2017. As we mention previously, we insert a 'year' column for each inpatient table. We union the inpatient payment tables altogether and list the average total payment for each year from 2011 to 2017. We are trying to see how does the US overall average total payments change throughout the times. As the list result shows, the average total payment increased each year from 2011 to 2017, especially that there was a significant increase during the year 2013 to 2014. The reason behind this was probably due to the Patient Protection and Affordable Care Act, and commonly known as Obamacare. The act came up in 2010 and implemented in 2014. "
      ]
    },
    {
      "cell_type": "code",
      "metadata": {
        "id": "EQoJlQCE3117",
        "outputId": "1331cd9e-f1b0-4028-8a29-ddca2708f4ab"
      },
      "source": [
        "%%bigquery\n",
        "SELECT year,round(avg(average_total_payments),2) as avg_total_payment \n",
        "FROM `ba775-team-5a.temp.inpatient_payment_by_year`\n",
        "GROUP BY year\n",
        "order by year"
      ],
      "execution_count": null,
      "outputs": [
        {
          "output_type": "execute_result",
          "data": {
            "text/html": [
              "<div>\n",
              "<style scoped>\n",
              "    .dataframe tbody tr th:only-of-type {\n",
              "        vertical-align: middle;\n",
              "    }\n",
              "\n",
              "    .dataframe tbody tr th {\n",
              "        vertical-align: top;\n",
              "    }\n",
              "\n",
              "    .dataframe thead th {\n",
              "        text-align: right;\n",
              "    }\n",
              "</style>\n",
              "<table border=\"1\" class=\"dataframe\">\n",
              "  <thead>\n",
              "    <tr style=\"text-align: right;\">\n",
              "      <th></th>\n",
              "      <th>year</th>\n",
              "      <th>avg_total_payment</th>\n",
              "    </tr>\n",
              "  </thead>\n",
              "  <tbody>\n",
              "    <tr>\n",
              "      <th>0</th>\n",
              "      <td>2011</td>\n",
              "      <td>9816.18</td>\n",
              "    </tr>\n",
              "    <tr>\n",
              "      <th>1</th>\n",
              "      <td>2012</td>\n",
              "      <td>10073.76</td>\n",
              "    </tr>\n",
              "    <tr>\n",
              "      <th>2</th>\n",
              "      <td>2013</td>\n",
              "      <td>10518.63</td>\n",
              "    </tr>\n",
              "    <tr>\n",
              "      <th>3</th>\n",
              "      <td>2014</td>\n",
              "      <td>13261.38</td>\n",
              "    </tr>\n",
              "    <tr>\n",
              "      <th>4</th>\n",
              "      <td>2015</td>\n",
              "      <td>13297.21</td>\n",
              "    </tr>\n",
              "    <tr>\n",
              "      <th>5</th>\n",
              "      <td>2016</td>\n",
              "      <td>13801.74</td>\n",
              "    </tr>\n",
              "    <tr>\n",
              "      <th>6</th>\n",
              "      <td>2017</td>\n",
              "      <td>14111.21</td>\n",
              "    </tr>\n",
              "  </tbody>\n",
              "</table>\n",
              "</div>"
            ],
            "text/plain": [
              "   year  avg_total_payment\n",
              "0  2011            9816.18\n",
              "1  2012           10073.76\n",
              "2  2013           10518.63\n",
              "3  2014           13261.38\n",
              "4  2015           13297.21\n",
              "5  2016           13801.74\n",
              "6  2017           14111.21"
            ]
          },
          "metadata": {
            "tags": []
          },
          "execution_count": 22
        }
      ]
    },
    {
      "cell_type": "markdown",
      "metadata": {
        "id": "0xcXMUs83117"
      },
      "source": [
        "## 3. Exploratory Data Analysis"
      ]
    },
    {
      "cell_type": "markdown",
      "metadata": {
        "id": "abWyWge43117"
      },
      "source": [
        "#### 3.1 What is the average total payment in each state in 2017?"
      ]
    },
    {
      "cell_type": "markdown",
      "metadata": {
        "id": "iSC4RTHN3117"
      },
      "source": [
        "As the table shows, the TOP 5 average total payment states are Alaska(AK), Washington D.C(DC), Hawaii(HI), California(CA), and Maryland(MD). And the state with lowest average total cost is Alabama(AL) with $10520 in year 2017."
      ]
    },
    {
      "cell_type": "code",
      "metadata": {
        "id": "wyfjHQ_x3117",
        "outputId": "5260141f-8600-4c32-da6f-1e796395df71"
      },
      "source": [
        "%%bigquery\n",
        "SELECT provider_state, AVG(average_total_payments) as average_total_payment\n",
        "FROM `ba775-team-5a.temp.inpatient_2017`\n",
        "GROUP BY provider_state\n",
        "ORDER BY average_total_payment desc"
      ],
      "execution_count": null,
      "outputs": [
        {
          "output_type": "execute_result",
          "data": {
            "text/html": [
              "<div>\n",
              "<style scoped>\n",
              "    .dataframe tbody tr th:only-of-type {\n",
              "        vertical-align: middle;\n",
              "    }\n",
              "\n",
              "    .dataframe tbody tr th {\n",
              "        vertical-align: top;\n",
              "    }\n",
              "\n",
              "    .dataframe thead th {\n",
              "        text-align: right;\n",
              "    }\n",
              "</style>\n",
              "<table border=\"1\" class=\"dataframe\">\n",
              "  <thead>\n",
              "    <tr style=\"text-align: right;\">\n",
              "      <th></th>\n",
              "      <th>provider_state</th>\n",
              "      <th>average_total_payment</th>\n",
              "    </tr>\n",
              "  </thead>\n",
              "  <tbody>\n",
              "    <tr>\n",
              "      <th>0</th>\n",
              "      <td>AK</td>\n",
              "      <td>21367.491281</td>\n",
              "    </tr>\n",
              "    <tr>\n",
              "      <th>1</th>\n",
              "      <td>DC</td>\n",
              "      <td>21094.415680</td>\n",
              "    </tr>\n",
              "    <tr>\n",
              "      <th>2</th>\n",
              "      <td>HI</td>\n",
              "      <td>19658.704740</td>\n",
              "    </tr>\n",
              "    <tr>\n",
              "      <th>3</th>\n",
              "      <td>CA</td>\n",
              "      <td>18417.925284</td>\n",
              "    </tr>\n",
              "    <tr>\n",
              "      <th>4</th>\n",
              "      <td>MD</td>\n",
              "      <td>17511.093303</td>\n",
              "    </tr>\n",
              "    <tr>\n",
              "      <th>5</th>\n",
              "      <td>NY</td>\n",
              "      <td>17330.004594</td>\n",
              "    </tr>\n",
              "    <tr>\n",
              "      <th>6</th>\n",
              "      <td>OR</td>\n",
              "      <td>16354.562671</td>\n",
              "    </tr>\n",
              "    <tr>\n",
              "      <th>7</th>\n",
              "      <td>WA</td>\n",
              "      <td>16168.052758</td>\n",
              "    </tr>\n",
              "    <tr>\n",
              "      <th>8</th>\n",
              "      <td>MN</td>\n",
              "      <td>16148.006433</td>\n",
              "    </tr>\n",
              "    <tr>\n",
              "      <th>9</th>\n",
              "      <td>CT</td>\n",
              "      <td>15650.991243</td>\n",
              "    </tr>\n",
              "    <tr>\n",
              "      <th>10</th>\n",
              "      <td>MA</td>\n",
              "      <td>15464.970223</td>\n",
              "    </tr>\n",
              "    <tr>\n",
              "      <th>11</th>\n",
              "      <td>UT</td>\n",
              "      <td>15385.102183</td>\n",
              "    </tr>\n",
              "    <tr>\n",
              "      <th>12</th>\n",
              "      <td>DE</td>\n",
              "      <td>15281.911440</td>\n",
              "    </tr>\n",
              "    <tr>\n",
              "      <th>13</th>\n",
              "      <td>VT</td>\n",
              "      <td>15062.109155</td>\n",
              "    </tr>\n",
              "    <tr>\n",
              "      <th>14</th>\n",
              "      <td>CO</td>\n",
              "      <td>14994.473860</td>\n",
              "    </tr>\n",
              "    <tr>\n",
              "      <th>15</th>\n",
              "      <td>AZ</td>\n",
              "      <td>14886.298150</td>\n",
              "    </tr>\n",
              "    <tr>\n",
              "      <th>16</th>\n",
              "      <td>NJ</td>\n",
              "      <td>14709.520479</td>\n",
              "    </tr>\n",
              "    <tr>\n",
              "      <th>17</th>\n",
              "      <td>NV</td>\n",
              "      <td>14387.215061</td>\n",
              "    </tr>\n",
              "    <tr>\n",
              "      <th>18</th>\n",
              "      <td>SD</td>\n",
              "      <td>13854.168186</td>\n",
              "    </tr>\n",
              "    <tr>\n",
              "      <th>19</th>\n",
              "      <td>MI</td>\n",
              "      <td>13849.211438</td>\n",
              "    </tr>\n",
              "    <tr>\n",
              "      <th>20</th>\n",
              "      <td>PA</td>\n",
              "      <td>13747.293136</td>\n",
              "    </tr>\n",
              "    <tr>\n",
              "      <th>21</th>\n",
              "      <td>WY</td>\n",
              "      <td>13742.451679</td>\n",
              "    </tr>\n",
              "    <tr>\n",
              "      <th>22</th>\n",
              "      <td>NE</td>\n",
              "      <td>13651.748864</td>\n",
              "    </tr>\n",
              "    <tr>\n",
              "      <th>23</th>\n",
              "      <td>RI</td>\n",
              "      <td>13620.434650</td>\n",
              "    </tr>\n",
              "    <tr>\n",
              "      <th>24</th>\n",
              "      <td>ND</td>\n",
              "      <td>13608.579809</td>\n",
              "    </tr>\n",
              "    <tr>\n",
              "      <th>25</th>\n",
              "      <td>IL</td>\n",
              "      <td>13542.795128</td>\n",
              "    </tr>\n",
              "    <tr>\n",
              "      <th>26</th>\n",
              "      <td>WI</td>\n",
              "      <td>13486.124169</td>\n",
              "    </tr>\n",
              "    <tr>\n",
              "      <th>27</th>\n",
              "      <td>NC</td>\n",
              "      <td>13457.696175</td>\n",
              "    </tr>\n",
              "    <tr>\n",
              "      <th>28</th>\n",
              "      <td>NM</td>\n",
              "      <td>13448.036286</td>\n",
              "    </tr>\n",
              "    <tr>\n",
              "      <th>29</th>\n",
              "      <td>NH</td>\n",
              "      <td>13339.228933</td>\n",
              "    </tr>\n",
              "    <tr>\n",
              "      <th>30</th>\n",
              "      <td>MT</td>\n",
              "      <td>13183.339157</td>\n",
              "    </tr>\n",
              "    <tr>\n",
              "      <th>31</th>\n",
              "      <td>ME</td>\n",
              "      <td>13168.938494</td>\n",
              "    </tr>\n",
              "    <tr>\n",
              "      <th>32</th>\n",
              "      <td>VA</td>\n",
              "      <td>13131.566832</td>\n",
              "    </tr>\n",
              "    <tr>\n",
              "      <th>33</th>\n",
              "      <td>ID</td>\n",
              "      <td>13124.885072</td>\n",
              "    </tr>\n",
              "    <tr>\n",
              "      <th>34</th>\n",
              "      <td>TX</td>\n",
              "      <td>12855.033754</td>\n",
              "    </tr>\n",
              "    <tr>\n",
              "      <th>35</th>\n",
              "      <td>OH</td>\n",
              "      <td>12744.597684</td>\n",
              "    </tr>\n",
              "    <tr>\n",
              "      <th>36</th>\n",
              "      <td>SC</td>\n",
              "      <td>12620.406942</td>\n",
              "    </tr>\n",
              "    <tr>\n",
              "      <th>37</th>\n",
              "      <td>GA</td>\n",
              "      <td>12567.302094</td>\n",
              "    </tr>\n",
              "    <tr>\n",
              "      <th>38</th>\n",
              "      <td>OK</td>\n",
              "      <td>12485.008234</td>\n",
              "    </tr>\n",
              "    <tr>\n",
              "      <th>39</th>\n",
              "      <td>MO</td>\n",
              "      <td>12407.338682</td>\n",
              "    </tr>\n",
              "    <tr>\n",
              "      <th>40</th>\n",
              "      <td>IN</td>\n",
              "      <td>12204.909102</td>\n",
              "    </tr>\n",
              "    <tr>\n",
              "      <th>41</th>\n",
              "      <td>KS</td>\n",
              "      <td>12160.941073</td>\n",
              "    </tr>\n",
              "    <tr>\n",
              "      <th>42</th>\n",
              "      <td>TN</td>\n",
              "      <td>12130.047582</td>\n",
              "    </tr>\n",
              "    <tr>\n",
              "      <th>43</th>\n",
              "      <td>KY</td>\n",
              "      <td>12117.173680</td>\n",
              "    </tr>\n",
              "    <tr>\n",
              "      <th>44</th>\n",
              "      <td>WV</td>\n",
              "      <td>12006.828042</td>\n",
              "    </tr>\n",
              "    <tr>\n",
              "      <th>45</th>\n",
              "      <td>IA</td>\n",
              "      <td>11923.578182</td>\n",
              "    </tr>\n",
              "    <tr>\n",
              "      <th>46</th>\n",
              "      <td>FL</td>\n",
              "      <td>11827.056195</td>\n",
              "    </tr>\n",
              "    <tr>\n",
              "      <th>47</th>\n",
              "      <td>LA</td>\n",
              "      <td>11784.242802</td>\n",
              "    </tr>\n",
              "    <tr>\n",
              "      <th>48</th>\n",
              "      <td>AR</td>\n",
              "      <td>10883.903300</td>\n",
              "    </tr>\n",
              "    <tr>\n",
              "      <th>49</th>\n",
              "      <td>MS</td>\n",
              "      <td>10604.126885</td>\n",
              "    </tr>\n",
              "    <tr>\n",
              "      <th>50</th>\n",
              "      <td>AL</td>\n",
              "      <td>10519.971123</td>\n",
              "    </tr>\n",
              "  </tbody>\n",
              "</table>\n",
              "</div>"
            ],
            "text/plain": [
              "   provider_state  average_total_payment\n",
              "0              AK           21367.491281\n",
              "1              DC           21094.415680\n",
              "2              HI           19658.704740\n",
              "3              CA           18417.925284\n",
              "4              MD           17511.093303\n",
              "5              NY           17330.004594\n",
              "6              OR           16354.562671\n",
              "7              WA           16168.052758\n",
              "8              MN           16148.006433\n",
              "9              CT           15650.991243\n",
              "10             MA           15464.970223\n",
              "11             UT           15385.102183\n",
              "12             DE           15281.911440\n",
              "13             VT           15062.109155\n",
              "14             CO           14994.473860\n",
              "15             AZ           14886.298150\n",
              "16             NJ           14709.520479\n",
              "17             NV           14387.215061\n",
              "18             SD           13854.168186\n",
              "19             MI           13849.211438\n",
              "20             PA           13747.293136\n",
              "21             WY           13742.451679\n",
              "22             NE           13651.748864\n",
              "23             RI           13620.434650\n",
              "24             ND           13608.579809\n",
              "25             IL           13542.795128\n",
              "26             WI           13486.124169\n",
              "27             NC           13457.696175\n",
              "28             NM           13448.036286\n",
              "29             NH           13339.228933\n",
              "30             MT           13183.339157\n",
              "31             ME           13168.938494\n",
              "32             VA           13131.566832\n",
              "33             ID           13124.885072\n",
              "34             TX           12855.033754\n",
              "35             OH           12744.597684\n",
              "36             SC           12620.406942\n",
              "37             GA           12567.302094\n",
              "38             OK           12485.008234\n",
              "39             MO           12407.338682\n",
              "40             IN           12204.909102\n",
              "41             KS           12160.941073\n",
              "42             TN           12130.047582\n",
              "43             KY           12117.173680\n",
              "44             WV           12006.828042\n",
              "45             IA           11923.578182\n",
              "46             FL           11827.056195\n",
              "47             LA           11784.242802\n",
              "48             AR           10883.903300\n",
              "49             MS           10604.126885\n",
              "50             AL           10519.971123"
            ]
          },
          "metadata": {
            "tags": []
          },
          "execution_count": 23
        }
      ]
    },
    {
      "cell_type": "markdown",
      "metadata": {
        "id": "KwSUirjP3117"
      },
      "source": [
        "#### 3.2 Does medicare payments adjust geographically?"
      ]
    },
    {
      "cell_type": "markdown",
      "metadata": {
        "id": "3xaAClAN3117"
      },
      "source": [
        "After comparing the result in each state to the nationwide medicare payments, it is obvious that medicare payments adjust geographically."
      ]
    },
    {
      "cell_type": "code",
      "metadata": {
        "id": "Q4fG1ABZ3117",
        "outputId": "2ce71f17-b6b6-4d84-fa2d-8da1ebecb2a6"
      },
      "source": [
        "%%bigquery\n",
        "SELECT a.Provider_State,medicare_payments,b.ratio AS relative_to_nationwide\n",
        "FROM `ba775-team-5a.temp.impatient_medicarepayments` AS a\n",
        "FULL OUTER JOIN `ba775-team-5a.temp.inpatient_states_relative_to_nationwide_medicare` AS b\n",
        "ON a.Provider_State = b.Provider_State \n",
        "Order BY medicare_payments DESC"
      ],
      "execution_count": null,
      "outputs": [
        {
          "output_type": "execute_result",
          "data": {
            "text/html": [
              "<div>\n",
              "<style scoped>\n",
              "    .dataframe tbody tr th:only-of-type {\n",
              "        vertical-align: middle;\n",
              "    }\n",
              "\n",
              "    .dataframe tbody tr th {\n",
              "        vertical-align: top;\n",
              "    }\n",
              "\n",
              "    .dataframe thead th {\n",
              "        text-align: right;\n",
              "    }\n",
              "</style>\n",
              "<table border=\"1\" class=\"dataframe\">\n",
              "  <thead>\n",
              "    <tr style=\"text-align: right;\">\n",
              "      <th></th>\n",
              "      <th>Provider_State</th>\n",
              "      <th>medicare_payments</th>\n",
              "      <th>relative_to_nationwide</th>\n",
              "    </tr>\n",
              "  </thead>\n",
              "  <tbody>\n",
              "    <tr>\n",
              "      <th>0</th>\n",
              "      <td>AK</td>\n",
              "      <td>18712.59</td>\n",
              "      <td>1.57</td>\n",
              "    </tr>\n",
              "    <tr>\n",
              "      <th>1</th>\n",
              "      <td>CA</td>\n",
              "      <td>16207.74</td>\n",
              "      <td>1.36</td>\n",
              "    </tr>\n",
              "    <tr>\n",
              "      <th>2</th>\n",
              "      <td>DC</td>\n",
              "      <td>16125.04</td>\n",
              "      <td>1.35</td>\n",
              "    </tr>\n",
              "    <tr>\n",
              "      <th>3</th>\n",
              "      <td>MD</td>\n",
              "      <td>15984.23</td>\n",
              "      <td>1.34</td>\n",
              "    </tr>\n",
              "    <tr>\n",
              "      <th>4</th>\n",
              "      <td>HI</td>\n",
              "      <td>15462.83</td>\n",
              "      <td>1.30</td>\n",
              "    </tr>\n",
              "    <tr>\n",
              "      <th>5</th>\n",
              "      <td>NY</td>\n",
              "      <td>14793.43</td>\n",
              "      <td>1.24</td>\n",
              "    </tr>\n",
              "    <tr>\n",
              "      <th>6</th>\n",
              "      <td>OR</td>\n",
              "      <td>14075.34</td>\n",
              "      <td>1.18</td>\n",
              "    </tr>\n",
              "    <tr>\n",
              "      <th>7</th>\n",
              "      <td>MN</td>\n",
              "      <td>13701.57</td>\n",
              "      <td>1.15</td>\n",
              "    </tr>\n",
              "    <tr>\n",
              "      <th>8</th>\n",
              "      <td>MA</td>\n",
              "      <td>13635.42</td>\n",
              "      <td>1.14</td>\n",
              "    </tr>\n",
              "    <tr>\n",
              "      <th>9</th>\n",
              "      <td>WA</td>\n",
              "      <td>13419.41</td>\n",
              "      <td>1.13</td>\n",
              "    </tr>\n",
              "    <tr>\n",
              "      <th>10</th>\n",
              "      <td>CT</td>\n",
              "      <td>13088.59</td>\n",
              "      <td>1.10</td>\n",
              "    </tr>\n",
              "    <tr>\n",
              "      <th>11</th>\n",
              "      <td>VT</td>\n",
              "      <td>12970.73</td>\n",
              "      <td>1.09</td>\n",
              "    </tr>\n",
              "    <tr>\n",
              "      <th>12</th>\n",
              "      <td>AZ</td>\n",
              "      <td>12908.00</td>\n",
              "      <td>1.08</td>\n",
              "    </tr>\n",
              "    <tr>\n",
              "      <th>13</th>\n",
              "      <td>CO</td>\n",
              "      <td>12584.93</td>\n",
              "      <td>1.06</td>\n",
              "    </tr>\n",
              "    <tr>\n",
              "      <th>14</th>\n",
              "      <td>NJ</td>\n",
              "      <td>12579.44</td>\n",
              "      <td>1.06</td>\n",
              "    </tr>\n",
              "    <tr>\n",
              "      <th>15</th>\n",
              "      <td>UT</td>\n",
              "      <td>12544.26</td>\n",
              "      <td>1.05</td>\n",
              "    </tr>\n",
              "    <tr>\n",
              "      <th>16</th>\n",
              "      <td>DE</td>\n",
              "      <td>12392.88</td>\n",
              "      <td>1.04</td>\n",
              "    </tr>\n",
              "    <tr>\n",
              "      <th>17</th>\n",
              "      <td>NV</td>\n",
              "      <td>12379.64</td>\n",
              "      <td>1.04</td>\n",
              "    </tr>\n",
              "    <tr>\n",
              "      <th>18</th>\n",
              "      <td>MI</td>\n",
              "      <td>11933.06</td>\n",
              "      <td>1.00</td>\n",
              "    </tr>\n",
              "    <tr>\n",
              "      <th>19</th>\n",
              "      <td>SD</td>\n",
              "      <td>11925.61</td>\n",
              "      <td>1.00</td>\n",
              "    </tr>\n",
              "    <tr>\n",
              "      <th>20</th>\n",
              "      <td>WY</td>\n",
              "      <td>11748.62</td>\n",
              "      <td>0.99</td>\n",
              "    </tr>\n",
              "    <tr>\n",
              "      <th>21</th>\n",
              "      <td>RI</td>\n",
              "      <td>11720.37</td>\n",
              "      <td>0.98</td>\n",
              "    </tr>\n",
              "    <tr>\n",
              "      <th>22</th>\n",
              "      <td>ND</td>\n",
              "      <td>11685.31</td>\n",
              "      <td>0.98</td>\n",
              "    </tr>\n",
              "    <tr>\n",
              "      <th>23</th>\n",
              "      <td>MT</td>\n",
              "      <td>11645.27</td>\n",
              "      <td>0.98</td>\n",
              "    </tr>\n",
              "    <tr>\n",
              "      <th>24</th>\n",
              "      <td>NH</td>\n",
              "      <td>11619.99</td>\n",
              "      <td>0.98</td>\n",
              "    </tr>\n",
              "    <tr>\n",
              "      <th>25</th>\n",
              "      <td>NE</td>\n",
              "      <td>11601.84</td>\n",
              "      <td>0.97</td>\n",
              "    </tr>\n",
              "    <tr>\n",
              "      <th>26</th>\n",
              "      <td>NM</td>\n",
              "      <td>11535.70</td>\n",
              "      <td>0.97</td>\n",
              "    </tr>\n",
              "    <tr>\n",
              "      <th>27</th>\n",
              "      <td>ID</td>\n",
              "      <td>11198.98</td>\n",
              "      <td>0.94</td>\n",
              "    </tr>\n",
              "    <tr>\n",
              "      <th>28</th>\n",
              "      <td>IL</td>\n",
              "      <td>11088.00</td>\n",
              "      <td>0.93</td>\n",
              "    </tr>\n",
              "    <tr>\n",
              "      <th>29</th>\n",
              "      <td>WI</td>\n",
              "      <td>11023.58</td>\n",
              "      <td>0.93</td>\n",
              "    </tr>\n",
              "    <tr>\n",
              "      <th>30</th>\n",
              "      <td>ME</td>\n",
              "      <td>11012.20</td>\n",
              "      <td>0.92</td>\n",
              "    </tr>\n",
              "    <tr>\n",
              "      <th>31</th>\n",
              "      <td>NC</td>\n",
              "      <td>11001.47</td>\n",
              "      <td>0.92</td>\n",
              "    </tr>\n",
              "    <tr>\n",
              "      <th>32</th>\n",
              "      <td>PA</td>\n",
              "      <td>10922.26</td>\n",
              "      <td>0.92</td>\n",
              "    </tr>\n",
              "    <tr>\n",
              "      <th>33</th>\n",
              "      <td>MO</td>\n",
              "      <td>10864.16</td>\n",
              "      <td>0.91</td>\n",
              "    </tr>\n",
              "    <tr>\n",
              "      <th>34</th>\n",
              "      <td>OK</td>\n",
              "      <td>10636.81</td>\n",
              "      <td>0.89</td>\n",
              "    </tr>\n",
              "    <tr>\n",
              "      <th>35</th>\n",
              "      <td>TX</td>\n",
              "      <td>10635.21</td>\n",
              "      <td>0.89</td>\n",
              "    </tr>\n",
              "    <tr>\n",
              "      <th>36</th>\n",
              "      <td>GA</td>\n",
              "      <td>10610.15</td>\n",
              "      <td>0.89</td>\n",
              "    </tr>\n",
              "    <tr>\n",
              "      <th>37</th>\n",
              "      <td>VA</td>\n",
              "      <td>10453.42</td>\n",
              "      <td>0.88</td>\n",
              "    </tr>\n",
              "    <tr>\n",
              "      <th>38</th>\n",
              "      <td>IN</td>\n",
              "      <td>10425.24</td>\n",
              "      <td>0.88</td>\n",
              "    </tr>\n",
              "    <tr>\n",
              "      <th>39</th>\n",
              "      <td>OH</td>\n",
              "      <td>10379.41</td>\n",
              "      <td>0.87</td>\n",
              "    </tr>\n",
              "    <tr>\n",
              "      <th>40</th>\n",
              "      <td>SC</td>\n",
              "      <td>10361.16</td>\n",
              "      <td>0.87</td>\n",
              "    </tr>\n",
              "    <tr>\n",
              "      <th>41</th>\n",
              "      <td>KS</td>\n",
              "      <td>10342.06</td>\n",
              "      <td>0.87</td>\n",
              "    </tr>\n",
              "    <tr>\n",
              "      <th>42</th>\n",
              "      <td>IA</td>\n",
              "      <td>10272.00</td>\n",
              "      <td>0.86</td>\n",
              "    </tr>\n",
              "    <tr>\n",
              "      <th>43</th>\n",
              "      <td>TN</td>\n",
              "      <td>10259.20</td>\n",
              "      <td>0.86</td>\n",
              "    </tr>\n",
              "    <tr>\n",
              "      <th>44</th>\n",
              "      <td>KY</td>\n",
              "      <td>10158.59</td>\n",
              "      <td>0.85</td>\n",
              "    </tr>\n",
              "    <tr>\n",
              "      <th>45</th>\n",
              "      <td>FL</td>\n",
              "      <td>10058.56</td>\n",
              "      <td>0.84</td>\n",
              "    </tr>\n",
              "    <tr>\n",
              "      <th>46</th>\n",
              "      <td>LA</td>\n",
              "      <td>9756.63</td>\n",
              "      <td>0.82</td>\n",
              "    </tr>\n",
              "    <tr>\n",
              "      <th>47</th>\n",
              "      <td>WV</td>\n",
              "      <td>9739.26</td>\n",
              "      <td>0.82</td>\n",
              "    </tr>\n",
              "    <tr>\n",
              "      <th>48</th>\n",
              "      <td>AR</td>\n",
              "      <td>9332.55</td>\n",
              "      <td>0.78</td>\n",
              "    </tr>\n",
              "    <tr>\n",
              "      <th>49</th>\n",
              "      <td>MS</td>\n",
              "      <td>9137.74</td>\n",
              "      <td>0.77</td>\n",
              "    </tr>\n",
              "    <tr>\n",
              "      <th>50</th>\n",
              "      <td>AL</td>\n",
              "      <td>8706.92</td>\n",
              "      <td>0.73</td>\n",
              "    </tr>\n",
              "  </tbody>\n",
              "</table>\n",
              "</div>"
            ],
            "text/plain": [
              "   Provider_State  medicare_payments  relative_to_nationwide\n",
              "0              AK           18712.59                    1.57\n",
              "1              CA           16207.74                    1.36\n",
              "2              DC           16125.04                    1.35\n",
              "3              MD           15984.23                    1.34\n",
              "4              HI           15462.83                    1.30\n",
              "5              NY           14793.43                    1.24\n",
              "6              OR           14075.34                    1.18\n",
              "7              MN           13701.57                    1.15\n",
              "8              MA           13635.42                    1.14\n",
              "9              WA           13419.41                    1.13\n",
              "10             CT           13088.59                    1.10\n",
              "11             VT           12970.73                    1.09\n",
              "12             AZ           12908.00                    1.08\n",
              "13             CO           12584.93                    1.06\n",
              "14             NJ           12579.44                    1.06\n",
              "15             UT           12544.26                    1.05\n",
              "16             DE           12392.88                    1.04\n",
              "17             NV           12379.64                    1.04\n",
              "18             MI           11933.06                    1.00\n",
              "19             SD           11925.61                    1.00\n",
              "20             WY           11748.62                    0.99\n",
              "21             RI           11720.37                    0.98\n",
              "22             ND           11685.31                    0.98\n",
              "23             MT           11645.27                    0.98\n",
              "24             NH           11619.99                    0.98\n",
              "25             NE           11601.84                    0.97\n",
              "26             NM           11535.70                    0.97\n",
              "27             ID           11198.98                    0.94\n",
              "28             IL           11088.00                    0.93\n",
              "29             WI           11023.58                    0.93\n",
              "30             ME           11012.20                    0.92\n",
              "31             NC           11001.47                    0.92\n",
              "32             PA           10922.26                    0.92\n",
              "33             MO           10864.16                    0.91\n",
              "34             OK           10636.81                    0.89\n",
              "35             TX           10635.21                    0.89\n",
              "36             GA           10610.15                    0.89\n",
              "37             VA           10453.42                    0.88\n",
              "38             IN           10425.24                    0.88\n",
              "39             OH           10379.41                    0.87\n",
              "40             SC           10361.16                    0.87\n",
              "41             KS           10342.06                    0.87\n",
              "42             IA           10272.00                    0.86\n",
              "43             TN           10259.20                    0.86\n",
              "44             KY           10158.59                    0.85\n",
              "45             FL           10058.56                    0.84\n",
              "46             LA            9756.63                    0.82\n",
              "47             WV            9739.26                    0.82\n",
              "48             AR            9332.55                    0.78\n",
              "49             MS            9137.74                    0.77\n",
              "50             AL            8706.92                    0.73"
            ]
          },
          "metadata": {
            "tags": []
          },
          "execution_count": 24
        }
      ]
    },
    {
      "cell_type": "markdown",
      "metadata": {
        "id": "ZnV4OSn93117"
      },
      "source": [
        "#### 3.3 What is the inpatient coverage rate in each state?"
      ]
    },
    {
      "cell_type": "markdown",
      "metadata": {
        "id": "2Arl2ocT3117"
      },
      "source": [
        "We use medicare payments divided by total payments to get the coverage rate. We can see the coverage rate varies from state to state."
      ]
    },
    {
      "cell_type": "code",
      "metadata": {
        "id": "Wm9IlTY93117"
      },
      "source": [
        "cover_rate = inpatient_2015[['provider_state','average_medicare_payments','average_total_payments']]\n",
        "c = cover_rate.groupby('provider_state').sum().eval('cover_rate = average_medicare_payments/ average_total_payments').round({'cover_rate':3})"
      ],
      "execution_count": null,
      "outputs": []
    },
    {
      "cell_type": "code",
      "metadata": {
        "id": "_Rh_2A3v3117",
        "outputId": "ee42d9f6-d3cd-4d79-da91-36cfa242763c"
      },
      "source": [
        "df = c.reset_index()\n",
        "df.info()"
      ],
      "execution_count": null,
      "outputs": [
        {
          "output_type": "stream",
          "text": [
            "<class 'pandas.core.frame.DataFrame'>\n",
            "RangeIndex: 51 entries, 0 to 50\n",
            "Data columns (total 4 columns):\n",
            " #   Column                     Non-Null Count  Dtype  \n",
            "---  ------                     --------------  -----  \n",
            " 0   provider_state             51 non-null     object \n",
            " 1   average_medicare_payments  51 non-null     float64\n",
            " 2   average_total_payments     51 non-null     float64\n",
            " 3   cover_rate                 51 non-null     float64\n",
            "dtypes: float64(3), object(1)\n",
            "memory usage: 1.7+ KB\n"
          ],
          "name": "stdout"
        }
      ]
    },
    {
      "cell_type": "code",
      "metadata": {
        "id": "BukDsJOF3118",
        "outputId": "1351745a-a4e8-41a0-b8bf-7f704add386a"
      },
      "source": [
        "fig = px.choropleth(location=df['provider_state'],locationmode='USA-states',color=df['cover_rate'],scope='usa')\n",
        "fig.show()"
      ],
      "execution_count": null,
      "outputs": [
        {
          "output_type": "error",
          "ename": "TypeError",
          "evalue": "choropleth() got an unexpected keyword argument 'cover'",
          "traceback": [
            "\u001b[0;31m---------------------------------------------------------------------------\u001b[0m",
            "\u001b[0;31mTypeError\u001b[0m                                 Traceback (most recent call last)",
            "\u001b[0;32m<ipython-input-42-120d7071a6c6>\u001b[0m in \u001b[0;36m<module>\u001b[0;34m\u001b[0m\n\u001b[0;32m----> 1\u001b[0;31m \u001b[0mfig\u001b[0m \u001b[0;34m=\u001b[0m \u001b[0mpx\u001b[0m\u001b[0;34m.\u001b[0m\u001b[0mchoropleth\u001b[0m\u001b[0;34m(\u001b[0m\u001b[0mlocations\u001b[0m\u001b[0;34m=\u001b[0m\u001b[0mdf\u001b[0m\u001b[0;34m[\u001b[0m\u001b[0;34m'provider_state'\u001b[0m\u001b[0;34m]\u001b[0m\u001b[0;34m,\u001b[0m\u001b[0mlocationmode\u001b[0m\u001b[0;34m=\u001b[0m\u001b[0;34m'USA-states'\u001b[0m\u001b[0;34m,\u001b[0m\u001b[0mcover\u001b[0m\u001b[0;34m=\u001b[0m\u001b[0mdf\u001b[0m\u001b[0;34m[\u001b[0m\u001b[0;34m'cover_rate'\u001b[0m\u001b[0;34m]\u001b[0m\u001b[0;34m,\u001b[0m\u001b[0mscope\u001b[0m\u001b[0;34m=\u001b[0m\u001b[0;34m'usa'\u001b[0m\u001b[0;34m)\u001b[0m\u001b[0;34m\u001b[0m\u001b[0;34m\u001b[0m\u001b[0m\n\u001b[0m\u001b[1;32m      2\u001b[0m \u001b[0mfig\u001b[0m\u001b[0;34m.\u001b[0m\u001b[0mshow\u001b[0m\u001b[0;34m(\u001b[0m\u001b[0;34m)\u001b[0m\u001b[0;34m\u001b[0m\u001b[0;34m\u001b[0m\u001b[0m\n",
            "\u001b[0;31mTypeError\u001b[0m: choropleth() got an unexpected keyword argument 'cover'"
          ]
        }
      ]
    },
    {
      "cell_type": "markdown",
      "metadata": {
        "id": "lVBr6OyG3118"
      },
      "source": [
        "#### 3.4 Why are the coverage rates for each state different?"
      ]
    },
    {
      "cell_type": "markdown",
      "metadata": {
        "id": "mtgfz-zB3118"
      },
      "source": [
        "We noticed that the coverage rates for each state in 2017 ranges from 0.76 (DC) to 0.91 (MD), so we would like to find the reason for the differences. We seek to clinical conditions (DRG_Definition in data), and list the clinical conditions with the highest covered charges for states with top 5 and bottom 5 coverage rates."
      ]
    },
    {
      "cell_type": "markdown",
      "metadata": {
        "id": "jVEhjWYj3118"
      },
      "source": [
        "Top clinical conditions for top 5 states:"
      ]
    },
    {
      "cell_type": "code",
      "metadata": {
        "id": "w7moAADw3118",
        "outputId": "53385990-ad7c-4f85-994e-cc65fc86e280"
      },
      "source": [
        "%%bigquery\n",
        "SELECT provider_state, \n",
        "  DRG_definition AS clinical_conditions,\n",
        "  SUM(Average_Medicare_Payments) as total_covered_charges\n",
        "FROM `ba775-team-5a.temp.inpatient_2017`\n",
        "WHERE provider_state IN ('MD', 'MT', 'MA', 'CA', 'MO')\n",
        "group by provider_state, DRG_definition\n",
        "ORDER BY provider_state, SUM(average_total_payments) desc"
      ],
      "execution_count": null,
      "outputs": [
        {
          "output_type": "execute_result",
          "data": {
            "text/html": [
              "<div>\n",
              "<style scoped>\n",
              "    .dataframe tbody tr th:only-of-type {\n",
              "        vertical-align: middle;\n",
              "    }\n",
              "\n",
              "    .dataframe tbody tr th {\n",
              "        vertical-align: top;\n",
              "    }\n",
              "\n",
              "    .dataframe thead th {\n",
              "        text-align: right;\n",
              "    }\n",
              "</style>\n",
              "<table border=\"1\" class=\"dataframe\">\n",
              "  <thead>\n",
              "    <tr style=\"text-align: right;\">\n",
              "      <th></th>\n",
              "      <th>provider_state</th>\n",
              "      <th>clinical_conditions</th>\n",
              "      <th>total_covered_charges</th>\n",
              "    </tr>\n",
              "  </thead>\n",
              "  <tbody>\n",
              "    <tr>\n",
              "      <th>0</th>\n",
              "      <td>CA</td>\n",
              "      <td>853 - INFECTIOUS &amp; PARASITIC DISEASES W O.R. P...</td>\n",
              "      <td>8.938661e+06</td>\n",
              "    </tr>\n",
              "    <tr>\n",
              "      <th>1</th>\n",
              "      <td>CA</td>\n",
              "      <td>870 - SEPTICEMIA OR SEVERE SEPSIS W MV &gt;96 HOURS</td>\n",
              "      <td>7.149665e+06</td>\n",
              "    </tr>\n",
              "    <tr>\n",
              "      <th>2</th>\n",
              "      <td>CA</td>\n",
              "      <td>003 - ECMO OR TRACH W MV &gt;96 HRS OR PDX EXC FA...</td>\n",
              "      <td>7.094965e+06</td>\n",
              "    </tr>\n",
              "    <tr>\n",
              "      <th>3</th>\n",
              "      <td>CA</td>\n",
              "      <td>871 - SEPTICEMIA OR SEVERE SEPSIS W/O MV &gt;96 H...</td>\n",
              "      <td>4.215364e+06</td>\n",
              "    </tr>\n",
              "    <tr>\n",
              "      <th>4</th>\n",
              "      <td>CA</td>\n",
              "      <td>470 - MAJOR JOINT REPLACEMENT OR REATTACHMENT ...</td>\n",
              "      <td>3.622862e+06</td>\n",
              "    </tr>\n",
              "    <tr>\n",
              "      <th>...</th>\n",
              "      <td>...</td>\n",
              "      <td>...</td>\n",
              "      <td>...</td>\n",
              "    </tr>\n",
              "    <tr>\n",
              "      <th>1708</th>\n",
              "      <td>MT</td>\n",
              "      <td>087 - TRAUMATIC STUPOR &amp; COMA, COMA &lt;1 HR W/O ...</td>\n",
              "      <td>4.113375e+03</td>\n",
              "    </tr>\n",
              "    <tr>\n",
              "      <th>1709</th>\n",
              "      <td>MT</td>\n",
              "      <td>282 - ACUTE MYOCARDIAL INFARCTION, DISCHARGED ...</td>\n",
              "      <td>3.109167e+03</td>\n",
              "    </tr>\n",
              "    <tr>\n",
              "      <th>1710</th>\n",
              "      <td>MT</td>\n",
              "      <td>563 - FX, SPRN, STRN &amp; DISL EXCEPT FEMUR, HIP,...</td>\n",
              "      <td>4.359733e+03</td>\n",
              "    </tr>\n",
              "    <tr>\n",
              "      <th>1711</th>\n",
              "      <td>MT</td>\n",
              "      <td>149 - DYSEQUILIBRIUM</td>\n",
              "      <td>3.515000e+03</td>\n",
              "    </tr>\n",
              "    <tr>\n",
              "      <th>1712</th>\n",
              "      <td>MT</td>\n",
              "      <td>881 - DEPRESSIVE NEUROSES</td>\n",
              "      <td>3.643909e+03</td>\n",
              "    </tr>\n",
              "  </tbody>\n",
              "</table>\n",
              "<p>1713 rows × 3 columns</p>\n",
              "</div>"
            ],
            "text/plain": [
              "     provider_state                                clinical_conditions  \\\n",
              "0                CA  853 - INFECTIOUS & PARASITIC DISEASES W O.R. P...   \n",
              "1                CA   870 - SEPTICEMIA OR SEVERE SEPSIS W MV >96 HOURS   \n",
              "2                CA  003 - ECMO OR TRACH W MV >96 HRS OR PDX EXC FA...   \n",
              "3                CA  871 - SEPTICEMIA OR SEVERE SEPSIS W/O MV >96 H...   \n",
              "4                CA  470 - MAJOR JOINT REPLACEMENT OR REATTACHMENT ...   \n",
              "...             ...                                                ...   \n",
              "1708             MT  087 - TRAUMATIC STUPOR & COMA, COMA <1 HR W/O ...   \n",
              "1709             MT  282 - ACUTE MYOCARDIAL INFARCTION, DISCHARGED ...   \n",
              "1710             MT  563 - FX, SPRN, STRN & DISL EXCEPT FEMUR, HIP,...   \n",
              "1711             MT                               149 - DYSEQUILIBRIUM   \n",
              "1712             MT                          881 - DEPRESSIVE NEUROSES   \n",
              "\n",
              "      total_covered_charges  \n",
              "0              8.938661e+06  \n",
              "1              7.149665e+06  \n",
              "2              7.094965e+06  \n",
              "3              4.215364e+06  \n",
              "4              3.622862e+06  \n",
              "...                     ...  \n",
              "1708           4.113375e+03  \n",
              "1709           3.109167e+03  \n",
              "1710           4.359733e+03  \n",
              "1711           3.515000e+03  \n",
              "1712           3.643909e+03  \n",
              "\n",
              "[1713 rows x 3 columns]"
            ]
          },
          "metadata": {
            "tags": []
          },
          "execution_count": 26
        }
      ]
    },
    {
      "cell_type": "markdown",
      "metadata": {
        "id": "XiU_8cRN3118"
      },
      "source": [
        "Top clinical conditions for bottom 5 states:"
      ]
    },
    {
      "cell_type": "code",
      "metadata": {
        "id": "_tOWZu0J3118",
        "outputId": "d181b15a-f876-4963-baa5-417d29c1300a"
      },
      "source": [
        "%%bigquery\n",
        "SELECT Provider_State, \n",
        "  DRG_definition AS clinical_conditions,\n",
        "  SUM(Average_Medicare_Payments) as total_covered_charges\n",
        "FROM `ba775-team-5a.temp.inpatient_2017`\n",
        "WHERE provider_state IN ('DE', 'VA', 'PA', 'HI', 'DC')\n",
        "GROUP BY Provider_State, DRG_definition\n",
        "ORDER BY Provider_State, SUM(average_total_payments) desc"
      ],
      "execution_count": null,
      "outputs": [
        {
          "output_type": "execute_result",
          "data": {
            "text/html": [
              "<div>\n",
              "<style scoped>\n",
              "    .dataframe tbody tr th:only-of-type {\n",
              "        vertical-align: middle;\n",
              "    }\n",
              "\n",
              "    .dataframe tbody tr th {\n",
              "        vertical-align: top;\n",
              "    }\n",
              "\n",
              "    .dataframe thead th {\n",
              "        text-align: right;\n",
              "    }\n",
              "</style>\n",
              "<table border=\"1\" class=\"dataframe\">\n",
              "  <thead>\n",
              "    <tr style=\"text-align: right;\">\n",
              "      <th></th>\n",
              "      <th>Provider_State</th>\n",
              "      <th>clinical_conditions</th>\n",
              "      <th>total_covered_charges</th>\n",
              "    </tr>\n",
              "  </thead>\n",
              "  <tbody>\n",
              "    <tr>\n",
              "      <th>0</th>\n",
              "      <td>DC</td>\n",
              "      <td>003 - ECMO OR TRACH W MV &gt;96 HRS OR PDX EXC FA...</td>\n",
              "      <td>439034.308000</td>\n",
              "    </tr>\n",
              "    <tr>\n",
              "      <th>1</th>\n",
              "      <td>DC</td>\n",
              "      <td>004 - TRACH W MV &gt;96 HRS OR PDX EXC FACE, MOUT...</td>\n",
              "      <td>337887.767970</td>\n",
              "    </tr>\n",
              "    <tr>\n",
              "      <th>2</th>\n",
              "      <td>DC</td>\n",
              "      <td>853 - INFECTIOUS &amp; PARASITIC DISEASES W O.R. P...</td>\n",
              "      <td>290908.799980</td>\n",
              "    </tr>\n",
              "    <tr>\n",
              "      <th>3</th>\n",
              "      <td>DC</td>\n",
              "      <td>870 - SEPTICEMIA OR SEVERE SEPSIS W MV &gt;96 HOURS</td>\n",
              "      <td>255107.603200</td>\n",
              "    </tr>\n",
              "    <tr>\n",
              "      <th>4</th>\n",
              "      <td>DC</td>\n",
              "      <td>981 - EXTENSIVE O.R. PROCEDURE UNRELATED TO PR...</td>\n",
              "      <td>212531.933600</td>\n",
              "    </tr>\n",
              "    <tr>\n",
              "      <th>...</th>\n",
              "      <td>...</td>\n",
              "      <td>...</td>\n",
              "      <td>...</td>\n",
              "    </tr>\n",
              "    <tr>\n",
              "      <th>1545</th>\n",
              "      <td>VA</td>\n",
              "      <td>185 - MAJOR CHEST TRAUMA W/O CC/MCC</td>\n",
              "      <td>4063.666667</td>\n",
              "    </tr>\n",
              "    <tr>\n",
              "      <th>1546</th>\n",
              "      <td>VA</td>\n",
              "      <td>179 - RESPIRATORY INFECTIONS &amp; INFLAMMATIONS W...</td>\n",
              "      <td>4731.000000</td>\n",
              "    </tr>\n",
              "    <tr>\n",
              "      <th>1547</th>\n",
              "      <td>VA</td>\n",
              "      <td>882 - NEUROSES EXCEPT DEPRESSIVE</td>\n",
              "      <td>4597.666667</td>\n",
              "    </tr>\n",
              "    <tr>\n",
              "      <th>1548</th>\n",
              "      <td>VA</td>\n",
              "      <td>072 - NONSPECIFIC CEREBROVASCULAR DISORDERS W/...</td>\n",
              "      <td>4004.307692</td>\n",
              "    </tr>\n",
              "    <tr>\n",
              "      <th>1549</th>\n",
              "      <td>VA</td>\n",
              "      <td>916 - ALLERGIC REACTIONS W/O MCC</td>\n",
              "      <td>2486.933333</td>\n",
              "    </tr>\n",
              "  </tbody>\n",
              "</table>\n",
              "<p>1550 rows × 3 columns</p>\n",
              "</div>"
            ],
            "text/plain": [
              "     Provider_State                                clinical_conditions  \\\n",
              "0                DC  003 - ECMO OR TRACH W MV >96 HRS OR PDX EXC FA...   \n",
              "1                DC  004 - TRACH W MV >96 HRS OR PDX EXC FACE, MOUT...   \n",
              "2                DC  853 - INFECTIOUS & PARASITIC DISEASES W O.R. P...   \n",
              "3                DC   870 - SEPTICEMIA OR SEVERE SEPSIS W MV >96 HOURS   \n",
              "4                DC  981 - EXTENSIVE O.R. PROCEDURE UNRELATED TO PR...   \n",
              "...             ...                                                ...   \n",
              "1545             VA                185 - MAJOR CHEST TRAUMA W/O CC/MCC   \n",
              "1546             VA  179 - RESPIRATORY INFECTIONS & INFLAMMATIONS W...   \n",
              "1547             VA                   882 - NEUROSES EXCEPT DEPRESSIVE   \n",
              "1548             VA  072 - NONSPECIFIC CEREBROVASCULAR DISORDERS W/...   \n",
              "1549             VA                   916 - ALLERGIC REACTIONS W/O MCC   \n",
              "\n",
              "      total_covered_charges  \n",
              "0             439034.308000  \n",
              "1             337887.767970  \n",
              "2             290908.799980  \n",
              "3             255107.603200  \n",
              "4             212531.933600  \n",
              "...                     ...  \n",
              "1545            4063.666667  \n",
              "1546            4731.000000  \n",
              "1547            4597.666667  \n",
              "1548            4004.307692  \n",
              "1549            2486.933333  \n",
              "\n",
              "[1550 rows x 3 columns]"
            ]
          },
          "metadata": {
            "tags": []
          },
          "execution_count": 27
        }
      ]
    },
    {
      "cell_type": "markdown",
      "metadata": {
        "id": "ZrEzKKUh3118"
      },
      "source": [
        "The clinical conditions with the most covered charges for each state are similar, including major joint replacement, septicemia, heart failure, etc. Therefore, we further examine the coverage rates for the common top clinical conditions for those 10 states, and find out that coverage rates for those clinical conditions are good indicators of overall coverage rates for each state. "
      ]
    },
    {
      "cell_type": "code",
      "metadata": {
        "id": "3cestdNZ3118",
        "outputId": "502e5d43-1286-429b-87b2-70eeb28695e2"
      },
      "source": [
        "%%bigquery\n",
        "SELECT provider_state, \n",
        "  DRG_definition AS clinical_conditions,\n",
        "  ROUND(SUM(Average_Medicare_Payments)/SUM(average_total_payments),3) AS cover_rate\n",
        "FROM `ba775-team-5a.temp.inpatient_2017`\n",
        "WHERE provider_state IN ('MD', 'MT', 'MA', 'CA', 'MO', 'DE', 'VA', 'PA', 'HI', 'DC')\n",
        "  AND DRG_definition in \n",
        "    (SELECT DRG_definition AS clinical_conditions\n",
        "    FROM `ba775-team-5a.temp.inpatient_2017`\n",
        "    group by DRG_definition\n",
        "    ORDER BY SUM(average_total_payments) desc\n",
        "    LIMIT 15)\n",
        "GROUP BY provider_state, DRG_definition\n",
        "ORDER BY provider_state, cover_rate DESC"
      ],
      "execution_count": null,
      "outputs": [
        {
          "output_type": "execute_result",
          "data": {
            "text/html": [
              "<div>\n",
              "<style scoped>\n",
              "    .dataframe tbody tr th:only-of-type {\n",
              "        vertical-align: middle;\n",
              "    }\n",
              "\n",
              "    .dataframe tbody tr th {\n",
              "        vertical-align: top;\n",
              "    }\n",
              "\n",
              "    .dataframe thead th {\n",
              "        text-align: right;\n",
              "    }\n",
              "</style>\n",
              "<table border=\"1\" class=\"dataframe\">\n",
              "  <thead>\n",
              "    <tr style=\"text-align: right;\">\n",
              "      <th></th>\n",
              "      <th>provider_state</th>\n",
              "      <th>clinical_conditions</th>\n",
              "      <th>cover_rate</th>\n",
              "    </tr>\n",
              "  </thead>\n",
              "  <tbody>\n",
              "    <tr>\n",
              "      <th>0</th>\n",
              "      <td>CA</td>\n",
              "      <td>003 - ECMO OR TRACH W MV &gt;96 HRS OR PDX EXC FA...</td>\n",
              "      <td>0.949</td>\n",
              "    </tr>\n",
              "    <tr>\n",
              "      <th>1</th>\n",
              "      <td>CA</td>\n",
              "      <td>207 - RESPIRATORY SYSTEM DIAGNOSIS W VENTILATO...</td>\n",
              "      <td>0.937</td>\n",
              "    </tr>\n",
              "    <tr>\n",
              "      <th>2</th>\n",
              "      <td>CA</td>\n",
              "      <td>870 - SEPTICEMIA OR SEVERE SEPSIS W MV &gt;96 HOURS</td>\n",
              "      <td>0.935</td>\n",
              "    </tr>\n",
              "    <tr>\n",
              "      <th>3</th>\n",
              "      <td>CA</td>\n",
              "      <td>981 - EXTENSIVE O.R. PROCEDURE UNRELATED TO PR...</td>\n",
              "      <td>0.932</td>\n",
              "    </tr>\n",
              "    <tr>\n",
              "      <th>4</th>\n",
              "      <td>CA</td>\n",
              "      <td>329 - MAJOR SMALL &amp; LARGE BOWEL PROCEDURES W MCC</td>\n",
              "      <td>0.928</td>\n",
              "    </tr>\n",
              "    <tr>\n",
              "      <th>...</th>\n",
              "      <td>...</td>\n",
              "      <td>...</td>\n",
              "      <td>...</td>\n",
              "    </tr>\n",
              "    <tr>\n",
              "      <th>142</th>\n",
              "      <td>VA</td>\n",
              "      <td>207 - RESPIRATORY SYSTEM DIAGNOSIS W VENTILATO...</td>\n",
              "      <td>0.809</td>\n",
              "    </tr>\n",
              "    <tr>\n",
              "      <th>143</th>\n",
              "      <td>VA</td>\n",
              "      <td>460 - SPINAL FUSION EXCEPT CERVICAL W/O MCC</td>\n",
              "      <td>0.809</td>\n",
              "    </tr>\n",
              "    <tr>\n",
              "      <th>144</th>\n",
              "      <td>VA</td>\n",
              "      <td>330 - MAJOR SMALL &amp; LARGE BOWEL PROCEDURES W CC</td>\n",
              "      <td>0.805</td>\n",
              "    </tr>\n",
              "    <tr>\n",
              "      <th>145</th>\n",
              "      <td>VA</td>\n",
              "      <td>470 - MAJOR JOINT REPLACEMENT OR REATTACHMENT ...</td>\n",
              "      <td>0.768</td>\n",
              "    </tr>\n",
              "    <tr>\n",
              "      <th>146</th>\n",
              "      <td>VA</td>\n",
              "      <td>004 - TRACH W MV &gt;96 HRS OR PDX EXC FACE, MOUT...</td>\n",
              "      <td>0.751</td>\n",
              "    </tr>\n",
              "  </tbody>\n",
              "</table>\n",
              "<p>147 rows × 3 columns</p>\n",
              "</div>"
            ],
            "text/plain": [
              "    provider_state                                clinical_conditions  \\\n",
              "0               CA  003 - ECMO OR TRACH W MV >96 HRS OR PDX EXC FA...   \n",
              "1               CA  207 - RESPIRATORY SYSTEM DIAGNOSIS W VENTILATO...   \n",
              "2               CA   870 - SEPTICEMIA OR SEVERE SEPSIS W MV >96 HOURS   \n",
              "3               CA  981 - EXTENSIVE O.R. PROCEDURE UNRELATED TO PR...   \n",
              "4               CA   329 - MAJOR SMALL & LARGE BOWEL PROCEDURES W MCC   \n",
              "..             ...                                                ...   \n",
              "142             VA  207 - RESPIRATORY SYSTEM DIAGNOSIS W VENTILATO...   \n",
              "143             VA        460 - SPINAL FUSION EXCEPT CERVICAL W/O MCC   \n",
              "144             VA    330 - MAJOR SMALL & LARGE BOWEL PROCEDURES W CC   \n",
              "145             VA  470 - MAJOR JOINT REPLACEMENT OR REATTACHMENT ...   \n",
              "146             VA  004 - TRACH W MV >96 HRS OR PDX EXC FACE, MOUT...   \n",
              "\n",
              "     cover_rate  \n",
              "0         0.949  \n",
              "1         0.937  \n",
              "2         0.935  \n",
              "3         0.932  \n",
              "4         0.928  \n",
              "..          ...  \n",
              "142       0.809  \n",
              "143       0.809  \n",
              "144       0.805  \n",
              "145       0.768  \n",
              "146       0.751  \n",
              "\n",
              "[147 rows x 3 columns]"
            ]
          },
          "metadata": {
            "tags": []
          },
          "execution_count": 28
        }
      ]
    },
    {
      "cell_type": "markdown",
      "metadata": {
        "id": "dmdcDJx_3118"
      },
      "source": [
        "## 4. Conclusions"
      ]
    },
    {
      "cell_type": "markdown",
      "metadata": {
        "id": "hs2R7w6T3118"
      },
      "source": [
        "Conclusions:\n",
        "1. Average total payment increased through 2011-2017.\n",
        "2. The clinical condition is the major factor on cover rate."
      ]
    },
    {
      "cell_type": "markdown",
      "metadata": {
        "id": "XZCXuFQB3118"
      },
      "source": [
        "## 5. References"
      ]
    },
    {
      "cell_type": "markdown",
      "metadata": {
        "id": "pTSJUWGm3118"
      },
      "source": [
        "Reference：https://www.cms.gov/Research-Statistics-Data-and-Systems/Statistics-Trends-and-Reports/Medicare-Provider-Charge-Data"
      ]
    }
  ]
}